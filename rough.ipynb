{
 "cells": [
  {
   "cell_type": "code",
   "execution_count": 14,
   "metadata": {},
   "outputs": [],
   "source": [
    "import numpy as np\n",
    "import pandas as pd\n",
    "import yfinance as yf"
   ]
  },
  {
   "cell_type": "code",
   "execution_count": null,
   "metadata": {},
   "outputs": [],
   "source": []
  },
  {
   "cell_type": "code",
   "execution_count": 2,
   "metadata": {},
   "outputs": [],
   "source": [
    "df = pd.read_json(\"https://api.binance.com/api/v3/ticker/24hr\")"
   ]
  },
  {
   "cell_type": "code",
   "execution_count": 3,
   "metadata": {},
   "outputs": [
    {
     "data": {
      "text/html": [
       "<div>\n",
       "<style scoped>\n",
       "    .dataframe tbody tr th:only-of-type {\n",
       "        vertical-align: middle;\n",
       "    }\n",
       "\n",
       "    .dataframe tbody tr th {\n",
       "        vertical-align: top;\n",
       "    }\n",
       "\n",
       "    .dataframe thead th {\n",
       "        text-align: right;\n",
       "    }\n",
       "</style>\n",
       "<table border=\"1\" class=\"dataframe\">\n",
       "  <thead>\n",
       "    <tr style=\"text-align: right;\">\n",
       "      <th></th>\n",
       "      <th>symbol</th>\n",
       "      <th>priceChange</th>\n",
       "      <th>priceChangePercent</th>\n",
       "      <th>weightedAvgPrice</th>\n",
       "      <th>prevClosePrice</th>\n",
       "      <th>lastPrice</th>\n",
       "      <th>lastQty</th>\n",
       "      <th>bidPrice</th>\n",
       "      <th>bidQty</th>\n",
       "      <th>askPrice</th>\n",
       "      <th>...</th>\n",
       "      <th>openPrice</th>\n",
       "      <th>highPrice</th>\n",
       "      <th>lowPrice</th>\n",
       "      <th>volume</th>\n",
       "      <th>quoteVolume</th>\n",
       "      <th>openTime</th>\n",
       "      <th>closeTime</th>\n",
       "      <th>firstId</th>\n",
       "      <th>lastId</th>\n",
       "      <th>count</th>\n",
       "    </tr>\n",
       "  </thead>\n",
       "  <tbody>\n",
       "    <tr>\n",
       "      <th>0</th>\n",
       "      <td>ETHBTC</td>\n",
       "      <td>-0.000370</td>\n",
       "      <td>-0.949</td>\n",
       "      <td>0.038705</td>\n",
       "      <td>0.039000</td>\n",
       "      <td>0.038620</td>\n",
       "      <td>0.0183</td>\n",
       "      <td>0.038610</td>\n",
       "      <td>47.6683</td>\n",
       "      <td>0.038620</td>\n",
       "      <td>...</td>\n",
       "      <td>0.038990</td>\n",
       "      <td>0.039320</td>\n",
       "      <td>0.038330</td>\n",
       "      <td>2.927264e+04</td>\n",
       "      <td>1.133011e+03</td>\n",
       "      <td>1726588211002</td>\n",
       "      <td>1726674611002</td>\n",
       "      <td>466531950</td>\n",
       "      <td>466661069</td>\n",
       "      <td>129120</td>\n",
       "    </tr>\n",
       "    <tr>\n",
       "      <th>1</th>\n",
       "      <td>LTCBTC</td>\n",
       "      <td>0.000007</td>\n",
       "      <td>0.669</td>\n",
       "      <td>0.001055</td>\n",
       "      <td>0.001046</td>\n",
       "      <td>0.001053</td>\n",
       "      <td>1.0000</td>\n",
       "      <td>0.001053</td>\n",
       "      <td>146.1550</td>\n",
       "      <td>0.001054</td>\n",
       "      <td>...</td>\n",
       "      <td>0.001046</td>\n",
       "      <td>0.001068</td>\n",
       "      <td>0.001038</td>\n",
       "      <td>5.030297e+04</td>\n",
       "      <td>5.306826e+01</td>\n",
       "      <td>1726588211244</td>\n",
       "      <td>1726674611244</td>\n",
       "      <td>99843780</td>\n",
       "      <td>99864245</td>\n",
       "      <td>20466</td>\n",
       "    </tr>\n",
       "    <tr>\n",
       "      <th>2</th>\n",
       "      <td>BNBBTC</td>\n",
       "      <td>0.000026</td>\n",
       "      <td>0.288</td>\n",
       "      <td>0.009045</td>\n",
       "      <td>0.009024</td>\n",
       "      <td>0.009050</td>\n",
       "      <td>0.0460</td>\n",
       "      <td>0.009049</td>\n",
       "      <td>1.9530</td>\n",
       "      <td>0.009050</td>\n",
       "      <td>...</td>\n",
       "      <td>0.009024</td>\n",
       "      <td>0.009109</td>\n",
       "      <td>0.008965</td>\n",
       "      <td>1.842282e+04</td>\n",
       "      <td>1.666389e+02</td>\n",
       "      <td>1726588210752</td>\n",
       "      <td>1726674610752</td>\n",
       "      <td>258341453</td>\n",
       "      <td>258406875</td>\n",
       "      <td>65423</td>\n",
       "    </tr>\n",
       "    <tr>\n",
       "      <th>3</th>\n",
       "      <td>NEOBTC</td>\n",
       "      <td>-0.000004</td>\n",
       "      <td>-2.584</td>\n",
       "      <td>0.000153</td>\n",
       "      <td>0.000155</td>\n",
       "      <td>0.000151</td>\n",
       "      <td>10.0900</td>\n",
       "      <td>0.000151</td>\n",
       "      <td>257.7400</td>\n",
       "      <td>0.000151</td>\n",
       "      <td>...</td>\n",
       "      <td>0.000155</td>\n",
       "      <td>0.000156</td>\n",
       "      <td>0.000151</td>\n",
       "      <td>6.993830e+03</td>\n",
       "      <td>1.071787e+00</td>\n",
       "      <td>1726588211060</td>\n",
       "      <td>1726674611060</td>\n",
       "      <td>46655898</td>\n",
       "      <td>46656561</td>\n",
       "      <td>664</td>\n",
       "    </tr>\n",
       "    <tr>\n",
       "      <th>4</th>\n",
       "      <td>QTUMETH</td>\n",
       "      <td>0.000007</td>\n",
       "      <td>0.738</td>\n",
       "      <td>0.000969</td>\n",
       "      <td>0.000950</td>\n",
       "      <td>0.000956</td>\n",
       "      <td>47.1000</td>\n",
       "      <td>0.000951</td>\n",
       "      <td>1835.9000</td>\n",
       "      <td>0.000954</td>\n",
       "      <td>...</td>\n",
       "      <td>0.000949</td>\n",
       "      <td>0.000977</td>\n",
       "      <td>0.000949</td>\n",
       "      <td>1.821400e+03</td>\n",
       "      <td>1.764782e+00</td>\n",
       "      <td>1726588203708</td>\n",
       "      <td>1726674603708</td>\n",
       "      <td>5460433</td>\n",
       "      <td>5460555</td>\n",
       "      <td>123</td>\n",
       "    </tr>\n",
       "    <tr>\n",
       "      <th>...</th>\n",
       "      <td>...</td>\n",
       "      <td>...</td>\n",
       "      <td>...</td>\n",
       "      <td>...</td>\n",
       "      <td>...</td>\n",
       "      <td>...</td>\n",
       "      <td>...</td>\n",
       "      <td>...</td>\n",
       "      <td>...</td>\n",
       "      <td>...</td>\n",
       "      <td>...</td>\n",
       "      <td>...</td>\n",
       "      <td>...</td>\n",
       "      <td>...</td>\n",
       "      <td>...</td>\n",
       "      <td>...</td>\n",
       "      <td>...</td>\n",
       "      <td>...</td>\n",
       "      <td>...</td>\n",
       "      <td>...</td>\n",
       "      <td>...</td>\n",
       "    </tr>\n",
       "    <tr>\n",
       "      <th>2735</th>\n",
       "      <td>POLUSDC</td>\n",
       "      <td>-0.013400</td>\n",
       "      <td>-3.459</td>\n",
       "      <td>0.380317</td>\n",
       "      <td>0.387100</td>\n",
       "      <td>0.374000</td>\n",
       "      <td>2287.3000</td>\n",
       "      <td>0.373800</td>\n",
       "      <td>326.9000</td>\n",
       "      <td>0.374100</td>\n",
       "      <td>...</td>\n",
       "      <td>0.387400</td>\n",
       "      <td>0.389000</td>\n",
       "      <td>0.372600</td>\n",
       "      <td>7.460505e+05</td>\n",
       "      <td>2.837360e+05</td>\n",
       "      <td>1726588210222</td>\n",
       "      <td>1726674610222</td>\n",
       "      <td>28003</td>\n",
       "      <td>30164</td>\n",
       "      <td>2162</td>\n",
       "    </tr>\n",
       "    <tr>\n",
       "      <th>2736</th>\n",
       "      <td>POLUSDT</td>\n",
       "      <td>-0.013700</td>\n",
       "      <td>-3.535</td>\n",
       "      <td>0.379856</td>\n",
       "      <td>0.387300</td>\n",
       "      <td>0.373800</td>\n",
       "      <td>1616.1000</td>\n",
       "      <td>0.373800</td>\n",
       "      <td>2975.5000</td>\n",
       "      <td>0.373900</td>\n",
       "      <td>...</td>\n",
       "      <td>0.387500</td>\n",
       "      <td>0.389300</td>\n",
       "      <td>0.372200</td>\n",
       "      <td>3.600250e+07</td>\n",
       "      <td>1.367576e+07</td>\n",
       "      <td>1726588207670</td>\n",
       "      <td>1726674607670</td>\n",
       "      <td>548943</td>\n",
       "      <td>608943</td>\n",
       "      <td>60001</td>\n",
       "    </tr>\n",
       "    <tr>\n",
       "      <th>2737</th>\n",
       "      <td>NEIROUSDT</td>\n",
       "      <td>0.000370</td>\n",
       "      <td>85.964</td>\n",
       "      <td>0.000732</td>\n",
       "      <td>0.000430</td>\n",
       "      <td>0.000799</td>\n",
       "      <td>273392.0000</td>\n",
       "      <td>0.000799</td>\n",
       "      <td>729057.0000</td>\n",
       "      <td>0.000800</td>\n",
       "      <td>...</td>\n",
       "      <td>0.000430</td>\n",
       "      <td>0.000910</td>\n",
       "      <td>0.000430</td>\n",
       "      <td>9.310529e+11</td>\n",
       "      <td>6.812277e+08</td>\n",
       "      <td>1726588211259</td>\n",
       "      <td>1726674611259</td>\n",
       "      <td>1289802</td>\n",
       "      <td>3253885</td>\n",
       "      <td>1964084</td>\n",
       "    </tr>\n",
       "    <tr>\n",
       "      <th>2738</th>\n",
       "      <td>TURBOUSDT</td>\n",
       "      <td>0.000467</td>\n",
       "      <td>10.327</td>\n",
       "      <td>0.005187</td>\n",
       "      <td>0.004522</td>\n",
       "      <td>0.004989</td>\n",
       "      <td>2925.0000</td>\n",
       "      <td>0.004989</td>\n",
       "      <td>44181.0000</td>\n",
       "      <td>0.004990</td>\n",
       "      <td>...</td>\n",
       "      <td>0.004522</td>\n",
       "      <td>0.005574</td>\n",
       "      <td>0.004512</td>\n",
       "      <td>1.171160e+10</td>\n",
       "      <td>6.074403e+07</td>\n",
       "      <td>1726588209701</td>\n",
       "      <td>1726674609701</td>\n",
       "      <td>157708</td>\n",
       "      <td>369423</td>\n",
       "      <td>211716</td>\n",
       "    </tr>\n",
       "    <tr>\n",
       "      <th>2739</th>\n",
       "      <td>1MBABYDOGEUSDT</td>\n",
       "      <td>0.000341</td>\n",
       "      <td>18.619</td>\n",
       "      <td>0.002169</td>\n",
       "      <td>0.001833</td>\n",
       "      <td>0.002174</td>\n",
       "      <td>460.0000</td>\n",
       "      <td>0.002174</td>\n",
       "      <td>76320.0000</td>\n",
       "      <td>0.002174</td>\n",
       "      <td>...</td>\n",
       "      <td>0.001832</td>\n",
       "      <td>0.002455</td>\n",
       "      <td>0.001821</td>\n",
       "      <td>6.943723e+10</td>\n",
       "      <td>1.505819e+08</td>\n",
       "      <td>1726588210785</td>\n",
       "      <td>1726674610785</td>\n",
       "      <td>645015</td>\n",
       "      <td>1226257</td>\n",
       "      <td>581243</td>\n",
       "    </tr>\n",
       "  </tbody>\n",
       "</table>\n",
       "<p>2740 rows × 21 columns</p>\n",
       "</div>"
      ],
      "text/plain": [
       "              symbol  priceChange  priceChangePercent  weightedAvgPrice  \\\n",
       "0             ETHBTC    -0.000370              -0.949          0.038705   \n",
       "1             LTCBTC     0.000007               0.669          0.001055   \n",
       "2             BNBBTC     0.000026               0.288          0.009045   \n",
       "3             NEOBTC    -0.000004              -2.584          0.000153   \n",
       "4            QTUMETH     0.000007               0.738          0.000969   \n",
       "...              ...          ...                 ...               ...   \n",
       "2735         POLUSDC    -0.013400              -3.459          0.380317   \n",
       "2736         POLUSDT    -0.013700              -3.535          0.379856   \n",
       "2737       NEIROUSDT     0.000370              85.964          0.000732   \n",
       "2738       TURBOUSDT     0.000467              10.327          0.005187   \n",
       "2739  1MBABYDOGEUSDT     0.000341              18.619          0.002169   \n",
       "\n",
       "      prevClosePrice  lastPrice      lastQty  bidPrice       bidQty  askPrice  \\\n",
       "0           0.039000   0.038620       0.0183  0.038610      47.6683  0.038620   \n",
       "1           0.001046   0.001053       1.0000  0.001053     146.1550  0.001054   \n",
       "2           0.009024   0.009050       0.0460  0.009049       1.9530  0.009050   \n",
       "3           0.000155   0.000151      10.0900  0.000151     257.7400  0.000151   \n",
       "4           0.000950   0.000956      47.1000  0.000951    1835.9000  0.000954   \n",
       "...              ...        ...          ...       ...          ...       ...   \n",
       "2735        0.387100   0.374000    2287.3000  0.373800     326.9000  0.374100   \n",
       "2736        0.387300   0.373800    1616.1000  0.373800    2975.5000  0.373900   \n",
       "2737        0.000430   0.000799  273392.0000  0.000799  729057.0000  0.000800   \n",
       "2738        0.004522   0.004989    2925.0000  0.004989   44181.0000  0.004990   \n",
       "2739        0.001833   0.002174     460.0000  0.002174   76320.0000  0.002174   \n",
       "\n",
       "      ...  openPrice  highPrice  lowPrice        volume   quoteVolume  \\\n",
       "0     ...   0.038990   0.039320  0.038330  2.927264e+04  1.133011e+03   \n",
       "1     ...   0.001046   0.001068  0.001038  5.030297e+04  5.306826e+01   \n",
       "2     ...   0.009024   0.009109  0.008965  1.842282e+04  1.666389e+02   \n",
       "3     ...   0.000155   0.000156  0.000151  6.993830e+03  1.071787e+00   \n",
       "4     ...   0.000949   0.000977  0.000949  1.821400e+03  1.764782e+00   \n",
       "...   ...        ...        ...       ...           ...           ...   \n",
       "2735  ...   0.387400   0.389000  0.372600  7.460505e+05  2.837360e+05   \n",
       "2736  ...   0.387500   0.389300  0.372200  3.600250e+07  1.367576e+07   \n",
       "2737  ...   0.000430   0.000910  0.000430  9.310529e+11  6.812277e+08   \n",
       "2738  ...   0.004522   0.005574  0.004512  1.171160e+10  6.074403e+07   \n",
       "2739  ...   0.001832   0.002455  0.001821  6.943723e+10  1.505819e+08   \n",
       "\n",
       "           openTime      closeTime    firstId     lastId    count  \n",
       "0     1726588211002  1726674611002  466531950  466661069   129120  \n",
       "1     1726588211244  1726674611244   99843780   99864245    20466  \n",
       "2     1726588210752  1726674610752  258341453  258406875    65423  \n",
       "3     1726588211060  1726674611060   46655898   46656561      664  \n",
       "4     1726588203708  1726674603708    5460433    5460555      123  \n",
       "...             ...            ...        ...        ...      ...  \n",
       "2735  1726588210222  1726674610222      28003      30164     2162  \n",
       "2736  1726588207670  1726674607670     548943     608943    60001  \n",
       "2737  1726588211259  1726674611259    1289802    3253885  1964084  \n",
       "2738  1726588209701  1726674609701     157708     369423   211716  \n",
       "2739  1726588210785  1726674610785     645015    1226257   581243  \n",
       "\n",
       "[2740 rows x 21 columns]"
      ]
     },
     "execution_count": 3,
     "metadata": {},
     "output_type": "execute_result"
    }
   ],
   "source": [
    "df"
   ]
  },
  {
   "cell_type": "code",
   "execution_count": 5,
   "metadata": {},
   "outputs": [
    {
     "data": {
      "text/plain": [
       "array([[-1.19961314,  0.63009545],\n",
       "       [ 0.70571353,  2.39449239]])"
      ]
     },
     "execution_count": 5,
     "metadata": {},
     "output_type": "execute_result"
    }
   ],
   "source": [
    "np.random.randn(2, 2)"
   ]
  },
  {
   "cell_type": "code",
   "execution_count": 6,
   "metadata": {},
   "outputs": [
    {
     "name": "stdout",
     "output_type": "stream",
     "text": [
      "Collecting pytest\n",
      "  Downloading pytest-8.3.3-py3-none-any.whl.metadata (7.5 kB)\n",
      "Collecting iniconfig (from pytest)\n",
      "  Downloading iniconfig-2.0.0-py3-none-any.whl.metadata (2.6 kB)\n",
      "Requirement already satisfied: packaging in /opt/miniconda3/envs/backtesting/lib/python3.10/site-packages (from pytest) (24.0)\n",
      "Collecting pluggy<2,>=1.5 (from pytest)\n",
      "  Downloading pluggy-1.5.0-py3-none-any.whl.metadata (4.8 kB)\n",
      "Requirement already satisfied: exceptiongroup>=1.0.0rc8 in /opt/miniconda3/envs/backtesting/lib/python3.10/site-packages (from pytest) (1.2.1)\n",
      "Requirement already satisfied: tomli>=1 in /opt/miniconda3/envs/backtesting/lib/python3.10/site-packages (from pytest) (2.0.1)\n",
      "Downloading pytest-8.3.3-py3-none-any.whl (342 kB)\n",
      "Downloading pluggy-1.5.0-py3-none-any.whl (20 kB)\n",
      "Downloading iniconfig-2.0.0-py3-none-any.whl (5.9 kB)\n",
      "Installing collected packages: pluggy, iniconfig, pytest\n",
      "Successfully installed iniconfig-2.0.0 pluggy-1.5.0 pytest-8.3.3\n"
     ]
    }
   ],
   "source": [
    "# install pytest\n",
    "%pip install pytest"
   ]
  },
  {
   "cell_type": "code",
   "execution_count": 9,
   "metadata": {},
   "outputs": [
    {
     "name": "stdout",
     "output_type": "stream",
     "text": [
      "Collecting pygwalker\n",
      "  Downloading pygwalker-0.4.9.8-py3-none-any.whl.metadata (20 kB)\n",
      "Collecting appdirs (from pygwalker)\n",
      "  Downloading appdirs-1.4.4-py2.py3-none-any.whl.metadata (9.0 kB)\n",
      "Requirement already satisfied: arrow in /opt/miniconda3/envs/backtesting/lib/python3.10/site-packages (from pygwalker) (1.3.0)\n",
      "Collecting astor (from pygwalker)\n",
      "  Downloading astor-0.8.1-py2.py3-none-any.whl.metadata (4.2 kB)\n",
      "Requirement already satisfied: cachetools in /opt/miniconda3/envs/backtesting/lib/python3.10/site-packages (from pygwalker) (5.5.0)\n",
      "Collecting duckdb<2.0.0,>=0.10.1 (from pygwalker)\n",
      "  Downloading duckdb-1.1.0-cp310-cp310-macosx_12_0_arm64.whl.metadata (762 bytes)\n",
      "Collecting gw-dsl-parser==0.1.49.1 (from pygwalker)\n",
      "  Downloading gw_dsl_parser-0.1.49.1-py3-none-any.whl.metadata (1.2 kB)\n",
      "Collecting ipylab<=1.0.0 (from pygwalker)\n",
      "  Downloading ipylab-1.0.0-py3-none-any.whl.metadata (6.7 kB)\n",
      "Requirement already satisfied: ipython in /opt/miniconda3/envs/backtesting/lib/python3.10/site-packages (from pygwalker) (8.24.0)\n",
      "Requirement already satisfied: ipywidgets in /opt/miniconda3/envs/backtesting/lib/python3.10/site-packages (from pygwalker) (8.1.2)\n",
      "Requirement already satisfied: jinja2 in /opt/miniconda3/envs/backtesting/lib/python3.10/site-packages (from pygwalker) (3.1.3)\n",
      "Collecting kanaries-track==0.0.5 (from pygwalker)\n",
      "  Downloading kanaries_track-0.0.5-py3-none-any.whl.metadata (913 bytes)\n",
      "Requirement already satisfied: numpy<2.0.0 in /opt/miniconda3/envs/backtesting/lib/python3.10/site-packages (from pygwalker) (1.26.4)\n",
      "Requirement already satisfied: packaging in /opt/miniconda3/envs/backtesting/lib/python3.10/site-packages (from pygwalker) (24.0)\n",
      "Requirement already satisfied: pandas in /opt/miniconda3/envs/backtesting/lib/python3.10/site-packages (from pygwalker) (2.2.2)\n",
      "Requirement already satisfied: psutil in /opt/miniconda3/envs/backtesting/lib/python3.10/site-packages (from pygwalker) (5.9.0)\n",
      "Requirement already satisfied: pyarrow in /opt/miniconda3/envs/backtesting/lib/python3.10/site-packages (from pygwalker) (17.0.0)\n",
      "Collecting pydantic (from pygwalker)\n",
      "  Downloading pydantic-2.9.2-py3-none-any.whl.metadata (149 kB)\n",
      "Requirement already satisfied: pytz in /opt/miniconda3/envs/backtesting/lib/python3.10/site-packages (from pygwalker) (2024.1)\n",
      "Collecting quickjs (from pygwalker)\n",
      "  Downloading quickjs-1.19.4.tar.gz (456 kB)\n",
      "  Preparing metadata (setup.py) ... \u001b[?25ldone\n",
      "\u001b[?25hRequirement already satisfied: requests in /opt/miniconda3/envs/backtesting/lib/python3.10/site-packages (from pygwalker) (2.31.0)\n",
      "Collecting segment-analytics-python==2.2.3 (from pygwalker)\n",
      "  Downloading segment_analytics_python-2.2.3-py2.py3-none-any.whl.metadata (1.6 kB)\n",
      "Collecting sqlalchemy (from pygwalker)\n",
      "  Downloading SQLAlchemy-2.0.35-cp310-cp310-macosx_11_0_arm64.whl.metadata (9.6 kB)\n",
      "Collecting sqlglot>=23.15.8 (from pygwalker)\n",
      "  Downloading sqlglot-25.21.3-py3-none-any.whl.metadata (19 kB)\n",
      "Requirement already satisfied: typing-extensions in /opt/miniconda3/envs/backtesting/lib/python3.10/site-packages (from pygwalker) (4.11.0)\n",
      "Collecting wasmtime>=12.0.0 (from gw-dsl-parser==0.1.49.1->pygwalker)\n",
      "  Downloading wasmtime-24.0.0-py3-none-macosx_11_0_arm64.whl.metadata (7.4 kB)\n",
      "Collecting backoff>=2.2.1 (from kanaries-track==0.0.5->pygwalker)\n",
      "  Downloading backoff-2.2.1-py3-none-any.whl.metadata (14 kB)\n",
      "Collecting dateutils>=0.6.12 (from kanaries-track==0.0.5->pygwalker)\n",
      "  Downloading dateutils-0.6.12-py2.py3-none-any.whl.metadata (1.3 kB)\n",
      "Requirement already satisfied: monotonic~=1.5 in /opt/miniconda3/envs/backtesting/lib/python3.10/site-packages (from segment-analytics-python==2.2.3->pygwalker) (1.6)\n",
      "Requirement already satisfied: python-dateutil~=2.2 in /opt/miniconda3/envs/backtesting/lib/python3.10/site-packages (from segment-analytics-python==2.2.3->pygwalker) (2.9.0)\n",
      "Requirement already satisfied: comm>=0.1.3 in /opt/miniconda3/envs/backtesting/lib/python3.10/site-packages (from ipywidgets->pygwalker) (0.2.2)\n",
      "Requirement already satisfied: traitlets>=4.3.1 in /opt/miniconda3/envs/backtesting/lib/python3.10/site-packages (from ipywidgets->pygwalker) (5.14.3)\n",
      "Requirement already satisfied: widgetsnbextension~=4.0.10 in /opt/miniconda3/envs/backtesting/lib/python3.10/site-packages (from ipywidgets->pygwalker) (4.0.10)\n",
      "Requirement already satisfied: jupyterlab-widgets~=3.0.10 in /opt/miniconda3/envs/backtesting/lib/python3.10/site-packages (from ipywidgets->pygwalker) (3.0.10)\n",
      "Requirement already satisfied: decorator in /opt/miniconda3/envs/backtesting/lib/python3.10/site-packages (from ipython->pygwalker) (5.1.1)\n",
      "Requirement already satisfied: jedi>=0.16 in /opt/miniconda3/envs/backtesting/lib/python3.10/site-packages (from ipython->pygwalker) (0.19.1)\n",
      "Requirement already satisfied: matplotlib-inline in /opt/miniconda3/envs/backtesting/lib/python3.10/site-packages (from ipython->pygwalker) (0.1.7)\n",
      "Requirement already satisfied: prompt-toolkit<3.1.0,>=3.0.41 in /opt/miniconda3/envs/backtesting/lib/python3.10/site-packages (from ipython->pygwalker) (3.0.43)\n",
      "Requirement already satisfied: pygments>=2.4.0 in /opt/miniconda3/envs/backtesting/lib/python3.10/site-packages (from ipython->pygwalker) (2.17.2)\n",
      "Requirement already satisfied: stack-data in /opt/miniconda3/envs/backtesting/lib/python3.10/site-packages (from ipython->pygwalker) (0.6.2)\n",
      "Requirement already satisfied: exceptiongroup in /opt/miniconda3/envs/backtesting/lib/python3.10/site-packages (from ipython->pygwalker) (1.2.1)\n",
      "Requirement already satisfied: pexpect>4.3 in /opt/miniconda3/envs/backtesting/lib/python3.10/site-packages (from ipython->pygwalker) (4.9.0)\n",
      "Requirement already satisfied: charset-normalizer<4,>=2 in /opt/miniconda3/envs/backtesting/lib/python3.10/site-packages (from requests->pygwalker) (3.3.2)\n",
      "Requirement already satisfied: idna<4,>=2.5 in /opt/miniconda3/envs/backtesting/lib/python3.10/site-packages (from requests->pygwalker) (3.7)\n",
      "Requirement already satisfied: urllib3<3,>=1.21.1 in /opt/miniconda3/envs/backtesting/lib/python3.10/site-packages (from requests->pygwalker) (2.2.1)\n",
      "Requirement already satisfied: certifi>=2017.4.17 in /opt/miniconda3/envs/backtesting/lib/python3.10/site-packages (from requests->pygwalker) (2024.2.2)\n",
      "Requirement already satisfied: types-python-dateutil>=2.8.10 in /opt/miniconda3/envs/backtesting/lib/python3.10/site-packages (from arrow->pygwalker) (2.9.0.20240316)\n",
      "Requirement already satisfied: MarkupSafe>=2.0 in /opt/miniconda3/envs/backtesting/lib/python3.10/site-packages (from jinja2->pygwalker) (2.1.3)\n",
      "Requirement already satisfied: tzdata>=2022.7 in /opt/miniconda3/envs/backtesting/lib/python3.10/site-packages (from pandas->pygwalker) (2024.1)\n",
      "Collecting annotated-types>=0.6.0 (from pydantic->pygwalker)\n",
      "  Downloading annotated_types-0.7.0-py3-none-any.whl.metadata (15 kB)\n",
      "Collecting pydantic-core==2.23.4 (from pydantic->pygwalker)\n",
      "  Downloading pydantic_core-2.23.4-cp310-cp310-macosx_11_0_arm64.whl.metadata (6.6 kB)\n",
      "Requirement already satisfied: parso<0.9.0,>=0.8.3 in /opt/miniconda3/envs/backtesting/lib/python3.10/site-packages (from jedi>=0.16->ipython->pygwalker) (0.8.4)\n",
      "Requirement already satisfied: ptyprocess>=0.5 in /opt/miniconda3/envs/backtesting/lib/python3.10/site-packages (from pexpect>4.3->ipython->pygwalker) (0.7.0)\n",
      "Requirement already satisfied: wcwidth in /opt/miniconda3/envs/backtesting/lib/python3.10/site-packages (from prompt-toolkit<3.1.0,>=3.0.41->ipython->pygwalker) (0.2.13)\n",
      "Requirement already satisfied: six>=1.5 in /opt/miniconda3/envs/backtesting/lib/python3.10/site-packages (from python-dateutil~=2.2->segment-analytics-python==2.2.3->pygwalker) (1.16.0)\n",
      "Requirement already satisfied: importlib-resources>=5.10 in /opt/miniconda3/envs/backtesting/lib/python3.10/site-packages (from wasmtime>=12.0.0->gw-dsl-parser==0.1.49.1->pygwalker) (6.4.2)\n",
      "Requirement already satisfied: executing>=1.2.0 in /opt/miniconda3/envs/backtesting/lib/python3.10/site-packages (from stack-data->ipython->pygwalker) (2.0.1)\n",
      "Requirement already satisfied: asttokens>=2.1.0 in /opt/miniconda3/envs/backtesting/lib/python3.10/site-packages (from stack-data->ipython->pygwalker) (2.4.1)\n",
      "Requirement already satisfied: pure-eval in /opt/miniconda3/envs/backtesting/lib/python3.10/site-packages (from stack-data->ipython->pygwalker) (0.2.2)\n",
      "Downloading pygwalker-0.4.9.8-py3-none-any.whl (2.3 MB)\n",
      "\u001b[2K   \u001b[38;2;114;156;31m━━━━━━━━━━━━━━━━━━━━━━━━━━━━━━━━━━━━━━━━\u001b[0m \u001b[32m2.3/2.3 MB\u001b[0m \u001b[31m8.7 MB/s\u001b[0m eta \u001b[36m0:00:00\u001b[0m[31m9.1 MB/s\u001b[0m eta \u001b[36m0:00:01\u001b[0m\n",
      "\u001b[?25hDownloading gw_dsl_parser-0.1.49.1-py3-none-any.whl (956 kB)\n",
      "\u001b[2K   \u001b[38;2;114;156;31m━━━━━━━━━━━━━━━━━━━━━━━━━━━━━━━━━━━━━━━━\u001b[0m \u001b[32m956.2/956.2 kB\u001b[0m \u001b[31m8.4 MB/s\u001b[0m eta \u001b[36m0:00:00\u001b[0m\n",
      "\u001b[?25hDownloading kanaries_track-0.0.5-py3-none-any.whl (8.6 kB)\n",
      "Downloading segment_analytics_python-2.2.3-py2.py3-none-any.whl (24 kB)\n",
      "Downloading duckdb-1.1.0-cp310-cp310-macosx_12_0_arm64.whl (15.4 MB)\n",
      "\u001b[2K   \u001b[38;2;114;156;31m━━━━━━━━━━━━━━━━━━━━━━━━━━━━━━━━━━━━━━━━\u001b[0m \u001b[32m15.4/15.4 MB\u001b[0m \u001b[31m7.4 MB/s\u001b[0m eta \u001b[36m0:00:00\u001b[0m[36m0:00:01\u001b[0mm eta \u001b[36m0:00:01\u001b[0m\n",
      "\u001b[?25hDownloading ipylab-1.0.0-py3-none-any.whl (100 kB)\n",
      "Downloading sqlglot-25.21.3-py3-none-any.whl (413 kB)\n",
      "Downloading appdirs-1.4.4-py2.py3-none-any.whl (9.6 kB)\n",
      "Downloading astor-0.8.1-py2.py3-none-any.whl (27 kB)\n",
      "Downloading pydantic-2.9.2-py3-none-any.whl (434 kB)\n",
      "Downloading pydantic_core-2.23.4-cp310-cp310-macosx_11_0_arm64.whl (1.8 MB)\n",
      "\u001b[2K   \u001b[38;2;114;156;31m━━━━━━━━━━━━━━━━━━━━━━━━━━━━━━━━━━━━━━━━\u001b[0m \u001b[32m1.8/1.8 MB\u001b[0m \u001b[31m6.5 MB/s\u001b[0m eta \u001b[36m0:00:00\u001b[0m[31m6.6 MB/s\u001b[0m eta \u001b[36m0:00:01\u001b[0m\n",
      "\u001b[?25hDownloading SQLAlchemy-2.0.35-cp310-cp310-macosx_11_0_arm64.whl (2.1 MB)\n",
      "\u001b[2K   \u001b[38;2;114;156;31m━━━━━━━━━━━━━━━━━━━━━━━━━━━━━━━━━━━━━━━━\u001b[0m \u001b[32m2.1/2.1 MB\u001b[0m \u001b[31m6.1 MB/s\u001b[0m eta \u001b[36m0:00:00\u001b[0m MB/s\u001b[0m eta \u001b[36m0:00:01\u001b[0m\n",
      "\u001b[?25hDownloading annotated_types-0.7.0-py3-none-any.whl (13 kB)\n",
      "Downloading backoff-2.2.1-py3-none-any.whl (15 kB)\n",
      "Downloading dateutils-0.6.12-py2.py3-none-any.whl (5.7 kB)\n",
      "Downloading wasmtime-24.0.0-py3-none-macosx_11_0_arm64.whl (5.2 MB)\n",
      "\u001b[2K   \u001b[38;2;114;156;31m━━━━━━━━━━━━━━━━━━━━━━━━━━━━━━━━━━━━━━━━\u001b[0m \u001b[32m5.2/5.2 MB\u001b[0m \u001b[31m7.4 MB/s\u001b[0m eta \u001b[36m0:00:00\u001b[0m[31m7.2 MB/s\u001b[0m eta \u001b[36m0:00:01\u001b[0m\n",
      "\u001b[?25hBuilding wheels for collected packages: quickjs\n",
      "  Building wheel for quickjs (setup.py) ... \u001b[?25ldone\n",
      "\u001b[?25h  Created wheel for quickjs: filename=quickjs-1.19.4-cp310-cp310-macosx_11_0_arm64.whl size=406305 sha256=fce5ca24e978b1363200745d13b1ce7458577519358ff02ac955b30d83b9641a\n",
      "  Stored in directory: /Users/danielcimring/Library/Caches/pip/wheels/74/07/aa/2e507380babbbd62794110423903c17fc8f0bac2681f1a34d2\n",
      "Successfully built quickjs\n",
      "Installing collected packages: quickjs, appdirs, wasmtime, sqlglot, sqlalchemy, pydantic-core, duckdb, backoff, astor, annotated-types, segment-analytics-python, pydantic, gw-dsl-parser, dateutils, kanaries-track, ipylab, pygwalker\n",
      "Successfully installed annotated-types-0.7.0 appdirs-1.4.4 astor-0.8.1 backoff-2.2.1 dateutils-0.6.12 duckdb-1.1.0 gw-dsl-parser-0.1.49.1 ipylab-1.0.0 kanaries-track-0.0.5 pydantic-2.9.2 pydantic-core-2.23.4 pygwalker-0.4.9.8 quickjs-1.19.4 segment-analytics-python-2.2.3 sqlalchemy-2.0.35 sqlglot-25.21.3 wasmtime-24.0.0\n"
     ]
    }
   ],
   "source": [
    "!pip install pygwalker"
   ]
  },
  {
   "cell_type": "code",
   "execution_count": 8,
   "metadata": {},
   "outputs": [
    {
     "data": {
      "text/html": [
       "\n",
       "<style>\n",
       "  #altair-viz-30c42aaccec0428c817e82d90f673999.vega-embed {\n",
       "    width: 100%;\n",
       "    display: flex;\n",
       "  }\n",
       "\n",
       "  #altair-viz-30c42aaccec0428c817e82d90f673999.vega-embed details,\n",
       "  #altair-viz-30c42aaccec0428c817e82d90f673999.vega-embed details summary {\n",
       "    position: relative;\n",
       "  }\n",
       "</style>\n",
       "<div id=\"altair-viz-30c42aaccec0428c817e82d90f673999\"></div>\n",
       "<script type=\"text/javascript\">\n",
       "  var VEGA_DEBUG = (typeof VEGA_DEBUG == \"undefined\") ? {} : VEGA_DEBUG;\n",
       "  (function(spec, embedOpt){\n",
       "    let outputDiv = document.currentScript.previousElementSibling;\n",
       "    if (outputDiv.id !== \"altair-viz-30c42aaccec0428c817e82d90f673999\") {\n",
       "      outputDiv = document.getElementById(\"altair-viz-30c42aaccec0428c817e82d90f673999\");\n",
       "    }\n",
       "    const paths = {\n",
       "      \"vega\": \"https://cdn.jsdelivr.net/npm/vega@5?noext\",\n",
       "      \"vega-lib\": \"https://cdn.jsdelivr.net/npm/vega-lib?noext\",\n",
       "      \"vega-lite\": \"https://cdn.jsdelivr.net/npm/vega-lite@5.20.1?noext\",\n",
       "      \"vega-embed\": \"https://cdn.jsdelivr.net/npm/vega-embed@6?noext\",\n",
       "    };\n",
       "\n",
       "    function maybeLoadScript(lib, version) {\n",
       "      var key = `${lib.replace(\"-\", \"\")}_version`;\n",
       "      return (VEGA_DEBUG[key] == version) ?\n",
       "        Promise.resolve(paths[lib]) :\n",
       "        new Promise(function(resolve, reject) {\n",
       "          var s = document.createElement('script');\n",
       "          document.getElementsByTagName(\"head\")[0].appendChild(s);\n",
       "          s.async = true;\n",
       "          s.onload = () => {\n",
       "            VEGA_DEBUG[key] = version;\n",
       "            return resolve(paths[lib]);\n",
       "          };\n",
       "          s.onerror = () => reject(`Error loading script: ${paths[lib]}`);\n",
       "          s.src = paths[lib];\n",
       "        });\n",
       "    }\n",
       "\n",
       "    function showError(err) {\n",
       "      outputDiv.innerHTML = `<div class=\"error\" style=\"color:red;\">${err}</div>`;\n",
       "      throw err;\n",
       "    }\n",
       "\n",
       "    function displayChart(vegaEmbed) {\n",
       "      vegaEmbed(outputDiv, spec, embedOpt)\n",
       "        .catch(err => showError(`Javascript Error: ${err.message}<br>This usually means there's a typo in your chart specification. See the javascript console for the full traceback.`));\n",
       "    }\n",
       "\n",
       "    if(typeof define === \"function\" && define.amd) {\n",
       "      requirejs.config({paths});\n",
       "      require([\"vega-embed\"], displayChart, err => showError(`Error loading script: ${err.message}`));\n",
       "    } else {\n",
       "      maybeLoadScript(\"vega\", \"5\")\n",
       "        .then(() => maybeLoadScript(\"vega-lite\", \"5.20.1\"))\n",
       "        .then(() => maybeLoadScript(\"vega-embed\", \"6\"))\n",
       "        .catch(showError)\n",
       "        .then(() => displayChart(vegaEmbed));\n",
       "    }\n",
       "  })({\"config\": {\"view\": {\"continuousWidth\": 300, \"continuousHeight\": 300}}, \"data\": {\"name\": \"data-b0fe595546d47c5085f225c35730172c\"}, \"mark\": {\"type\": \"area\", \"color\": \"lightblue\", \"interpolate\": \"step-after\", \"line\": true}, \"encoding\": {\"x\": {\"field\": \"date\", \"type\": \"temporal\"}, \"y\": {\"field\": \"price\", \"type\": \"quantitative\"}}, \"transform\": [{\"filter\": \"(datum.symbol === 'GOOG')\"}], \"$schema\": \"https://vega.github.io/schema/vega-lite/v5.20.1.json\", \"datasets\": {\"data-b0fe595546d47c5085f225c35730172c\": [{\"symbol\": \"MSFT\", \"date\": \"2000-01-01T00:00:00\", \"price\": 39.81}, {\"symbol\": \"MSFT\", \"date\": \"2000-02-01T00:00:00\", \"price\": 36.35}, {\"symbol\": \"MSFT\", \"date\": \"2000-03-01T00:00:00\", \"price\": 43.22}, {\"symbol\": \"MSFT\", \"date\": \"2000-04-01T00:00:00\", \"price\": 28.37}, {\"symbol\": \"MSFT\", \"date\": \"2000-05-01T00:00:00\", \"price\": 25.45}, {\"symbol\": \"MSFT\", \"date\": \"2000-06-01T00:00:00\", \"price\": 32.54}, {\"symbol\": \"MSFT\", \"date\": \"2000-07-01T00:00:00\", \"price\": 28.4}, {\"symbol\": \"MSFT\", \"date\": \"2000-08-01T00:00:00\", \"price\": 28.4}, {\"symbol\": \"MSFT\", \"date\": \"2000-09-01T00:00:00\", \"price\": 24.53}, {\"symbol\": \"MSFT\", \"date\": \"2000-10-01T00:00:00\", \"price\": 28.02}, {\"symbol\": \"MSFT\", \"date\": \"2000-11-01T00:00:00\", \"price\": 23.34}, {\"symbol\": \"MSFT\", \"date\": \"2000-12-01T00:00:00\", \"price\": 17.65}, {\"symbol\": \"MSFT\", \"date\": \"2001-01-01T00:00:00\", \"price\": 24.84}, {\"symbol\": \"MSFT\", \"date\": \"2001-02-01T00:00:00\", \"price\": 24.0}, {\"symbol\": \"MSFT\", \"date\": \"2001-03-01T00:00:00\", \"price\": 22.25}, {\"symbol\": \"MSFT\", \"date\": \"2001-04-01T00:00:00\", \"price\": 27.56}, {\"symbol\": \"MSFT\", \"date\": \"2001-05-01T00:00:00\", \"price\": 28.14}, {\"symbol\": \"MSFT\", \"date\": \"2001-06-01T00:00:00\", \"price\": 29.7}, {\"symbol\": \"MSFT\", \"date\": \"2001-07-01T00:00:00\", \"price\": 26.93}, {\"symbol\": \"MSFT\", \"date\": \"2001-08-01T00:00:00\", \"price\": 23.21}, {\"symbol\": \"MSFT\", \"date\": \"2001-09-01T00:00:00\", \"price\": 20.82}, {\"symbol\": \"MSFT\", \"date\": \"2001-10-01T00:00:00\", \"price\": 23.65}, {\"symbol\": \"MSFT\", \"date\": \"2001-11-01T00:00:00\", \"price\": 26.12}, {\"symbol\": \"MSFT\", \"date\": \"2001-12-01T00:00:00\", \"price\": 26.95}, {\"symbol\": \"MSFT\", \"date\": \"2002-01-01T00:00:00\", \"price\": 25.92}, {\"symbol\": \"MSFT\", \"date\": \"2002-02-01T00:00:00\", \"price\": 23.73}, {\"symbol\": \"MSFT\", \"date\": \"2002-03-01T00:00:00\", \"price\": 24.53}, {\"symbol\": \"MSFT\", \"date\": \"2002-04-01T00:00:00\", \"price\": 21.26}, {\"symbol\": \"MSFT\", \"date\": \"2002-05-01T00:00:00\", \"price\": 20.71}, {\"symbol\": \"MSFT\", \"date\": \"2002-06-01T00:00:00\", \"price\": 22.25}, {\"symbol\": \"MSFT\", \"date\": \"2002-07-01T00:00:00\", \"price\": 19.52}, {\"symbol\": \"MSFT\", \"date\": \"2002-08-01T00:00:00\", \"price\": 19.97}, {\"symbol\": \"MSFT\", \"date\": \"2002-09-01T00:00:00\", \"price\": 17.79}, {\"symbol\": \"MSFT\", \"date\": \"2002-10-01T00:00:00\", \"price\": 21.75}, {\"symbol\": \"MSFT\", \"date\": \"2002-11-01T00:00:00\", \"price\": 23.46}, {\"symbol\": \"MSFT\", \"date\": \"2002-12-01T00:00:00\", \"price\": 21.03}, {\"symbol\": \"MSFT\", \"date\": \"2003-01-01T00:00:00\", \"price\": 19.31}, {\"symbol\": \"MSFT\", \"date\": \"2003-02-01T00:00:00\", \"price\": 19.34}, {\"symbol\": \"MSFT\", \"date\": \"2003-03-01T00:00:00\", \"price\": 19.76}, {\"symbol\": \"MSFT\", \"date\": \"2003-04-01T00:00:00\", \"price\": 20.87}, {\"symbol\": \"MSFT\", \"date\": \"2003-05-01T00:00:00\", \"price\": 20.09}, {\"symbol\": \"MSFT\", \"date\": \"2003-06-01T00:00:00\", \"price\": 20.93}, {\"symbol\": \"MSFT\", \"date\": \"2003-07-01T00:00:00\", \"price\": 21.56}, {\"symbol\": \"MSFT\", \"date\": \"2003-08-01T00:00:00\", \"price\": 21.65}, {\"symbol\": \"MSFT\", \"date\": \"2003-09-01T00:00:00\", \"price\": 22.69}, {\"symbol\": \"MSFT\", \"date\": \"2003-10-01T00:00:00\", \"price\": 21.45}, {\"symbol\": \"MSFT\", \"date\": \"2003-11-01T00:00:00\", \"price\": 21.1}, {\"symbol\": \"MSFT\", \"date\": \"2003-12-01T00:00:00\", \"price\": 22.46}, {\"symbol\": \"MSFT\", \"date\": \"2004-01-01T00:00:00\", \"price\": 22.69}, {\"symbol\": \"MSFT\", \"date\": \"2004-02-01T00:00:00\", \"price\": 21.77}, {\"symbol\": \"MSFT\", \"date\": \"2004-03-01T00:00:00\", \"price\": 20.46}, {\"symbol\": \"MSFT\", \"date\": \"2004-04-01T00:00:00\", \"price\": 21.45}, {\"symbol\": \"MSFT\", \"date\": \"2004-05-01T00:00:00\", \"price\": 21.53}, {\"symbol\": \"MSFT\", \"date\": \"2004-06-01T00:00:00\", \"price\": 23.44}, {\"symbol\": \"MSFT\", \"date\": \"2004-07-01T00:00:00\", \"price\": 23.38}, {\"symbol\": \"MSFT\", \"date\": \"2004-08-01T00:00:00\", \"price\": 22.47}, {\"symbol\": \"MSFT\", \"date\": \"2004-09-01T00:00:00\", \"price\": 22.76}, {\"symbol\": \"MSFT\", \"date\": \"2004-10-01T00:00:00\", \"price\": 23.02}, {\"symbol\": \"MSFT\", \"date\": \"2004-11-01T00:00:00\", \"price\": 24.6}, {\"symbol\": \"MSFT\", \"date\": \"2004-12-01T00:00:00\", \"price\": 24.52}, {\"symbol\": \"MSFT\", \"date\": \"2005-01-01T00:00:00\", \"price\": 24.11}, {\"symbol\": \"MSFT\", \"date\": \"2005-02-01T00:00:00\", \"price\": 23.15}, {\"symbol\": \"MSFT\", \"date\": \"2005-03-01T00:00:00\", \"price\": 22.24}, {\"symbol\": \"MSFT\", \"date\": \"2005-04-01T00:00:00\", \"price\": 23.28}, {\"symbol\": \"MSFT\", \"date\": \"2005-05-01T00:00:00\", \"price\": 23.82}, {\"symbol\": \"MSFT\", \"date\": \"2005-06-01T00:00:00\", \"price\": 22.93}, {\"symbol\": \"MSFT\", \"date\": \"2005-07-01T00:00:00\", \"price\": 23.64}, {\"symbol\": \"MSFT\", \"date\": \"2005-08-01T00:00:00\", \"price\": 25.35}, {\"symbol\": \"MSFT\", \"date\": \"2005-09-01T00:00:00\", \"price\": 23.83}, {\"symbol\": \"MSFT\", \"date\": \"2005-10-01T00:00:00\", \"price\": 23.8}, {\"symbol\": \"MSFT\", \"date\": \"2005-11-01T00:00:00\", \"price\": 25.71}, {\"symbol\": \"MSFT\", \"date\": \"2005-12-01T00:00:00\", \"price\": 24.29}, {\"symbol\": \"MSFT\", \"date\": \"2006-01-01T00:00:00\", \"price\": 26.14}, {\"symbol\": \"MSFT\", \"date\": \"2006-02-01T00:00:00\", \"price\": 25.04}, {\"symbol\": \"MSFT\", \"date\": \"2006-03-01T00:00:00\", \"price\": 25.36}, {\"symbol\": \"MSFT\", \"date\": \"2006-04-01T00:00:00\", \"price\": 22.5}, {\"symbol\": \"MSFT\", \"date\": \"2006-05-01T00:00:00\", \"price\": 21.19}, {\"symbol\": \"MSFT\", \"date\": \"2006-06-01T00:00:00\", \"price\": 21.8}, {\"symbol\": \"MSFT\", \"date\": \"2006-07-01T00:00:00\", \"price\": 22.51}, {\"symbol\": \"MSFT\", \"date\": \"2006-08-01T00:00:00\", \"price\": 24.13}, {\"symbol\": \"MSFT\", \"date\": \"2006-09-01T00:00:00\", \"price\": 25.68}, {\"symbol\": \"MSFT\", \"date\": \"2006-10-01T00:00:00\", \"price\": 26.96}, {\"symbol\": \"MSFT\", \"date\": \"2006-11-01T00:00:00\", \"price\": 27.66}, {\"symbol\": \"MSFT\", \"date\": \"2006-12-01T00:00:00\", \"price\": 28.13}, {\"symbol\": \"MSFT\", \"date\": \"2007-01-01T00:00:00\", \"price\": 29.07}, {\"symbol\": \"MSFT\", \"date\": \"2007-02-01T00:00:00\", \"price\": 26.63}, {\"symbol\": \"MSFT\", \"date\": \"2007-03-01T00:00:00\", \"price\": 26.35}, {\"symbol\": \"MSFT\", \"date\": \"2007-04-01T00:00:00\", \"price\": 28.3}, {\"symbol\": \"MSFT\", \"date\": \"2007-05-01T00:00:00\", \"price\": 29.11}, {\"symbol\": \"MSFT\", \"date\": \"2007-06-01T00:00:00\", \"price\": 27.95}, {\"symbol\": \"MSFT\", \"date\": \"2007-07-01T00:00:00\", \"price\": 27.5}, {\"symbol\": \"MSFT\", \"date\": \"2007-08-01T00:00:00\", \"price\": 27.34}, {\"symbol\": \"MSFT\", \"date\": \"2007-09-01T00:00:00\", \"price\": 28.04}, {\"symbol\": \"MSFT\", \"date\": \"2007-10-01T00:00:00\", \"price\": 35.03}, {\"symbol\": \"MSFT\", \"date\": \"2007-11-01T00:00:00\", \"price\": 32.09}, {\"symbol\": \"MSFT\", \"date\": \"2007-12-01T00:00:00\", \"price\": 34.0}, {\"symbol\": \"MSFT\", \"date\": \"2008-01-01T00:00:00\", \"price\": 31.13}, {\"symbol\": \"MSFT\", \"date\": \"2008-02-01T00:00:00\", \"price\": 26.07}, {\"symbol\": \"MSFT\", \"date\": \"2008-03-01T00:00:00\", \"price\": 27.21}, {\"symbol\": \"MSFT\", \"date\": \"2008-04-01T00:00:00\", \"price\": 27.34}, {\"symbol\": \"MSFT\", \"date\": \"2008-05-01T00:00:00\", \"price\": 27.25}, {\"symbol\": \"MSFT\", \"date\": \"2008-06-01T00:00:00\", \"price\": 26.47}, {\"symbol\": \"MSFT\", \"date\": \"2008-07-01T00:00:00\", \"price\": 24.75}, {\"symbol\": \"MSFT\", \"date\": \"2008-08-01T00:00:00\", \"price\": 26.36}, {\"symbol\": \"MSFT\", \"date\": \"2008-09-01T00:00:00\", \"price\": 25.78}, {\"symbol\": \"MSFT\", \"date\": \"2008-10-01T00:00:00\", \"price\": 21.57}, {\"symbol\": \"MSFT\", \"date\": \"2008-11-01T00:00:00\", \"price\": 19.66}, {\"symbol\": \"MSFT\", \"date\": \"2008-12-01T00:00:00\", \"price\": 18.91}, {\"symbol\": \"MSFT\", \"date\": \"2009-01-01T00:00:00\", \"price\": 16.63}, {\"symbol\": \"MSFT\", \"date\": \"2009-02-01T00:00:00\", \"price\": 15.81}, {\"symbol\": \"MSFT\", \"date\": \"2009-03-01T00:00:00\", \"price\": 17.99}, {\"symbol\": \"MSFT\", \"date\": \"2009-04-01T00:00:00\", \"price\": 19.84}, {\"symbol\": \"MSFT\", \"date\": \"2009-05-01T00:00:00\", \"price\": 20.59}, {\"symbol\": \"MSFT\", \"date\": \"2009-06-01T00:00:00\", \"price\": 23.42}, {\"symbol\": \"MSFT\", \"date\": \"2009-07-01T00:00:00\", \"price\": 23.18}, {\"symbol\": \"MSFT\", \"date\": \"2009-08-01T00:00:00\", \"price\": 24.43}, {\"symbol\": \"MSFT\", \"date\": \"2009-09-01T00:00:00\", \"price\": 25.49}, {\"symbol\": \"MSFT\", \"date\": \"2009-10-01T00:00:00\", \"price\": 27.48}, {\"symbol\": \"MSFT\", \"date\": \"2009-11-01T00:00:00\", \"price\": 29.27}, {\"symbol\": \"MSFT\", \"date\": \"2009-12-01T00:00:00\", \"price\": 30.34}, {\"symbol\": \"MSFT\", \"date\": \"2010-01-01T00:00:00\", \"price\": 28.05}, {\"symbol\": \"MSFT\", \"date\": \"2010-02-01T00:00:00\", \"price\": 28.67}, {\"symbol\": \"MSFT\", \"date\": \"2010-03-01T00:00:00\", \"price\": 28.8}, {\"symbol\": \"AMZN\", \"date\": \"2000-01-01T00:00:00\", \"price\": 64.56}, {\"symbol\": \"AMZN\", \"date\": \"2000-02-01T00:00:00\", \"price\": 68.87}, {\"symbol\": \"AMZN\", \"date\": \"2000-03-01T00:00:00\", \"price\": 67.0}, {\"symbol\": \"AMZN\", \"date\": \"2000-04-01T00:00:00\", \"price\": 55.19}, {\"symbol\": \"AMZN\", \"date\": \"2000-05-01T00:00:00\", \"price\": 48.31}, {\"symbol\": \"AMZN\", \"date\": \"2000-06-01T00:00:00\", \"price\": 36.31}, {\"symbol\": \"AMZN\", \"date\": \"2000-07-01T00:00:00\", \"price\": 30.12}, {\"symbol\": \"AMZN\", \"date\": \"2000-08-01T00:00:00\", \"price\": 41.5}, {\"symbol\": \"AMZN\", \"date\": \"2000-09-01T00:00:00\", \"price\": 38.44}, {\"symbol\": \"AMZN\", \"date\": \"2000-10-01T00:00:00\", \"price\": 36.62}, {\"symbol\": \"AMZN\", \"date\": \"2000-11-01T00:00:00\", \"price\": 24.69}, {\"symbol\": \"AMZN\", \"date\": \"2000-12-01T00:00:00\", \"price\": 15.56}, {\"symbol\": \"AMZN\", \"date\": \"2001-01-01T00:00:00\", \"price\": 17.31}, {\"symbol\": \"AMZN\", \"date\": \"2001-02-01T00:00:00\", \"price\": 10.19}, {\"symbol\": \"AMZN\", \"date\": \"2001-03-01T00:00:00\", \"price\": 10.23}, {\"symbol\": \"AMZN\", \"date\": \"2001-04-01T00:00:00\", \"price\": 15.78}, {\"symbol\": \"AMZN\", \"date\": \"2001-05-01T00:00:00\", \"price\": 16.69}, {\"symbol\": \"AMZN\", \"date\": \"2001-06-01T00:00:00\", \"price\": 14.15}, {\"symbol\": \"AMZN\", \"date\": \"2001-07-01T00:00:00\", \"price\": 12.49}, {\"symbol\": \"AMZN\", \"date\": \"2001-08-01T00:00:00\", \"price\": 8.94}, {\"symbol\": \"AMZN\", \"date\": \"2001-09-01T00:00:00\", \"price\": 5.97}, {\"symbol\": \"AMZN\", \"date\": \"2001-10-01T00:00:00\", \"price\": 6.98}, {\"symbol\": \"AMZN\", \"date\": \"2001-11-01T00:00:00\", \"price\": 11.32}, {\"symbol\": \"AMZN\", \"date\": \"2001-12-01T00:00:00\", \"price\": 10.82}, {\"symbol\": \"AMZN\", \"date\": \"2002-01-01T00:00:00\", \"price\": 14.19}, {\"symbol\": \"AMZN\", \"date\": \"2002-02-01T00:00:00\", \"price\": 14.1}, {\"symbol\": \"AMZN\", \"date\": \"2002-03-01T00:00:00\", \"price\": 14.3}, {\"symbol\": \"AMZN\", \"date\": \"2002-04-01T00:00:00\", \"price\": 16.69}, {\"symbol\": \"AMZN\", \"date\": \"2002-05-01T00:00:00\", \"price\": 18.23}, {\"symbol\": \"AMZN\", \"date\": \"2002-06-01T00:00:00\", \"price\": 16.25}, {\"symbol\": \"AMZN\", \"date\": \"2002-07-01T00:00:00\", \"price\": 14.45}, {\"symbol\": \"AMZN\", \"date\": \"2002-08-01T00:00:00\", \"price\": 14.94}, {\"symbol\": \"AMZN\", \"date\": \"2002-09-01T00:00:00\", \"price\": 15.93}, {\"symbol\": \"AMZN\", \"date\": \"2002-10-01T00:00:00\", \"price\": 19.36}, {\"symbol\": \"AMZN\", \"date\": \"2002-11-01T00:00:00\", \"price\": 23.35}, {\"symbol\": \"AMZN\", \"date\": \"2002-12-01T00:00:00\", \"price\": 18.89}, {\"symbol\": \"AMZN\", \"date\": \"2003-01-01T00:00:00\", \"price\": 21.85}, {\"symbol\": \"AMZN\", \"date\": \"2003-02-01T00:00:00\", \"price\": 22.01}, {\"symbol\": \"AMZN\", \"date\": \"2003-03-01T00:00:00\", \"price\": 26.03}, {\"symbol\": \"AMZN\", \"date\": \"2003-04-01T00:00:00\", \"price\": 28.69}, {\"symbol\": \"AMZN\", \"date\": \"2003-05-01T00:00:00\", \"price\": 35.89}, {\"symbol\": \"AMZN\", \"date\": \"2003-06-01T00:00:00\", \"price\": 36.32}, {\"symbol\": \"AMZN\", \"date\": \"2003-07-01T00:00:00\", \"price\": 41.64}, {\"symbol\": \"AMZN\", \"date\": \"2003-08-01T00:00:00\", \"price\": 46.32}, {\"symbol\": \"AMZN\", \"date\": \"2003-09-01T00:00:00\", \"price\": 48.43}, {\"symbol\": \"AMZN\", \"date\": \"2003-10-01T00:00:00\", \"price\": 54.43}, {\"symbol\": \"AMZN\", \"date\": \"2003-11-01T00:00:00\", \"price\": 53.97}, {\"symbol\": \"AMZN\", \"date\": \"2003-12-01T00:00:00\", \"price\": 52.62}, {\"symbol\": \"AMZN\", \"date\": \"2004-01-01T00:00:00\", \"price\": 50.4}, {\"symbol\": \"AMZN\", \"date\": \"2004-02-01T00:00:00\", \"price\": 43.01}, {\"symbol\": \"AMZN\", \"date\": \"2004-03-01T00:00:00\", \"price\": 43.28}, {\"symbol\": \"AMZN\", \"date\": \"2004-04-01T00:00:00\", \"price\": 43.6}, {\"symbol\": \"AMZN\", \"date\": \"2004-05-01T00:00:00\", \"price\": 48.5}, {\"symbol\": \"AMZN\", \"date\": \"2004-06-01T00:00:00\", \"price\": 54.4}, {\"symbol\": \"AMZN\", \"date\": \"2004-07-01T00:00:00\", \"price\": 38.92}, {\"symbol\": \"AMZN\", \"date\": \"2004-08-01T00:00:00\", \"price\": 38.14}, {\"symbol\": \"AMZN\", \"date\": \"2004-09-01T00:00:00\", \"price\": 40.86}, {\"symbol\": \"AMZN\", \"date\": \"2004-10-01T00:00:00\", \"price\": 34.13}, {\"symbol\": \"AMZN\", \"date\": \"2004-11-01T00:00:00\", \"price\": 39.68}, {\"symbol\": \"AMZN\", \"date\": \"2004-12-01T00:00:00\", \"price\": 44.29}, {\"symbol\": \"AMZN\", \"date\": \"2005-01-01T00:00:00\", \"price\": 43.22}, {\"symbol\": \"AMZN\", \"date\": \"2005-02-01T00:00:00\", \"price\": 35.18}, {\"symbol\": \"AMZN\", \"date\": \"2005-03-01T00:00:00\", \"price\": 34.27}, {\"symbol\": \"AMZN\", \"date\": \"2005-04-01T00:00:00\", \"price\": 32.36}, {\"symbol\": \"AMZN\", \"date\": \"2005-05-01T00:00:00\", \"price\": 35.51}, {\"symbol\": \"AMZN\", \"date\": \"2005-06-01T00:00:00\", \"price\": 33.09}, {\"symbol\": \"AMZN\", \"date\": \"2005-07-01T00:00:00\", \"price\": 45.15}, {\"symbol\": \"AMZN\", \"date\": \"2005-08-01T00:00:00\", \"price\": 42.7}, {\"symbol\": \"AMZN\", \"date\": \"2005-09-01T00:00:00\", \"price\": 45.3}, {\"symbol\": \"AMZN\", \"date\": \"2005-10-01T00:00:00\", \"price\": 39.86}, {\"symbol\": \"AMZN\", \"date\": \"2005-11-01T00:00:00\", \"price\": 48.46}, {\"symbol\": \"AMZN\", \"date\": \"2005-12-01T00:00:00\", \"price\": 47.15}, {\"symbol\": \"AMZN\", \"date\": \"2006-01-01T00:00:00\", \"price\": 44.82}, {\"symbol\": \"AMZN\", \"date\": \"2006-02-01T00:00:00\", \"price\": 37.44}, {\"symbol\": \"AMZN\", \"date\": \"2006-03-01T00:00:00\", \"price\": 36.53}, {\"symbol\": \"AMZN\", \"date\": \"2006-04-01T00:00:00\", \"price\": 35.21}, {\"symbol\": \"AMZN\", \"date\": \"2006-05-01T00:00:00\", \"price\": 34.61}, {\"symbol\": \"AMZN\", \"date\": \"2006-06-01T00:00:00\", \"price\": 38.68}, {\"symbol\": \"AMZN\", \"date\": \"2006-07-01T00:00:00\", \"price\": 26.89}, {\"symbol\": \"AMZN\", \"date\": \"2006-08-01T00:00:00\", \"price\": 30.83}, {\"symbol\": \"AMZN\", \"date\": \"2006-09-01T00:00:00\", \"price\": 32.12}, {\"symbol\": \"AMZN\", \"date\": \"2006-10-01T00:00:00\", \"price\": 38.09}, {\"symbol\": \"AMZN\", \"date\": \"2006-11-01T00:00:00\", \"price\": 40.34}, {\"symbol\": \"AMZN\", \"date\": \"2006-12-01T00:00:00\", \"price\": 39.46}, {\"symbol\": \"AMZN\", \"date\": \"2007-01-01T00:00:00\", \"price\": 37.67}, {\"symbol\": \"AMZN\", \"date\": \"2007-02-01T00:00:00\", \"price\": 39.14}, {\"symbol\": \"AMZN\", \"date\": \"2007-03-01T00:00:00\", \"price\": 39.79}, {\"symbol\": \"AMZN\", \"date\": \"2007-04-01T00:00:00\", \"price\": 61.33}, {\"symbol\": \"AMZN\", \"date\": \"2007-05-01T00:00:00\", \"price\": 69.14}, {\"symbol\": \"AMZN\", \"date\": \"2007-06-01T00:00:00\", \"price\": 68.41}, {\"symbol\": \"AMZN\", \"date\": \"2007-07-01T00:00:00\", \"price\": 78.54}, {\"symbol\": \"AMZN\", \"date\": \"2007-08-01T00:00:00\", \"price\": 79.91}, {\"symbol\": \"AMZN\", \"date\": \"2007-09-01T00:00:00\", \"price\": 93.15}, {\"symbol\": \"AMZN\", \"date\": \"2007-10-01T00:00:00\", \"price\": 89.15}, {\"symbol\": \"AMZN\", \"date\": \"2007-11-01T00:00:00\", \"price\": 90.56}, {\"symbol\": \"AMZN\", \"date\": \"2007-12-01T00:00:00\", \"price\": 92.64}, {\"symbol\": \"AMZN\", \"date\": \"2008-01-01T00:00:00\", \"price\": 77.7}, {\"symbol\": \"AMZN\", \"date\": \"2008-02-01T00:00:00\", \"price\": 64.47}, {\"symbol\": \"AMZN\", \"date\": \"2008-03-01T00:00:00\", \"price\": 71.3}, {\"symbol\": \"AMZN\", \"date\": \"2008-04-01T00:00:00\", \"price\": 78.63}, {\"symbol\": \"AMZN\", \"date\": \"2008-05-01T00:00:00\", \"price\": 81.62}, {\"symbol\": \"AMZN\", \"date\": \"2008-06-01T00:00:00\", \"price\": 73.33}, {\"symbol\": \"AMZN\", \"date\": \"2008-07-01T00:00:00\", \"price\": 76.34}, {\"symbol\": \"AMZN\", \"date\": \"2008-08-01T00:00:00\", \"price\": 80.81}, {\"symbol\": \"AMZN\", \"date\": \"2008-09-01T00:00:00\", \"price\": 72.76}, {\"symbol\": \"AMZN\", \"date\": \"2008-10-01T00:00:00\", \"price\": 57.24}, {\"symbol\": \"AMZN\", \"date\": \"2008-11-01T00:00:00\", \"price\": 42.7}, {\"symbol\": \"AMZN\", \"date\": \"2008-12-01T00:00:00\", \"price\": 51.28}, {\"symbol\": \"AMZN\", \"date\": \"2009-01-01T00:00:00\", \"price\": 58.82}, {\"symbol\": \"AMZN\", \"date\": \"2009-02-01T00:00:00\", \"price\": 64.79}, {\"symbol\": \"AMZN\", \"date\": \"2009-03-01T00:00:00\", \"price\": 73.44}, {\"symbol\": \"AMZN\", \"date\": \"2009-04-01T00:00:00\", \"price\": 80.52}, {\"symbol\": \"AMZN\", \"date\": \"2009-05-01T00:00:00\", \"price\": 77.99}, {\"symbol\": \"AMZN\", \"date\": \"2009-06-01T00:00:00\", \"price\": 83.66}, {\"symbol\": \"AMZN\", \"date\": \"2009-07-01T00:00:00\", \"price\": 85.76}, {\"symbol\": \"AMZN\", \"date\": \"2009-08-01T00:00:00\", \"price\": 81.19}, {\"symbol\": \"AMZN\", \"date\": \"2009-09-01T00:00:00\", \"price\": 93.36}, {\"symbol\": \"AMZN\", \"date\": \"2009-10-01T00:00:00\", \"price\": 118.81}, {\"symbol\": \"AMZN\", \"date\": \"2009-11-01T00:00:00\", \"price\": 135.91}, {\"symbol\": \"AMZN\", \"date\": \"2009-12-01T00:00:00\", \"price\": 134.52}, {\"symbol\": \"AMZN\", \"date\": \"2010-01-01T00:00:00\", \"price\": 125.41}, {\"symbol\": \"AMZN\", \"date\": \"2010-02-01T00:00:00\", \"price\": 118.4}, {\"symbol\": \"AMZN\", \"date\": \"2010-03-01T00:00:00\", \"price\": 128.82}, {\"symbol\": \"IBM\", \"date\": \"2000-01-01T00:00:00\", \"price\": 100.52}, {\"symbol\": \"IBM\", \"date\": \"2000-02-01T00:00:00\", \"price\": 92.11}, {\"symbol\": \"IBM\", \"date\": \"2000-03-01T00:00:00\", \"price\": 106.11}, {\"symbol\": \"IBM\", \"date\": \"2000-04-01T00:00:00\", \"price\": 99.95}, {\"symbol\": \"IBM\", \"date\": \"2000-05-01T00:00:00\", \"price\": 96.31}, {\"symbol\": \"IBM\", \"date\": \"2000-06-01T00:00:00\", \"price\": 98.33}, {\"symbol\": \"IBM\", \"date\": \"2000-07-01T00:00:00\", \"price\": 100.74}, {\"symbol\": \"IBM\", \"date\": \"2000-08-01T00:00:00\", \"price\": 118.62}, {\"symbol\": \"IBM\", \"date\": \"2000-09-01T00:00:00\", \"price\": 101.19}, {\"symbol\": \"IBM\", \"date\": \"2000-10-01T00:00:00\", \"price\": 88.5}, {\"symbol\": \"IBM\", \"date\": \"2000-11-01T00:00:00\", \"price\": 84.12}, {\"symbol\": \"IBM\", \"date\": \"2000-12-01T00:00:00\", \"price\": 76.47}, {\"symbol\": \"IBM\", \"date\": \"2001-01-01T00:00:00\", \"price\": 100.76}, {\"symbol\": \"IBM\", \"date\": \"2001-02-01T00:00:00\", \"price\": 89.98}, {\"symbol\": \"IBM\", \"date\": \"2001-03-01T00:00:00\", \"price\": 86.63}, {\"symbol\": \"IBM\", \"date\": \"2001-04-01T00:00:00\", \"price\": 103.7}, {\"symbol\": \"IBM\", \"date\": \"2001-05-01T00:00:00\", \"price\": 100.82}, {\"symbol\": \"IBM\", \"date\": \"2001-06-01T00:00:00\", \"price\": 102.35}, {\"symbol\": \"IBM\", \"date\": \"2001-07-01T00:00:00\", \"price\": 94.87}, {\"symbol\": \"IBM\", \"date\": \"2001-08-01T00:00:00\", \"price\": 90.25}, {\"symbol\": \"IBM\", \"date\": \"2001-09-01T00:00:00\", \"price\": 82.82}, {\"symbol\": \"IBM\", \"date\": \"2001-10-01T00:00:00\", \"price\": 97.58}, {\"symbol\": \"IBM\", \"date\": \"2001-11-01T00:00:00\", \"price\": 104.5}, {\"symbol\": \"IBM\", \"date\": \"2001-12-01T00:00:00\", \"price\": 109.36}, {\"symbol\": \"IBM\", \"date\": \"2002-01-01T00:00:00\", \"price\": 97.54}, {\"symbol\": \"IBM\", \"date\": \"2002-02-01T00:00:00\", \"price\": 88.82}, {\"symbol\": \"IBM\", \"date\": \"2002-03-01T00:00:00\", \"price\": 94.15}, {\"symbol\": \"IBM\", \"date\": \"2002-04-01T00:00:00\", \"price\": 75.82}, {\"symbol\": \"IBM\", \"date\": \"2002-05-01T00:00:00\", \"price\": 72.97}, {\"symbol\": \"IBM\", \"date\": \"2002-06-01T00:00:00\", \"price\": 65.31}, {\"symbol\": \"IBM\", \"date\": \"2002-07-01T00:00:00\", \"price\": 63.86}, {\"symbol\": \"IBM\", \"date\": \"2002-08-01T00:00:00\", \"price\": 68.52}, {\"symbol\": \"IBM\", \"date\": \"2002-09-01T00:00:00\", \"price\": 53.01}, {\"symbol\": \"IBM\", \"date\": \"2002-10-01T00:00:00\", \"price\": 71.76}, {\"symbol\": \"IBM\", \"date\": \"2002-11-01T00:00:00\", \"price\": 79.16}, {\"symbol\": \"IBM\", \"date\": \"2002-12-01T00:00:00\", \"price\": 70.58}, {\"symbol\": \"IBM\", \"date\": \"2003-01-01T00:00:00\", \"price\": 71.22}, {\"symbol\": \"IBM\", \"date\": \"2003-02-01T00:00:00\", \"price\": 71.13}, {\"symbol\": \"IBM\", \"date\": \"2003-03-01T00:00:00\", \"price\": 71.57}, {\"symbol\": \"IBM\", \"date\": \"2003-04-01T00:00:00\", \"price\": 77.47}, {\"symbol\": \"IBM\", \"date\": \"2003-05-01T00:00:00\", \"price\": 80.48}, {\"symbol\": \"IBM\", \"date\": \"2003-06-01T00:00:00\", \"price\": 75.42}, {\"symbol\": \"IBM\", \"date\": \"2003-07-01T00:00:00\", \"price\": 74.28}, {\"symbol\": \"IBM\", \"date\": \"2003-08-01T00:00:00\", \"price\": 75.12}, {\"symbol\": \"IBM\", \"date\": \"2003-09-01T00:00:00\", \"price\": 80.91}, {\"symbol\": \"IBM\", \"date\": \"2003-10-01T00:00:00\", \"price\": 81.96}, {\"symbol\": \"IBM\", \"date\": \"2003-11-01T00:00:00\", \"price\": 83.08}, {\"symbol\": \"IBM\", \"date\": \"2003-12-01T00:00:00\", \"price\": 85.05}, {\"symbol\": \"IBM\", \"date\": \"2004-01-01T00:00:00\", \"price\": 91.06}, {\"symbol\": \"IBM\", \"date\": \"2004-02-01T00:00:00\", \"price\": 88.7}, {\"symbol\": \"IBM\", \"date\": \"2004-03-01T00:00:00\", \"price\": 84.41}, {\"symbol\": \"IBM\", \"date\": \"2004-04-01T00:00:00\", \"price\": 81.04}, {\"symbol\": \"IBM\", \"date\": \"2004-05-01T00:00:00\", \"price\": 81.59}, {\"symbol\": \"IBM\", \"date\": \"2004-06-01T00:00:00\", \"price\": 81.19}, {\"symbol\": \"IBM\", \"date\": \"2004-07-01T00:00:00\", \"price\": 80.19}, {\"symbol\": \"IBM\", \"date\": \"2004-08-01T00:00:00\", \"price\": 78.17}, {\"symbol\": \"IBM\", \"date\": \"2004-09-01T00:00:00\", \"price\": 79.13}, {\"symbol\": \"IBM\", \"date\": \"2004-10-01T00:00:00\", \"price\": 82.84}, {\"symbol\": \"IBM\", \"date\": \"2004-11-01T00:00:00\", \"price\": 87.15}, {\"symbol\": \"IBM\", \"date\": \"2004-12-01T00:00:00\", \"price\": 91.16}, {\"symbol\": \"IBM\", \"date\": \"2005-01-01T00:00:00\", \"price\": 86.39}, {\"symbol\": \"IBM\", \"date\": \"2005-02-01T00:00:00\", \"price\": 85.78}, {\"symbol\": \"IBM\", \"date\": \"2005-03-01T00:00:00\", \"price\": 84.66}, {\"symbol\": \"IBM\", \"date\": \"2005-04-01T00:00:00\", \"price\": 70.77}, {\"symbol\": \"IBM\", \"date\": \"2005-05-01T00:00:00\", \"price\": 70.18}, {\"symbol\": \"IBM\", \"date\": \"2005-06-01T00:00:00\", \"price\": 68.93}, {\"symbol\": \"IBM\", \"date\": \"2005-07-01T00:00:00\", \"price\": 77.53}, {\"symbol\": \"IBM\", \"date\": \"2005-08-01T00:00:00\", \"price\": 75.07}, {\"symbol\": \"IBM\", \"date\": \"2005-09-01T00:00:00\", \"price\": 74.7}, {\"symbol\": \"IBM\", \"date\": \"2005-10-01T00:00:00\", \"price\": 76.25}, {\"symbol\": \"IBM\", \"date\": \"2005-11-01T00:00:00\", \"price\": 82.98}, {\"symbol\": \"IBM\", \"date\": \"2005-12-01T00:00:00\", \"price\": 76.73}, {\"symbol\": \"IBM\", \"date\": \"2006-01-01T00:00:00\", \"price\": 75.89}, {\"symbol\": \"IBM\", \"date\": \"2006-02-01T00:00:00\", \"price\": 75.09}, {\"symbol\": \"IBM\", \"date\": \"2006-03-01T00:00:00\", \"price\": 77.17}, {\"symbol\": \"IBM\", \"date\": \"2006-04-01T00:00:00\", \"price\": 77.05}, {\"symbol\": \"IBM\", \"date\": \"2006-05-01T00:00:00\", \"price\": 75.04}, {\"symbol\": \"IBM\", \"date\": \"2006-06-01T00:00:00\", \"price\": 72.15}, {\"symbol\": \"IBM\", \"date\": \"2006-07-01T00:00:00\", \"price\": 72.7}, {\"symbol\": \"IBM\", \"date\": \"2006-08-01T00:00:00\", \"price\": 76.35}, {\"symbol\": \"IBM\", \"date\": \"2006-09-01T00:00:00\", \"price\": 77.26}, {\"symbol\": \"IBM\", \"date\": \"2006-10-01T00:00:00\", \"price\": 87.06}, {\"symbol\": \"IBM\", \"date\": \"2006-11-01T00:00:00\", \"price\": 86.95}, {\"symbol\": \"IBM\", \"date\": \"2006-12-01T00:00:00\", \"price\": 91.9}, {\"symbol\": \"IBM\", \"date\": \"2007-01-01T00:00:00\", \"price\": 93.79}, {\"symbol\": \"IBM\", \"date\": \"2007-02-01T00:00:00\", \"price\": 88.18}, {\"symbol\": \"IBM\", \"date\": \"2007-03-01T00:00:00\", \"price\": 89.44}, {\"symbol\": \"IBM\", \"date\": \"2007-04-01T00:00:00\", \"price\": 96.98}, {\"symbol\": \"IBM\", \"date\": \"2007-05-01T00:00:00\", \"price\": 101.54}, {\"symbol\": \"IBM\", \"date\": \"2007-06-01T00:00:00\", \"price\": 100.25}, {\"symbol\": \"IBM\", \"date\": \"2007-07-01T00:00:00\", \"price\": 105.4}, {\"symbol\": \"IBM\", \"date\": \"2007-08-01T00:00:00\", \"price\": 111.54}, {\"symbol\": \"IBM\", \"date\": \"2007-09-01T00:00:00\", \"price\": 112.6}, {\"symbol\": \"IBM\", \"date\": \"2007-10-01T00:00:00\", \"price\": 111.0}, {\"symbol\": \"IBM\", \"date\": \"2007-11-01T00:00:00\", \"price\": 100.9}, {\"symbol\": \"IBM\", \"date\": \"2007-12-01T00:00:00\", \"price\": 103.7}, {\"symbol\": \"IBM\", \"date\": \"2008-01-01T00:00:00\", \"price\": 102.75}, {\"symbol\": \"IBM\", \"date\": \"2008-02-01T00:00:00\", \"price\": 109.64}, {\"symbol\": \"IBM\", \"date\": \"2008-03-01T00:00:00\", \"price\": 110.87}, {\"symbol\": \"IBM\", \"date\": \"2008-04-01T00:00:00\", \"price\": 116.23}, {\"symbol\": \"IBM\", \"date\": \"2008-05-01T00:00:00\", \"price\": 125.14}, {\"symbol\": \"IBM\", \"date\": \"2008-06-01T00:00:00\", \"price\": 114.6}, {\"symbol\": \"IBM\", \"date\": \"2008-07-01T00:00:00\", \"price\": 123.74}, {\"symbol\": \"IBM\", \"date\": \"2008-08-01T00:00:00\", \"price\": 118.16}, {\"symbol\": \"IBM\", \"date\": \"2008-09-01T00:00:00\", \"price\": 113.53}, {\"symbol\": \"IBM\", \"date\": \"2008-10-01T00:00:00\", \"price\": 90.24}, {\"symbol\": \"IBM\", \"date\": \"2008-11-01T00:00:00\", \"price\": 79.65}, {\"symbol\": \"IBM\", \"date\": \"2008-12-01T00:00:00\", \"price\": 82.15}, {\"symbol\": \"IBM\", \"date\": \"2009-01-01T00:00:00\", \"price\": 89.46}, {\"symbol\": \"IBM\", \"date\": \"2009-02-01T00:00:00\", \"price\": 90.32}, {\"symbol\": \"IBM\", \"date\": \"2009-03-01T00:00:00\", \"price\": 95.09}, {\"symbol\": \"IBM\", \"date\": \"2009-04-01T00:00:00\", \"price\": 101.29}, {\"symbol\": \"IBM\", \"date\": \"2009-05-01T00:00:00\", \"price\": 104.85}, {\"symbol\": \"IBM\", \"date\": \"2009-06-01T00:00:00\", \"price\": 103.01}, {\"symbol\": \"IBM\", \"date\": \"2009-07-01T00:00:00\", \"price\": 116.34}, {\"symbol\": \"IBM\", \"date\": \"2009-08-01T00:00:00\", \"price\": 117.0}, {\"symbol\": \"IBM\", \"date\": \"2009-09-01T00:00:00\", \"price\": 118.55}, {\"symbol\": \"IBM\", \"date\": \"2009-10-01T00:00:00\", \"price\": 119.54}, {\"symbol\": \"IBM\", \"date\": \"2009-11-01T00:00:00\", \"price\": 125.79}, {\"symbol\": \"IBM\", \"date\": \"2009-12-01T00:00:00\", \"price\": 130.32}, {\"symbol\": \"IBM\", \"date\": \"2010-01-01T00:00:00\", \"price\": 121.85}, {\"symbol\": \"IBM\", \"date\": \"2010-02-01T00:00:00\", \"price\": 127.16}, {\"symbol\": \"IBM\", \"date\": \"2010-03-01T00:00:00\", \"price\": 125.55}, {\"symbol\": \"GOOG\", \"date\": \"2004-08-01T00:00:00\", \"price\": 102.37}, {\"symbol\": \"GOOG\", \"date\": \"2004-09-01T00:00:00\", \"price\": 129.6}, {\"symbol\": \"GOOG\", \"date\": \"2004-10-01T00:00:00\", \"price\": 190.64}, {\"symbol\": \"GOOG\", \"date\": \"2004-11-01T00:00:00\", \"price\": 181.98}, {\"symbol\": \"GOOG\", \"date\": \"2004-12-01T00:00:00\", \"price\": 192.79}, {\"symbol\": \"GOOG\", \"date\": \"2005-01-01T00:00:00\", \"price\": 195.62}, {\"symbol\": \"GOOG\", \"date\": \"2005-02-01T00:00:00\", \"price\": 187.99}, {\"symbol\": \"GOOG\", \"date\": \"2005-03-01T00:00:00\", \"price\": 180.51}, {\"symbol\": \"GOOG\", \"date\": \"2005-04-01T00:00:00\", \"price\": 220.0}, {\"symbol\": \"GOOG\", \"date\": \"2005-05-01T00:00:00\", \"price\": 277.27}, {\"symbol\": \"GOOG\", \"date\": \"2005-06-01T00:00:00\", \"price\": 294.15}, {\"symbol\": \"GOOG\", \"date\": \"2005-07-01T00:00:00\", \"price\": 287.76}, {\"symbol\": \"GOOG\", \"date\": \"2005-08-01T00:00:00\", \"price\": 286.0}, {\"symbol\": \"GOOG\", \"date\": \"2005-09-01T00:00:00\", \"price\": 316.46}, {\"symbol\": \"GOOG\", \"date\": \"2005-10-01T00:00:00\", \"price\": 372.14}, {\"symbol\": \"GOOG\", \"date\": \"2005-11-01T00:00:00\", \"price\": 404.91}, {\"symbol\": \"GOOG\", \"date\": \"2005-12-01T00:00:00\", \"price\": 414.86}, {\"symbol\": \"GOOG\", \"date\": \"2006-01-01T00:00:00\", \"price\": 432.66}, {\"symbol\": \"GOOG\", \"date\": \"2006-02-01T00:00:00\", \"price\": 362.62}, {\"symbol\": \"GOOG\", \"date\": \"2006-03-01T00:00:00\", \"price\": 390.0}, {\"symbol\": \"GOOG\", \"date\": \"2006-04-01T00:00:00\", \"price\": 417.94}, {\"symbol\": \"GOOG\", \"date\": \"2006-05-01T00:00:00\", \"price\": 371.82}, {\"symbol\": \"GOOG\", \"date\": \"2006-06-01T00:00:00\", \"price\": 419.33}, {\"symbol\": \"GOOG\", \"date\": \"2006-07-01T00:00:00\", \"price\": 386.6}, {\"symbol\": \"GOOG\", \"date\": \"2006-08-01T00:00:00\", \"price\": 378.53}, {\"symbol\": \"GOOG\", \"date\": \"2006-09-01T00:00:00\", \"price\": 401.9}, {\"symbol\": \"GOOG\", \"date\": \"2006-10-01T00:00:00\", \"price\": 476.39}, {\"symbol\": \"GOOG\", \"date\": \"2006-11-01T00:00:00\", \"price\": 484.81}, {\"symbol\": \"GOOG\", \"date\": \"2006-12-01T00:00:00\", \"price\": 460.48}, {\"symbol\": \"GOOG\", \"date\": \"2007-01-01T00:00:00\", \"price\": 501.5}, {\"symbol\": \"GOOG\", \"date\": \"2007-02-01T00:00:00\", \"price\": 449.45}, {\"symbol\": \"GOOG\", \"date\": \"2007-03-01T00:00:00\", \"price\": 458.16}, {\"symbol\": \"GOOG\", \"date\": \"2007-04-01T00:00:00\", \"price\": 471.38}, {\"symbol\": \"GOOG\", \"date\": \"2007-05-01T00:00:00\", \"price\": 497.91}, {\"symbol\": \"GOOG\", \"date\": \"2007-06-01T00:00:00\", \"price\": 522.7}, {\"symbol\": \"GOOG\", \"date\": \"2007-07-01T00:00:00\", \"price\": 510.0}, {\"symbol\": \"GOOG\", \"date\": \"2007-08-01T00:00:00\", \"price\": 515.25}, {\"symbol\": \"GOOG\", \"date\": \"2007-09-01T00:00:00\", \"price\": 567.27}, {\"symbol\": \"GOOG\", \"date\": \"2007-10-01T00:00:00\", \"price\": 707.0}, {\"symbol\": \"GOOG\", \"date\": \"2007-11-01T00:00:00\", \"price\": 693.0}, {\"symbol\": \"GOOG\", \"date\": \"2007-12-01T00:00:00\", \"price\": 691.48}, {\"symbol\": \"GOOG\", \"date\": \"2008-01-01T00:00:00\", \"price\": 564.3}, {\"symbol\": \"GOOG\", \"date\": \"2008-02-01T00:00:00\", \"price\": 471.18}, {\"symbol\": \"GOOG\", \"date\": \"2008-03-01T00:00:00\", \"price\": 440.47}, {\"symbol\": \"GOOG\", \"date\": \"2008-04-01T00:00:00\", \"price\": 574.29}, {\"symbol\": \"GOOG\", \"date\": \"2008-05-01T00:00:00\", \"price\": 585.8}, {\"symbol\": \"GOOG\", \"date\": \"2008-06-01T00:00:00\", \"price\": 526.42}, {\"symbol\": \"GOOG\", \"date\": \"2008-07-01T00:00:00\", \"price\": 473.75}, {\"symbol\": \"GOOG\", \"date\": \"2008-08-01T00:00:00\", \"price\": 463.29}, {\"symbol\": \"GOOG\", \"date\": \"2008-09-01T00:00:00\", \"price\": 400.52}, {\"symbol\": \"GOOG\", \"date\": \"2008-10-01T00:00:00\", \"price\": 359.36}, {\"symbol\": \"GOOG\", \"date\": \"2008-11-01T00:00:00\", \"price\": 292.96}, {\"symbol\": \"GOOG\", \"date\": \"2008-12-01T00:00:00\", \"price\": 307.65}, {\"symbol\": \"GOOG\", \"date\": \"2009-01-01T00:00:00\", \"price\": 338.53}, {\"symbol\": \"GOOG\", \"date\": \"2009-02-01T00:00:00\", \"price\": 337.99}, {\"symbol\": \"GOOG\", \"date\": \"2009-03-01T00:00:00\", \"price\": 348.06}, {\"symbol\": \"GOOG\", \"date\": \"2009-04-01T00:00:00\", \"price\": 395.97}, {\"symbol\": \"GOOG\", \"date\": \"2009-05-01T00:00:00\", \"price\": 417.23}, {\"symbol\": \"GOOG\", \"date\": \"2009-06-01T00:00:00\", \"price\": 421.59}, {\"symbol\": \"GOOG\", \"date\": \"2009-07-01T00:00:00\", \"price\": 443.05}, {\"symbol\": \"GOOG\", \"date\": \"2009-08-01T00:00:00\", \"price\": 461.67}, {\"symbol\": \"GOOG\", \"date\": \"2009-09-01T00:00:00\", \"price\": 495.85}, {\"symbol\": \"GOOG\", \"date\": \"2009-10-01T00:00:00\", \"price\": 536.12}, {\"symbol\": \"GOOG\", \"date\": \"2009-11-01T00:00:00\", \"price\": 583.0}, {\"symbol\": \"GOOG\", \"date\": \"2009-12-01T00:00:00\", \"price\": 619.98}, {\"symbol\": \"GOOG\", \"date\": \"2010-01-01T00:00:00\", \"price\": 529.94}, {\"symbol\": \"GOOG\", \"date\": \"2010-02-01T00:00:00\", \"price\": 526.8}, {\"symbol\": \"GOOG\", \"date\": \"2010-03-01T00:00:00\", \"price\": 560.19}, {\"symbol\": \"AAPL\", \"date\": \"2000-01-01T00:00:00\", \"price\": 25.94}, {\"symbol\": \"AAPL\", \"date\": \"2000-02-01T00:00:00\", \"price\": 28.66}, {\"symbol\": \"AAPL\", \"date\": \"2000-03-01T00:00:00\", \"price\": 33.95}, {\"symbol\": \"AAPL\", \"date\": \"2000-04-01T00:00:00\", \"price\": 31.01}, {\"symbol\": \"AAPL\", \"date\": \"2000-05-01T00:00:00\", \"price\": 21.0}, {\"symbol\": \"AAPL\", \"date\": \"2000-06-01T00:00:00\", \"price\": 26.19}, {\"symbol\": \"AAPL\", \"date\": \"2000-07-01T00:00:00\", \"price\": 25.41}, {\"symbol\": \"AAPL\", \"date\": \"2000-08-01T00:00:00\", \"price\": 30.47}, {\"symbol\": \"AAPL\", \"date\": \"2000-09-01T00:00:00\", \"price\": 12.88}, {\"symbol\": \"AAPL\", \"date\": \"2000-10-01T00:00:00\", \"price\": 9.78}, {\"symbol\": \"AAPL\", \"date\": \"2000-11-01T00:00:00\", \"price\": 8.25}, {\"symbol\": \"AAPL\", \"date\": \"2000-12-01T00:00:00\", \"price\": 7.44}, {\"symbol\": \"AAPL\", \"date\": \"2001-01-01T00:00:00\", \"price\": 10.81}, {\"symbol\": \"AAPL\", \"date\": \"2001-02-01T00:00:00\", \"price\": 9.12}, {\"symbol\": \"AAPL\", \"date\": \"2001-03-01T00:00:00\", \"price\": 11.03}, {\"symbol\": \"AAPL\", \"date\": \"2001-04-01T00:00:00\", \"price\": 12.74}, {\"symbol\": \"AAPL\", \"date\": \"2001-05-01T00:00:00\", \"price\": 9.98}, {\"symbol\": \"AAPL\", \"date\": \"2001-06-01T00:00:00\", \"price\": 11.62}, {\"symbol\": \"AAPL\", \"date\": \"2001-07-01T00:00:00\", \"price\": 9.4}, {\"symbol\": \"AAPL\", \"date\": \"2001-08-01T00:00:00\", \"price\": 9.27}, {\"symbol\": \"AAPL\", \"date\": \"2001-09-01T00:00:00\", \"price\": 7.76}, {\"symbol\": \"AAPL\", \"date\": \"2001-10-01T00:00:00\", \"price\": 8.78}, {\"symbol\": \"AAPL\", \"date\": \"2001-11-01T00:00:00\", \"price\": 10.65}, {\"symbol\": \"AAPL\", \"date\": \"2001-12-01T00:00:00\", \"price\": 10.95}, {\"symbol\": \"AAPL\", \"date\": \"2002-01-01T00:00:00\", \"price\": 12.36}, {\"symbol\": \"AAPL\", \"date\": \"2002-02-01T00:00:00\", \"price\": 10.85}, {\"symbol\": \"AAPL\", \"date\": \"2002-03-01T00:00:00\", \"price\": 11.84}, {\"symbol\": \"AAPL\", \"date\": \"2002-04-01T00:00:00\", \"price\": 12.14}, {\"symbol\": \"AAPL\", \"date\": \"2002-05-01T00:00:00\", \"price\": 11.65}, {\"symbol\": \"AAPL\", \"date\": \"2002-06-01T00:00:00\", \"price\": 8.86}, {\"symbol\": \"AAPL\", \"date\": \"2002-07-01T00:00:00\", \"price\": 7.63}, {\"symbol\": \"AAPL\", \"date\": \"2002-08-01T00:00:00\", \"price\": 7.38}, {\"symbol\": \"AAPL\", \"date\": \"2002-09-01T00:00:00\", \"price\": 7.25}, {\"symbol\": \"AAPL\", \"date\": \"2002-10-01T00:00:00\", \"price\": 8.03}, {\"symbol\": \"AAPL\", \"date\": \"2002-11-01T00:00:00\", \"price\": 7.75}, {\"symbol\": \"AAPL\", \"date\": \"2002-12-01T00:00:00\", \"price\": 7.16}, {\"symbol\": \"AAPL\", \"date\": \"2003-01-01T00:00:00\", \"price\": 7.18}, {\"symbol\": \"AAPL\", \"date\": \"2003-02-01T00:00:00\", \"price\": 7.51}, {\"symbol\": \"AAPL\", \"date\": \"2003-03-01T00:00:00\", \"price\": 7.07}, {\"symbol\": \"AAPL\", \"date\": \"2003-04-01T00:00:00\", \"price\": 7.11}, {\"symbol\": \"AAPL\", \"date\": \"2003-05-01T00:00:00\", \"price\": 8.98}, {\"symbol\": \"AAPL\", \"date\": \"2003-06-01T00:00:00\", \"price\": 9.53}, {\"symbol\": \"AAPL\", \"date\": \"2003-07-01T00:00:00\", \"price\": 10.54}, {\"symbol\": \"AAPL\", \"date\": \"2003-08-01T00:00:00\", \"price\": 11.31}, {\"symbol\": \"AAPL\", \"date\": \"2003-09-01T00:00:00\", \"price\": 10.36}, {\"symbol\": \"AAPL\", \"date\": \"2003-10-01T00:00:00\", \"price\": 11.44}, {\"symbol\": \"AAPL\", \"date\": \"2003-11-01T00:00:00\", \"price\": 10.45}, {\"symbol\": \"AAPL\", \"date\": \"2003-12-01T00:00:00\", \"price\": 10.69}, {\"symbol\": \"AAPL\", \"date\": \"2004-01-01T00:00:00\", \"price\": 11.28}, {\"symbol\": \"AAPL\", \"date\": \"2004-02-01T00:00:00\", \"price\": 11.96}, {\"symbol\": \"AAPL\", \"date\": \"2004-03-01T00:00:00\", \"price\": 13.52}, {\"symbol\": \"AAPL\", \"date\": \"2004-04-01T00:00:00\", \"price\": 12.89}, {\"symbol\": \"AAPL\", \"date\": \"2004-05-01T00:00:00\", \"price\": 14.03}, {\"symbol\": \"AAPL\", \"date\": \"2004-06-01T00:00:00\", \"price\": 16.27}, {\"symbol\": \"AAPL\", \"date\": \"2004-07-01T00:00:00\", \"price\": 16.17}, {\"symbol\": \"AAPL\", \"date\": \"2004-08-01T00:00:00\", \"price\": 17.25}, {\"symbol\": \"AAPL\", \"date\": \"2004-09-01T00:00:00\", \"price\": 19.38}, {\"symbol\": \"AAPL\", \"date\": \"2004-10-01T00:00:00\", \"price\": 26.2}, {\"symbol\": \"AAPL\", \"date\": \"2004-11-01T00:00:00\", \"price\": 33.53}, {\"symbol\": \"AAPL\", \"date\": \"2004-12-01T00:00:00\", \"price\": 32.2}, {\"symbol\": \"AAPL\", \"date\": \"2005-01-01T00:00:00\", \"price\": 38.45}, {\"symbol\": \"AAPL\", \"date\": \"2005-02-01T00:00:00\", \"price\": 44.86}, {\"symbol\": \"AAPL\", \"date\": \"2005-03-01T00:00:00\", \"price\": 41.67}, {\"symbol\": \"AAPL\", \"date\": \"2005-04-01T00:00:00\", \"price\": 36.06}, {\"symbol\": \"AAPL\", \"date\": \"2005-05-01T00:00:00\", \"price\": 39.76}, {\"symbol\": \"AAPL\", \"date\": \"2005-06-01T00:00:00\", \"price\": 36.81}, {\"symbol\": \"AAPL\", \"date\": \"2005-07-01T00:00:00\", \"price\": 42.65}, {\"symbol\": \"AAPL\", \"date\": \"2005-08-01T00:00:00\", \"price\": 46.89}, {\"symbol\": \"AAPL\", \"date\": \"2005-09-01T00:00:00\", \"price\": 53.61}, {\"symbol\": \"AAPL\", \"date\": \"2005-10-01T00:00:00\", \"price\": 57.59}, {\"symbol\": \"AAPL\", \"date\": \"2005-11-01T00:00:00\", \"price\": 67.82}, {\"symbol\": \"AAPL\", \"date\": \"2005-12-01T00:00:00\", \"price\": 71.89}, {\"symbol\": \"AAPL\", \"date\": \"2006-01-01T00:00:00\", \"price\": 75.51}, {\"symbol\": \"AAPL\", \"date\": \"2006-02-01T00:00:00\", \"price\": 68.49}, {\"symbol\": \"AAPL\", \"date\": \"2006-03-01T00:00:00\", \"price\": 62.72}, {\"symbol\": \"AAPL\", \"date\": \"2006-04-01T00:00:00\", \"price\": 70.39}, {\"symbol\": \"AAPL\", \"date\": \"2006-05-01T00:00:00\", \"price\": 59.77}, {\"symbol\": \"AAPL\", \"date\": \"2006-06-01T00:00:00\", \"price\": 57.27}, {\"symbol\": \"AAPL\", \"date\": \"2006-07-01T00:00:00\", \"price\": 67.96}, {\"symbol\": \"AAPL\", \"date\": \"2006-08-01T00:00:00\", \"price\": 67.85}, {\"symbol\": \"AAPL\", \"date\": \"2006-09-01T00:00:00\", \"price\": 76.98}, {\"symbol\": \"AAPL\", \"date\": \"2006-10-01T00:00:00\", \"price\": 81.08}, {\"symbol\": \"AAPL\", \"date\": \"2006-11-01T00:00:00\", \"price\": 91.66}, {\"symbol\": \"AAPL\", \"date\": \"2006-12-01T00:00:00\", \"price\": 84.84}, {\"symbol\": \"AAPL\", \"date\": \"2007-01-01T00:00:00\", \"price\": 85.73}, {\"symbol\": \"AAPL\", \"date\": \"2007-02-01T00:00:00\", \"price\": 84.61}, {\"symbol\": \"AAPL\", \"date\": \"2007-03-01T00:00:00\", \"price\": 92.91}, {\"symbol\": \"AAPL\", \"date\": \"2007-04-01T00:00:00\", \"price\": 99.8}, {\"symbol\": \"AAPL\", \"date\": \"2007-05-01T00:00:00\", \"price\": 121.19}, {\"symbol\": \"AAPL\", \"date\": \"2007-06-01T00:00:00\", \"price\": 122.04}, {\"symbol\": \"AAPL\", \"date\": \"2007-07-01T00:00:00\", \"price\": 131.76}, {\"symbol\": \"AAPL\", \"date\": \"2007-08-01T00:00:00\", \"price\": 138.48}, {\"symbol\": \"AAPL\", \"date\": \"2007-09-01T00:00:00\", \"price\": 153.47}, {\"symbol\": \"AAPL\", \"date\": \"2007-10-01T00:00:00\", \"price\": 189.95}, {\"symbol\": \"AAPL\", \"date\": \"2007-11-01T00:00:00\", \"price\": 182.22}, {\"symbol\": \"AAPL\", \"date\": \"2007-12-01T00:00:00\", \"price\": 198.08}, {\"symbol\": \"AAPL\", \"date\": \"2008-01-01T00:00:00\", \"price\": 135.36}, {\"symbol\": \"AAPL\", \"date\": \"2008-02-01T00:00:00\", \"price\": 125.02}, {\"symbol\": \"AAPL\", \"date\": \"2008-03-01T00:00:00\", \"price\": 143.5}, {\"symbol\": \"AAPL\", \"date\": \"2008-04-01T00:00:00\", \"price\": 173.95}, {\"symbol\": \"AAPL\", \"date\": \"2008-05-01T00:00:00\", \"price\": 188.75}, {\"symbol\": \"AAPL\", \"date\": \"2008-06-01T00:00:00\", \"price\": 167.44}, {\"symbol\": \"AAPL\", \"date\": \"2008-07-01T00:00:00\", \"price\": 158.95}, {\"symbol\": \"AAPL\", \"date\": \"2008-08-01T00:00:00\", \"price\": 169.53}, {\"symbol\": \"AAPL\", \"date\": \"2008-09-01T00:00:00\", \"price\": 113.66}, {\"symbol\": \"AAPL\", \"date\": \"2008-10-01T00:00:00\", \"price\": 107.59}, {\"symbol\": \"AAPL\", \"date\": \"2008-11-01T00:00:00\", \"price\": 92.67}, {\"symbol\": \"AAPL\", \"date\": \"2008-12-01T00:00:00\", \"price\": 85.35}, {\"symbol\": \"AAPL\", \"date\": \"2009-01-01T00:00:00\", \"price\": 90.13}, {\"symbol\": \"AAPL\", \"date\": \"2009-02-01T00:00:00\", \"price\": 89.31}, {\"symbol\": \"AAPL\", \"date\": \"2009-03-01T00:00:00\", \"price\": 105.12}, {\"symbol\": \"AAPL\", \"date\": \"2009-04-01T00:00:00\", \"price\": 125.83}, {\"symbol\": \"AAPL\", \"date\": \"2009-05-01T00:00:00\", \"price\": 135.81}, {\"symbol\": \"AAPL\", \"date\": \"2009-06-01T00:00:00\", \"price\": 142.43}, {\"symbol\": \"AAPL\", \"date\": \"2009-07-01T00:00:00\", \"price\": 163.39}, {\"symbol\": \"AAPL\", \"date\": \"2009-08-01T00:00:00\", \"price\": 168.21}, {\"symbol\": \"AAPL\", \"date\": \"2009-09-01T00:00:00\", \"price\": 185.35}, {\"symbol\": \"AAPL\", \"date\": \"2009-10-01T00:00:00\", \"price\": 188.5}, {\"symbol\": \"AAPL\", \"date\": \"2009-11-01T00:00:00\", \"price\": 199.91}, {\"symbol\": \"AAPL\", \"date\": \"2009-12-01T00:00:00\", \"price\": 210.73}, {\"symbol\": \"AAPL\", \"date\": \"2010-01-01T00:00:00\", \"price\": 192.06}, {\"symbol\": \"AAPL\", \"date\": \"2010-02-01T00:00:00\", \"price\": 204.62}, {\"symbol\": \"AAPL\", \"date\": \"2010-03-01T00:00:00\", \"price\": 223.02}]}}, {\"mode\": \"vega-lite\"});\n",
       "</script>"
      ],
      "text/plain": [
       "alt.Chart(...)"
      ]
     },
     "execution_count": 8,
     "metadata": {},
     "output_type": "execute_result"
    }
   ],
   "source": [
    "import altair as alt\n",
    "from vega_datasets import data\n",
    "\n",
    "source = data.stocks()\n",
    "\n",
    "alt.Chart(source).mark_area(\n",
    "    color=\"lightblue\",\n",
    "    interpolate='step-after',\n",
    "    line=True\n",
    ").encode(\n",
    "    x='date',\n",
    "    y='price'\n",
    ").transform_filter(alt.datum.symbol == 'GOOG')"
   ]
  },
  {
   "cell_type": "code",
   "execution_count": 5,
   "metadata": {},
   "outputs": [
    {
     "name": "stdout",
     "output_type": "stream",
     "text": [
      "        timestamp           open           high            low          close  \\\n",
      "0   1724112000000  2636.36000000  2695.00000000  2555.00000000  2572.82000000   \n",
      "1   1724198400000  2572.81000000  2663.74000000  2536.22000000  2630.71000000   \n",
      "2   1724284800000  2630.71000000  2644.69000000  2584.20000000  2622.88000000   \n",
      "3   1724371200000  2622.89000000  2799.13000000  2621.40000000  2762.48000000   \n",
      "4   1724457600000  2762.49000000  2820.00000000  2731.26000000  2768.00000000   \n",
      "5   1724544000000  2768.01000000  2792.28000000  2733.21000000  2746.13000000   \n",
      "6   1724630400000  2746.12000000  2762.00000000  2666.66000000  2680.49000000   \n",
      "7   1724716800000  2680.49000000  2699.98000000  2392.96000000  2457.33000000   \n",
      "8   1724803200000  2457.33000000  2554.60000000  2418.80000000  2528.33000000   \n",
      "9   1724889600000  2528.33000000  2595.40000000  2505.88000000  2527.61000000   \n",
      "10  1724976000000  2527.60000000  2552.17000000  2431.14000000  2526.00000000   \n",
      "11  1725062400000  2525.99000000  2533.95000000  2491.92000000  2513.01000000   \n",
      "12  1725148800000  2513.00000000  2516.28000000  2400.00000000  2425.72000000   \n",
      "13  1725235200000  2425.71000000  2564.83000000  2423.52000000  2538.01000000   \n",
      "14  1725321600000  2538.00000000  2553.60000000  2411.12000000  2425.29000000   \n",
      "15  1725408000000  2425.28000000  2490.00000000  2306.65000000  2450.71000000   \n",
      "16  1725494400000  2450.71000000  2466.00000000  2348.04000000  2368.81000000   \n",
      "17  1725580800000  2368.81000000  2408.83000000  2150.55000000  2225.23000000   \n",
      "18  1725667200000  2225.24000000  2311.27000000  2220.98000000  2273.58000000   \n",
      "19  1725753600000  2273.58000000  2333.58000000  2240.94000000  2297.30000000   \n",
      "20  1725840000000  2297.30000000  2381.41000000  2272.80000000  2359.50000000   \n",
      "21  1725926400000  2359.51000000  2400.00000000  2320.41000000  2388.52000000   \n",
      "22  1726012800000  2388.52000000  2389.32000000  2277.68000000  2340.55000000   \n",
      "23  1726099200000  2340.54000000  2391.93000000  2315.39000000  2361.76000000   \n",
      "24  1726185600000  2361.75000000  2464.82000000  2337.35000000  2439.19000000   \n",
      "25  1726272000000  2439.19000000  2440.60000000  2376.72000000  2417.79000000   \n",
      "26  1726358400000  2417.80000000  2430.32000000  2283.75000000  2316.10000000   \n",
      "27  1726444800000  2316.09000000  2335.70000000  2252.39000000  2295.68000000   \n",
      "28  1726531200000  2295.67000000  2393.63000000  2263.29000000  2341.80000000   \n",
      "29  1726617600000  2341.79000000  2343.28000000  2277.34000000  2299.23000000   \n",
      "\n",
      "             volume     close_time   quote_asset_volume  number_of_trades  \\\n",
      "0   281315.87510000  1724198399999   738361057.60213400           1303349   \n",
      "1   245286.62180000  1724284799999   638338169.86214400           1420421   \n",
      "2   199063.11960000  1724371199999   521285357.08642300           1064195   \n",
      "3   401786.44470000  1724457599999  1082989033.02354700           1747686   \n",
      "4   263542.94410000  1724543999999   730370481.13812200           1133872   \n",
      "5   154527.23520000  1724630399999   426733399.32663600           1047985   \n",
      "6   211708.12470000  1724716799999   575695656.47717900           1453833   \n",
      "7   412660.71970000  1724803199999  1058769621.89210300           1898416   \n",
      "8   451266.63400000  1724889599999  1124304892.42379500           2272721   \n",
      "9   237002.96320000  1724975999999   603867504.22594900           1455668   \n",
      "10  338379.19410000  1725062399999   845015735.14941100           1735497   \n",
      "11   97946.11470000  1725148799999   246514334.07653000            702529   \n",
      "12  223127.77600000  1725235199999   550299930.15344900           1357443   \n",
      "13  262632.83850000  1725321599999   654854126.19511100           1452334   \n",
      "14  224793.12990000  1725407999999   556674703.35234100           1272909   \n",
      "15  384179.38540000  1725494399999   921640300.67465400           2002621   \n",
      "16  278549.09690000  1725580799999   667044058.82643400           1862353   \n",
      "17  643027.11100000  1725667199999  1467265008.06349300           2980066   \n",
      "18  219453.20760000  1725753599999   498662894.23097500            982698   \n",
      "19  192775.64930000  1725839999999   440447734.82637300            976672   \n",
      "20  321698.99000000  1725926399999   747001776.04653600           1761692   \n",
      "21  224382.17290000  1726012799999   528411566.91970200           1210860   \n",
      "22  282898.31250000  1726099199999   659291892.32673100           1530070   \n",
      "23  202611.13080000  1726185599999   476749201.76441900           1093596   \n",
      "24  253888.61600000  1726271999999   607650210.70286200           1458878   \n",
      "25  122931.23020000  1726358399999   296990460.13007800            754834   \n",
      "26  174364.19460000  1726444799999   413278017.27632400           1058493   \n",
      "27  330555.23200000  1726531199999   756718235.68223400           2102319   \n",
      "28  274206.25880000  1726617599999   640307796.59404200           1813524   \n",
      "29  140599.68970000  1726703999999   325172198.92714400           1527036   \n",
      "\n",
      "   taker_buy_base_asset_volume taker_buy_quote_asset_volume ignore  \n",
      "0              139599.91330000           366762747.97612900      0  \n",
      "1              121889.98370000           317338706.90672800      0  \n",
      "2               98645.80600000           258303739.53123700      0  \n",
      "3              210295.50730000           567121017.13849100      0  \n",
      "4              130086.44910000           360650474.07165400      0  \n",
      "5               75993.74900000           209910294.01518700      0  \n",
      "6              102718.22470000           279333306.99040100      0  \n",
      "7              187278.07780000           480143744.79680500      0  \n",
      "8              222246.91840000           553710617.94950600      0  \n",
      "9              119563.35910000           304607143.52593600      0  \n",
      "10             172073.91140000           429842974.52976200      0  \n",
      "11              47410.90720000           119335754.45879400      0  \n",
      "12             106672.82840000           263071210.85051600      0  \n",
      "13             134090.70480000           334264683.01748600      0  \n",
      "14             101487.65070000           251452238.68507400      0  \n",
      "15             188707.74580000           452757932.49333500      0  \n",
      "16             131571.92470000           315231080.60793400      0  \n",
      "17             303990.16890000           694418877.02475400      0  \n",
      "18             109807.92460000           249593766.45553000      0  \n",
      "19              93305.19370000           213222870.55342400      0  \n",
      "20             156788.50980000           364223174.14290400      0  \n",
      "21             105895.41880000           249480052.38138200      0  \n",
      "22             135125.59650000           314926799.45453100      0  \n",
      "23             102118.09520000           240341157.99811900      0  \n",
      "24             124124.36760000           297410717.96547000      0  \n",
      "25              57970.96450000           140034806.30787600      0  \n",
      "26              80610.91460000           191044099.00633000      0  \n",
      "27             153834.01110000           352253267.83244000      0  \n",
      "28             134491.63700000           314135444.25581700      0  \n",
      "29              67026.01360000           155044455.32834700      0  \n"
     ]
    }
   ],
   "source": [
    "import requests\n",
    "import pandas as pd\n",
    "from datetime import datetime, timedelta\n",
    "\n",
    "# Set the symbol and timeframe\n",
    "symbol = 'ETHUSDT'\n",
    "timeframe = '1d'\n",
    "\n",
    "# Calculate the start and end timestamps\n",
    "end = datetime.now()\n",
    "start = end - timedelta(days=30)\n",
    "\n",
    "# Convert the timestamps to milliseconds\n",
    "start_ms = int(start.timestamp() * 1000)\n",
    "\n",
    "# Download the OHLC data\n",
    "url = f'https://api.binance.com/api/v3/klines?symbol={symbol}&interval={timeframe}&startTime={start_ms}'\n",
    "response = requests.get(url)\n",
    "data = response.json()\n",
    "\n",
    "# Convert the data to a DataFrame\n",
    "columns = ['timestamp', 'open', 'high', 'low', 'close', 'volume', 'close_time', 'quote_asset_volume', 'number_of_trades', 'taker_buy_base_asset_volume', 'taker_buy_quote_asset_volume', 'ignore']\n",
    "df = pd.DataFrame(data, columns=columns)\n",
    "\n",
    "# Print the data\n",
    "print(df)"
   ]
  },
  {
   "cell_type": "code",
   "execution_count": 8,
   "metadata": {},
   "outputs": [],
   "source": [
    "def get_candles(symbol):\n",
    "    url = \"https://api.binance.com/api/v3/klines\"\n",
    "    params = {\"symbol\": symbol, \"interval\": \"1d\"}\n",
    "    response = requests.get(url, params=params)\n",
    "    data = response.json()\n",
    "    df = pd.DataFrame(data)\n",
    "    df = df.iloc[:, :6]\n",
    "    df.columns = [\"Date\", \"Open\", \"High\", \"Low\", \"Close\", \"Volume\"]\n",
    "    df[\"date\"] = pd.to_datetime(df[\"date\"], unit=\"ms\")\n",
    "    df = df.set_index(\"Date\")\n",
    "    return df"
   ]
  },
  {
   "cell_type": "code",
   "execution_count": 10,
   "metadata": {},
   "outputs": [
    {
     "name": "stdout",
     "output_type": "stream",
     "text": [
      "[[1683504000000, '1870.41000000', '1883.97000000', '1810.73000000', '1847.56000000', '625316.61680000', 1683590399999, '1157603209.76185400', 885693, '308193.85070000', '570302849.74666500', '0'], [1683590400000, '1847.55000000', '1861.88000000', '1830.99000000', '1846.52000000', '304396.18600000', 1683676799999, '561440259.79089500', 517737, '154195.20710000', '284409845.64507900', '0'], [1683676800000, '1846.53000000', '1887.47000000', '1790.51000000', '1840.84000000', '639933.38550000', 1683763199999, '1182254717.03221500', 802140, '315762.39530000', '583244341.86798100', '0'], [1683763200000, '1840.83000000', '1842.02000000', '1772.68000000', '1794.30000000', '522096.07250000', 1683849599999, '944525427.02794200', 679625, '256341.50350000', '463715175.20427200', '0'], [1683849600000, '1794.31000000', '1818.63000000', '1740.00000000', '1807.45000000', '565539.83090000', 1683935999999, '1002104362.59441100', 696930, '272766.58150000', '483569848.95791600', '0'], [1683936000000, '1807.45000000', '1817.03000000', '1785.23000000', '1795.11000000', '212895.43730000', 1684022399999, '383397322.74478100', 342566, '107960.56180000', '194416969.77728900', '0'], [1684022400000, '1795.12000000', '1824.00000000', '1789.82000000', '1799.21000000', '218101.09770000', 1684108799999, '393557662.80186000', 348092, '112091.49980000', '202267370.36955800', '0'], [1684108800000, '1799.20000000', '1846.70000000', '1785.05000000', '1816.20000000', '388171.92610000', 1684195199999, '708011632.17470900', 503728, '200878.52120000', '366433193.42835400', '0'], [1684195200000, '1816.21000000', '1832.64000000', '1796.20000000', '1824.21000000', '311238.67860000', 1684281599999, '565367254.10677700', 466058, '145796.26840000', '264839999.72631800', '0'], [1684281600000, '1824.21000000', '1837.50000000', '1783.68000000', '1822.12000000', '352097.99130000', 1684367999999, '637776970.83385500', 524718, '174614.82380000', '316362266.89123300', '0'], [1684368000000, '1822.12000000', '1831.92000000', '1771.12000000', '1800.56000000', '293755.31100000', 1684454399999, '531357170.82715200', 480171, '142539.40530000', '257898809.71807600', '0'], [1684454400000, '1800.56000000', '1829.54000000', '1796.81000000', '1812.32000000', '243116.46760000', 1684540799999, '440291732.35087900', 390917, '125305.64520000', '226950073.64205800', '0'], [1684540800000, '1812.31000000', '1828.87000000', '1807.06000000', '1819.42000000', '127754.43490000', 1684627199999, '232010582.30662800', 272744, '67168.56350000', '122004402.44592800', '0'], [1684627200000, '1819.42000000', '1828.98000000', '1797.21000000', '1804.91000000', '161517.80530000', 1684713599999, '292535613.87812400', 308391, '76815.25180000', '139145313.56843900', '0'], [1684713600000, '1804.91000000', '1828.27000000', '1792.01000000', '1817.35000000', '237498.94230000', 1684799999999, '430673377.91665300', 411867, '123914.68840000', '224774189.86708500', '0'], [1684800000000, '1817.36000000', '1872.50000000', '1815.24000000', '1854.05000000', '396869.60970000', 1684886399999, '734581474.72246600', 548587, '222549.77690000', '411731244.57850600', '0'], [1684886400000, '1854.06000000', '1854.09000000', '1777.60000000', '1799.89000000', '420846.14450000', 1684972799999, '761360360.59788700', 554307, '193455.11130000', '349797434.17615900', '0'], [1684972800000, '1799.89000000', '1818.81000000', '1761.41000000', '1805.60000000', '350633.00890000', 1685059199999, '628769352.44257100', 482899, '164410.16270000', '294794104.35496200', '0'], [1685059200000, '1805.61000000', '1838.20000000', '1796.99000000', '1827.79000000', '275690.68540000', 1685145599999, '501773973.87993700', 375854, '140633.10750000', '255923842.59407100', '0'], [1685145600000, '1827.80000000', '1836.12000000', '1812.18000000', '1829.89000000', '138824.94060000', 1685231999999, '253710138.25056300', 276383, '69580.64790000', '127156321.87459000', '0'], [1685232000000, '1829.89000000', '1918.65000000', '1823.60000000', '1908.64000000', '378392.43710000', 1685318399999, '705699886.22948800', 549727, '194805.86070000', '363152161.53674800', '0'], [1685318400000, '1908.64000000', '1927.62000000', '1873.65000000', '1892.60000000', '313593.49420000', 1685404799999, '596236148.90988500', 445895, '158390.34480000', '301175186.43959400', '0'], [1685404800000, '1892.60000000', '1917.00000000', '1881.19000000', '1900.59000000', '272665.84020000', 1685491199999, '519059196.24741600', 422249, '134288.16090000', '255644547.73762700', '0'], [1685491200000, '1900.58000000', '1907.13000000', '1846.95000000', '1873.63000000', '319255.56810000', 1685577599999, '597360395.54403400', 451133, '149451.08700000', '279624016.04226000', '0'], [1685577600000, '1873.63000000', '1889.20000000', '1840.00000000', '1861.78000000', '270496.60970000', 1685663999999, '504448237.27338000', 422899, '132786.93240000', '247622735.20923100', '0'], [1685664000000, '1861.78000000', '1910.00000000', '1847.51000000', '1906.68000000', '313004.06580000', 1685750399999, '591169483.09944700', 456788, '157874.04030000', '298230534.99306600', '0'], [1685750400000, '1906.69000000', '1907.92000000', '1881.60000000', '1892.06000000', '148818.24270000', 1685836799999, '282550389.94668800', 292512, '71248.10150000', '135269927.94934600', '0'], [1685836800000, '1892.05000000', '1914.63000000', '1884.22000000', '1890.01000000', '172683.01190000', 1685923199999, '328166899.06235400', 289973, '85783.12010000', '163026354.23802600', '0'], [1685923200000, '1890.00000000', '1890.63000000', '1778.00000000', '1810.50000000', '555361.26830000', 1686009599999, '1017689609.36225600', 688879, '253634.64500000', '464638835.75944900', '0'], [1686009600000, '1810.49000000', '1898.29000000', '1797.18000000', '1884.64000000', '491407.21740000', 1686095999999, '907660359.42596600', 616201, '254098.02440000', '469823908.55393200', '0'], [1686096000000, '1884.65000000', '1897.80000000', '1821.18000000', '1832.13000000', '429196.70640000', 1686182399999, '796856688.86671300', 594071, '201074.79930000', '373411267.73444600', '0'], [1686182400000, '1832.12000000', '1861.28000000', '1828.31000000', '1845.64000000', '189270.48530000', 1686268799999, '349160385.10498000', 347990, '89218.13060000', '164597259.31850700', '0'], [1686268800000, '1845.65000000', '1855.00000000', '1827.00000000', '1840.37000000', '198324.32520000', 1686355199999, '365037779.74288700', 354623, '92841.28830000', '170881394.31631400', '0'], [1686355200000, '1840.37000000', '1844.99000000', '1715.03000000', '1751.53000000', '652324.66950000', 1686441599999, '1148312156.52559600', 877410, '298962.65330000', '525884490.13860500', '0'], [1686441600000, '1751.52000000', '1778.25000000', '1738.72000000', '1752.76000000', '219956.24340000', 1686527999999, '385656545.95023800', 378921, '104970.10390000', '184058191.29345500', '0'], [1686528000000, '1752.77000000', '1759.33000000', '1720.00000000', '1742.57000000', '302132.48190000', 1686614399999, '525467514.61960900', 467392, '154579.04660000', '268848228.17760000', '0'], [1686614400000, '1742.57000000', '1770.13000000', '1724.22000000', '1740.12000000', '284268.00180000', 1686700799999, '495907901.66849300', 498880, '147060.37350000', '256562479.93400000', '0'], [1686700800000, '1740.12000000', '1750.03000000', '1630.43000000', '1650.95000000', '415847.32700000', 1686787199999, '705586390.23398100', 572996, '198035.00600000', '335772562.74237700', '0'], [1686787200000, '1650.95000000', '1680.91000000', '1626.01000000', '1666.96000000', '370774.76960000', 1686873599999, '611499814.54217600', 458568, '192425.51560000', '317419943.08694800', '0'], [1686873600000, '1666.96000000', '1729.50000000', '1649.86000000', '1717.92000000', '311734.59040000', 1686959999999, '525393264.96220100', 408176, '158600.07400000', '267168521.19164600', '0'], [1686960000000, '1717.91000000', '1770.00000000', '1714.26000000', '1727.76000000', '210914.92160000', 1687046399999, '366944179.32063700', 359758, '107260.84850000', '186631806.83369700', '0'], [1687046400000, '1727.75000000', '1747.84000000', '1712.00000000', '1720.95000000', '156535.01280000', 1687132799999, '270948973.41748400', 273858, '79223.60390000', '137159225.73341200', '0'], [1687132800000, '1720.95000000', '1752.19000000', '1698.00000000', '1737.11000000', '245162.75890000', 1687219199999, '422827205.77548900', 366143, '120432.59420000', '207735564.79235500', '0'], [1687219200000, '1737.10000000', '1796.99000000', '1714.72000000', '1791.99000000', '328855.68460000', 1687305599999, '577529266.78921700', 459724, '168345.97910000', '295848851.47750900', '0'], [1687305600000, '1791.99000000', '1901.00000000', '1787.38000000', '1889.11000000', '613755.88690000', 1687391999999, '1132377905.48890200', 699689, '301882.53500000', '557089886.05291200', '0'], [1687392000000, '1889.10000000', '1933.17000000', '1865.98000000', '1872.01000000', '416714.57190000', 1687478399999, '791056016.14617600', 536410, '196874.68600000', '373931527.58078600', '0'], [1687478400000, '1872.00000000', '1936.42000000', '1861.01000000', '1892.63000000', '401147.93240000', 1687564799999, '760352485.33668100', 531784, '196520.65020000', '372600003.36950400', '0'], [1687564800000, '1892.63000000', '1906.00000000', '1864.77000000', '1874.96000000', '226910.29410000', 1687651199999, '427721477.76198000', 356654, '108047.87640000', '203668990.45857100', '0'], [1687651200000, '1874.95000000', '1930.00000000', '1868.83000000', '1898.80000000', '338757.61580000', 1687737599999, '644415530.04061600', 482753, '170334.26420000', '323870595.29258300', '0'], [1687737600000, '1898.80000000', '1909.10000000', '1837.18000000', '1858.97000000', '458743.86100000', 1687823999999, '859537162.35561400', 518009, '221834.27490000', '415653994.57101500', '0'], [1687824000000, '1858.97000000', '1912.53000000', '1855.19000000', '1889.58000000', '366634.57070000', 1687910399999, '690855987.04133200', 437184, '195382.36640000', '368354695.94773100', '0'], [1687910400000, '1889.58000000', '1890.19000000', '1816.56000000', '1828.02000000', '337836.57920000', 1687996799999, '626358502.58848000', 437585, '160645.26760000', '297804857.12545500', '0'], [1687996800000, '1828.03000000', '1880.00000000', '1827.84000000', '1851.99000000', '241844.82810000', 1688083199999, '448678322.17682200', 350823, '123194.61910000', '228587452.24364900', '0'], [1688083200000, '1851.99000000', '1948.60000000', '1825.01000000', '1933.79000000', '716538.10350000', 1688169599999, '1353630452.61544500', 824889, '345435.65260000', '653049175.24502700', '0'], [1688169600000, '1933.80000000', '1944.56000000', '1909.44000000', '1924.50000000', '178373.36880000', 1688255999999, '343093755.61273600', 307019, '88294.47030000', '169850518.15340400', '0'], [1688256000000, '1924.50000000', '1959.20000000', '1885.75000000', '1937.48000000', '255852.78320000', 1688342399999, '491981842.96013900', 381133, '127341.96230000', '244921036.01352000', '0'], [1688342400000, '1937.49000000', '1976.16000000', '1933.55000000', '1955.54000000', '322102.42950000', 1688428799999, '631158998.81141600', 404084, '156608.64050000', '306826484.73680200', '0'], [1688428800000, '1955.55000000', '1967.08000000', '1931.58000000', '1936.20000000', '205525.09840000', 1688515199999, '401186997.24983800', 307691, '93898.54220000', '183304067.88205800', '0'], [1688515200000, '1936.19000000', '1942.50000000', '1894.51000000', '1910.36000000', '267633.47830000', 1688601599999, '512774138.21894900', 362985, '128057.05960000', '245340739.07556300', '0'], [1688601600000, '1910.35000000', '1958.00000000', '1846.00000000', '1846.17000000', '456362.74100000', 1688687999999, '868009586.22327000', 519031, '225559.18200000', '429043301.00454300', '0'], [1688688000000, '1846.17000000', '1878.00000000', '1826.00000000', '1870.91000000', '232944.34660000', 1688774399999, '432733381.05496700', 355260, '115143.08730000', '213926654.20575500', '0'], [1688774400000, '1870.92000000', '1876.00000000', '1842.80000000', '1865.24000000', '125819.82730000', 1688860799999, '234001180.80462500', 228589, '62592.51970000', '116432999.11736000', '0'], [1688860800000, '1865.24000000', '1879.36000000', '1856.15000000', '1862.80000000', '135046.37430000', 1688947199999, '252189550.05161000', 234925, '67977.91700000', '126943043.66060800', '0'], [1688947200000, '1862.81000000', '1905.50000000', '1846.63000000', '1880.40000000', '247868.14940000', 1689033599999, '464186441.16338200', 338462, '123964.15400000', '232197400.11132800', '0'], [1689033600000, '1880.41000000', '1891.99000000', '1862.38000000', '1878.30000000', '177771.61170000', 1689119999999, '333339876.93269600', 256360, '85214.33010000', '159785569.13999600', '0'], [1689120000000, '1878.31000000', '1902.00000000', '1864.37000000', '1871.82000000', '264406.86730000', 1689206399999, '498567734.55913300', 338468, '127657.95260000', '240728674.89619800', '0'], [1689206400000, '1871.82000000', '2012.63000000', '1862.59000000', '2004.49000000', '548861.42070000', 1689292799999, '1069502144.02619400', 618276, '275375.01890000', '536826200.18952200', '0'], [1689292800000, '2004.49000000', '2029.11000000', '1898.39000000', '1937.83000000', '498724.03590000', 1689379199999, '982369872.01990000', 604687, '233071.08200000', '459199490.67721600', '0'], [1689379200000, '1937.82000000', '1946.37000000', '1926.23000000', '1931.41000000', '135181.76630000', 1689465599999, '261553961.16751500', 242818, '65759.39380000', '127241697.85754400', '0'], [1689465600000, '1931.41000000', '1943.55000000', '1914.00000000', '1922.11000000', '148667.10510000', 1689551999999, '286787440.45690100', 253770, '69691.91530000', '134478359.19064900', '0'], [1689552000000, '1922.12000000', '1936.18000000', '1873.26000000', '1911.20000000', '277159.03490000', 1689638399999, '528662412.29765800', 391391, '134997.43870000', '257602038.11976900', '0'], [1689638400000, '1911.21000000', '1917.19000000', '1875.73000000', '1897.21000000', '215780.50060000', 1689724799999, '409583830.87633300', 315100, '104433.40230000', '198241004.72850600', '0'], [1689724800000, '1897.21000000', '1922.04000000', '1882.17000000', '1888.63000000', '218045.00050000', 1689811199999, '415268112.54340100', 266831, '108435.73970000', '206536797.50756000', '0'], [1689811200000, '1888.64000000', '1929.05000000', '1878.00000000', '1891.59000000', '292907.51640000', 1689897599999, '556981450.45530100', 353180, '146238.33710000', '278124518.64556500', '0'], [1689897600000, '1891.59000000', '1905.74000000', '1884.64000000', '1891.73000000', '165554.04280000', 1689983999999, '313414135.89511100', 260385, '80526.66420000', '152465025.97191100', '0'], [1689984000000, '1891.73000000', '1897.35000000', '1851.18000000', '1866.52000000', '131901.64870000', 1690070399999, '247820592.76861300', 240897, '63386.28070000', '119075556.07967700', '0'], [1690070400000, '1866.52000000', '1905.25000000', '1857.82000000', '1888.73000000', '153501.01780000', 1690156799999, '288736391.86133800', 254227, '77750.79530000', '146207958.76945200', '0'], [1690156800000, '1888.74000000', '1890.86000000', '1833.19000000', '1850.00000000', '276504.55470000', 1690243199999, '512402907.45784500', 336366, '132903.49640000', '246198594.77742200', '0'], [1690243200000, '1850.00000000', '1868.71000000', '1845.45000000', '1857.66000000', '152251.21000000', 1690329599999, '282696600.92125700', 248856, '74772.69460000', '138842172.88567400', '0'], [1690329600000, '1857.66000000', '1888.00000000', '1848.35000000', '1872.00000000', '272090.53330000', 1690415999999, '507049348.71731100', 319851, '148093.90820000', '275939339.56717600', '0'], [1690416000000, '1871.99000000', '1886.11000000', '1854.84000000', '1861.28000000', '163766.42590000', 1690502399999, '306463587.40202000', 252294, '80701.93000000', '151048244.46030900', '0'], [1690502400000, '1861.29000000', '1883.39000000', '1856.52000000', '1874.19000000', '138695.71470000', 1690588799999, '259228467.50226200', 219389, '70493.20350000', '131768046.05069400', '0'], [1690588800000, '1874.20000000', '1886.58000000', '1869.54000000', '1880.46000000', '72867.02690000', 1690675199999, '136676328.67955000', 166385, '35883.35010000', '67306690.35157900', '0'], [1690675200000, '1880.45000000', '1885.30000000', '1848.17000000', '1861.79000000', '158657.59020000', 1690761599999, '296504225.22149700', 247858, '82527.46300000', '154244296.26924400', '0'], [1690761600000, '1861.79000000', '1877.40000000', '1851.02000000', '1856.14000000', '168204.45340000', 1690847999999, '313517086.16175500', 246487, '81667.85240000', '152228050.61514500', '0'], [1690848000000, '1856.13000000', '1875.62000000', '1813.80000000', '1873.47000000', '358476.09660000', 1690934399999, '659100582.10844800', 411508, '170424.36490000', '313392733.79441200', '0'], [1690934400000, '1873.48000000', '1879.74000000', '1821.21000000', '1839.90000000', '254213.05530000', 1691020799999, '470466371.26278600', 331270, '122977.56270000', '227628401.25795600', '0'], [1691020800000, '1839.90000000', '1859.12000000', '1826.00000000', '1835.81000000', '171148.05200000', 1691107199999, '315081750.38648000', 254918, '84099.07300000', '154854420.42163900', '0'], [1691107200000, '1835.81000000', '1851.31000000', '1815.74000000', '1830.23000000', '187699.45520000', 1691193599999, '344687096.60203800', 256002, '90965.14430000', '167095446.03822700', '0'], [1691193600000, '1830.24000000', '1839.00000000', '1827.50000000', '1836.48000000', '93657.32550000', 1691279999999, '171683574.02264300', 174254, '46888.39410000', '85951801.63235300', '0'], [1691280000000, '1836.48000000', '1838.58000000', '1825.86000000', '1830.28000000', '90403.99150000', 1691366399999, '165701947.01934500', 169928, '43827.85150000', '80334895.42593000', '0'], [1691366400000, '1830.28000000', '1847.00000000', '1802.00000000', '1829.10000000', '224092.90590000', 1691452799999, '409166592.89164900', 289161, '109927.11500000', '200686537.15538600', '0'], [1691452800000, '1829.10000000', '1876.51000000', '1826.33000000', '1856.30000000', '236336.03000000', 1691539199999, '436891258.63485800', 322607, '121075.13870000', '223753000.41018600', '0'], [1691539200000, '1856.30000000', '1871.99000000', '1846.28000000', '1855.35000000', '191926.83430000', 1691625599999, '356559464.88331800', 266834, '93172.68950000', '173114071.77023500', '0'], [1691625600000, '1855.36000000', '1865.95000000', '1845.38000000', '1852.47000000', '127321.45530000', 1691711999999, '236043286.65635100', 208017, '62527.36150000', '115937584.65664400', '0'], [1691712000000, '1852.47000000', '1857.26000000', '1838.05000000', '1848.84000000', '113209.31030000', 1691798399999, '209237745.63836000', 197546, '54665.68090000', '101048972.22795800', '0'], [1691798400000, '1848.84000000', '1854.01000000', '1846.08000000', '1849.93000000', '63292.64760000', 1691884799999, '117106742.56984400', 154110, '32218.95280000', '59615440.05243700', '0'], [1691884800000, '1849.94000000', '1862.00000000', '1834.51000000', '1840.73000000', '120674.13640000', 1691971199999, '222956657.34742800', 211874, '69109.15080000', '127637208.70224500', '0'], [1691971200000, '1840.73000000', '1856.50000000', '1835.00000000', '1845.50000000', '150196.12030000', 1692057599999, '277387603.67740300', 244296, '69702.79570000', '128731746.13751300', '0'], [1692057600000, '1845.50000000', '1847.36000000', '1814.00000000', '1828.98000000', '186081.69890000', 1692143999999, '341622741.95627100', 264314, '85927.31880000', '157737206.70205100', '0'], [1692144000000, '1828.98000000', '1831.52000000', '1798.17000000', '1807.81000000', '205430.73680000', 1692230399999, '373631455.89955800', 311372, '94619.39960000', '172094672.81802700', '0'], [1692230400000, '1807.81000000', '1809.99000000', '1550.00000000', '1681.49000000', '812138.21590000', 1692316799999, '1390504308.00338100', 906515, '389817.18110000', '666353412.64305200', '0'], [1692316800000, '1681.49000000', '1699.40000000', '1641.02000000', '1661.59000000', '538083.10180000', 1692403199999, '901117750.71732300', 597838, '256018.67180000', '428794110.08938600', '0'], [1692403200000, '1661.60000000', '1696.72000000', '1654.31000000', '1669.67000000', '231919.04850000', 1692489599999, '387407573.38040000', 312174, '116535.73010000', '194692011.36082900', '0'], [1692489600000, '1669.68000000', '1694.75000000', '1662.03000000', '1685.24000000', '195623.52630000', 1692575999999, '327342264.94863000', 275035, '94917.00420000', '158824704.09947200', '0'], [1692576000000, '1685.23000000', '1688.59000000', '1649.40000000', '1667.55000000', '250835.15180000', 1692662399999, '418860905.06739700', 297843, '117136.71800000', '195605713.14389800', '0'], [1692662400000, '1667.56000000', '1669.38000000', '1580.00000000', '1634.99000000', '402012.04500000', 1692748799999, '657589420.92301800', 484314, '187447.18470000', '306584459.75679800', '0'], [1692748800000, '1635.00000000', '1702.11000000', '1629.05000000', '1679.61000000', '374761.10880000', 1692835199999, '622717740.76397000', 472134, '180299.08850000', '299569404.88600100', '0'], [1692835200000, '1679.61000000', '1683.37000000', '1635.28000000', '1661.16000000', '231539.78050000', 1692921599999, '383948287.50042600', 287178, '111082.65850000', '184136212.63221900', '0'], [1692921600000, '1661.16000000', '1677.22000000', '1635.51000000', '1653.80000000', '236261.68980000', 1693007999999, '390502520.58229600', 307211, '114825.18610000', '189795100.57487400', '0'], [1693008000000, '1653.79000000', '1655.59000000', '1644.00000000', '1647.04000000', '79175.42500000', 1693094399999, '130634757.64833300', 157980, '36874.95360000', '60839314.57102100', '0'], [1693094400000, '1647.03000000', '1660.24000000', '1646.32000000', '1658.33000000', '87789.91960000', 1693180799999, '145109143.68383600', 163046, '45374.45330000', '75003594.93871500', '0'], [1693180800000, '1658.33000000', '1664.34000000', '1621.75000000', '1653.08000000', '214351.01430000', 1693267199999, '352868062.83225000', 274580, '103654.50890000', '170648261.33481400', '0'], [1693267200000, '1653.08000000', '1745.84000000', '1640.00000000', '1729.42000000', '494371.08230000', 1693353599999, '842464924.52209200', 504683, '251594.26520000', '428870082.85715900', '0'], [1693353600000, '1729.41000000', '1730.93000000', '1694.34000000', '1705.23000000', '202841.44020000', 1693439999999, '347291135.28552000', 308391, '97462.27280000', '166837724.68315700', '0'], [1693440000000, '1705.23000000', '1729.00000000', '1630.00000000', '1645.76000000', '330518.26680000', 1693526399999, '554219312.09431100', 396774, '158776.94210000', '266221239.02103800', '0'], [1693526400000, '1645.77000000', '1654.53000000', '1602.33000000', '1629.12000000', '302406.16860000', 1693612799999, '493457144.93884900', 368740, '152891.86550000', '249490726.90606900', '0'], [1693612800000, '1629.13000000', '1645.00000000', '1628.03000000', '1637.03000000', '102145.94760000', 1693699199999, '166937240.93397200', 208209, '50845.85580000', '83098703.76918300', '0'], [1693699200000, '1637.02000000', '1647.50000000', '1625.14000000', '1635.84000000', '116767.28620000', 1693785599999, '190979647.35331100', 216339, '58997.60720000', '96501876.14426800', '0'], [1693785600000, '1635.84000000', '1644.82000000', '1616.32000000', '1630.51000000', '168010.90560000', 1693871999999, '274049115.41792200', 275381, '79390.44060000', '129501176.24789900', '0'], [1693872000000, '1630.52000000', '1648.02000000', '1609.69000000', '1634.45000000', '204365.49070000', 1693958399999, '333010633.96395500', 299045, '92320.42680000', '150498646.09196400', '0'], [1693958400000, '1634.46000000', '1670.00000000', '1609.20000000', '1633.15000000', '219541.01930000', 1694044799999, '358419121.47431900', 331227, '106351.46940000', '173671492.35316100', '0'], [1694044800000, '1633.15000000', '1660.00000000', '1623.40000000', '1648.11000000', '228558.27820000', 1694131199999, '374542954.19473200', 319517, '108679.21550000', '178109929.79143400', '0'], [1694131200000, '1648.11000000', '1658.93000000', '1616.21000000', '1636.44000000', '221570.04580000', 1694217599999, '362938822.78561800', 312966, '109915.19530000', '180061629.98089300', '0'], [1694217600000, '1636.43000000', '1637.52000000', '1629.74000000', '1635.54000000', '58519.62290000', 1694303999999, '95627623.41755600', 156305, '26774.70470000', '43756923.41116400', '0'], [1694304000000, '1635.53000000', '1635.70000000', '1600.00000000', '1617.42000000', '207957.84280000', 1694390399999, '336517904.44357200', 292581, '100039.46380000', '161887440.95607500', '0'], [1694390400000, '1617.42000000', '1619.00000000', '1531.01000000', '1551.85000000', '417424.81890000', 1694476799999, '657137141.34232000', 470056, '202066.27300000', '318051411.66556500', '0'], [1694476800000, '1551.84000000', '1626.00000000', '1549.67000000', '1592.97000000', '329739.96850000', 1694563199999, '525392019.74439200', 444268, '163861.72240000', '260938398.99068400', '0'], [1694563200000, '1592.97000000', '1619.30000000', '1581.88000000', '1607.62000000', '223409.28890000', 1694649599999, '357304191.67390100', 349327, '107880.37120000', '172522864.73323100', '0'], [1694649600000, '1607.61000000', '1644.29000000', '1607.05000000', '1626.47000000', '275301.15050000', 1694735999999, '447913522.75155000', 414952, '138634.91200000', '225589264.49306300', '0'], [1694736000000, '1626.48000000', '1654.08000000', '1611.42000000', '1641.29000000', '181340.02400000', 1694822399999, '295616593.10786500', 313776, '88087.76060000', '143641063.63150800', '0'], [1694822400000, '1641.30000000', '1653.17000000', '1631.31000000', '1634.40000000', '99555.46710000', 1694908799999, '163144495.69107900', 245713, '43821.93810000', '71819073.48656100', '0'], [1694908800000, '1634.40000000', '1635.00000000', '1612.00000000', '1622.48000000', '120227.41170000', 1694995199999, '195464805.89100300', 264713, '53504.64230000', '86960701.56543400', '0'], [1694995200000, '1622.48000000', '1669.50000000', '1603.88000000', '1636.66000000', '279041.69780000', 1695081599999, '458235380.24668600', 453410, '138512.84180000', '227475377.92370300', '0'], [1695081600000, '1636.66000000', '1661.04000000', '1626.32000000', '1643.12000000', '184282.42580000', 1695167999999, '302910996.59182800', 350549, '87617.88890000', '144020378.48103300', '0'], [1695168000000, '1643.13000000', '1649.34000000', '1604.51000000', '1622.26000000', '232844.23470000', 1695254399999, '379255954.95170500', 382581, '110068.56250000', '179266382.86945100', '0'], [1695254400000, '1622.27000000', '1625.30000000', '1567.77000000', '1583.94000000', '240627.54400000', 1695340799999, '384503484.65584100', 368163, '113477.52690000', '181209870.85890900', '0'], [1695340800000, '1583.94000000', '1602.68000000', '1576.58000000', '1593.08000000', '124886.09100000', 1695427199999, '198987470.05588800', 267398, '59931.03820000', '95501097.43361500', '0'], [1695427200000, '1593.07000000', '1598.24000000', '1587.45000000', '1593.86000000', '64537.13410000', 1695513599999, '102806906.08343100', 217950, '29897.50660000', '47624962.92926800', '0'], [1695513600000, '1593.85000000', '1601.12000000', '1570.01000000', '1580.71000000', '137517.85330000', 1695599999999, '218549215.97400900', 307377, '69567.52880000', '110560825.81027300', '0'], [1695600000000, '1580.71000000', '1597.50000000', '1563.01000000', '1588.33000000', '176706.92770000', 1695686399999, '279294486.72266100', 405042, '86242.67550000', '136326196.38298200', '0'], [1695686400000, '1588.34000000', '1599.78000000', '1580.05000000', '1594.01000000', '125583.01610000', 1695772799999, '199551097.28954800', 317309, '60123.62820000', '95545795.23509700', '0'], [1695772800000, '1594.02000000', '1634.10000000', '1583.50000000', '1598.64000000', '274404.43280000', 1695859199999, '440883556.96005400', 478489, '130309.72470000', '209389151.24377600', '0'], [1695859200000, '1598.63000000', '1668.21000000', '1598.14000000', '1652.99000000', '331409.70150000', 1695945599999, '541873730.29669800', 567825, '161317.02190000', '263716289.47712900', '0'], [1695945600000, '1653.00000000', '1688.00000000', '1648.37000000', '1667.45000000', '251975.67280000', 1696031999999, '420335662.09662800', 494615, '119324.55780000', '199086852.66872900', '0'], [1696032000000, '1667.45000000', '1694.32000000', '1666.19000000', '1670.89000000', '136924.91410000', 1696118399999, '229630339.53543700', 342315, '74748.05190000', '125347764.51287300', '0'], [1696118400000, '1670.89000000', '1751.00000000', '1668.00000000', '1733.79000000', '225611.58680000', 1696204799999, '383793846.18348800', 495195, '113996.16590000', '194000592.08668800', '0'], [1696204800000, '1733.80000000', '1744.00000000', '1636.79000000', '1662.40000000', '378575.68980000', 1696291199999, '643680600.09260300', 773990, '181099.22020000', '308057405.92135800', '0'], [1696291200000, '1662.41000000', '1670.65000000', '1643.00000000', '1656.88000000', '198287.11640000', 1696377599999, '328606758.39861700', 530016, '93742.61540000', '155357300.32174700', '0'], [1696377600000, '1656.88000000', '1657.66000000', '1625.00000000', '1646.58000000', '222861.71670000', 1696463999999, '365919693.07999000', 553269, '105410.57680000', '173086611.24806600', '0'], [1696464000000, '1646.58000000', '1655.47000000', '1606.73000000', '1611.79000000', '237378.74490000', 1696550399999, '386770321.77235200', 545845, '110822.14590000', '180526551.03047100', '0'], [1696550400000, '1611.79000000', '1662.00000000', '1611.68000000', '1645.03000000', '220507.92860000', 1696636799999, '360565723.57884400', 539488, '109623.00060000', '179235720.66966800', '0'], [1696636800000, '1645.03000000', '1647.71000000', '1630.03000000', '1633.57000000', '101241.57320000', 1696723199999, '165907550.80901300', 288695, '47002.98120000', '77028514.72954500', '0'], [1696723200000, '1633.56000000', '1641.40000000', '1616.17000000', '1632.84000000', '149424.66350000', 1696809599999, '243516204.38871700', 372636, '72838.61570000', '118698298.92276700', '0'], [1696809600000, '1632.85000000', '1636.00000000', '1546.00000000', '1580.13000000', '340141.09880000', 1696895999999, '540588837.45958900', 646240, '167250.98390000', '265609380.01829500', '0'], [1696896000000, '1580.13000000', '1594.90000000', '1550.55000000', '1567.63000000', '240659.32870000', 1696982399999, '378967575.34008300', 613660, '122514.98030000', '192965581.78925500', '0'], [1696982400000, '1567.62000000', '1578.43000000', '1544.26000000', '1566.87000000', '260253.96710000', 1697068799999, '406667649.14402200', 605321, '134785.48640000', '210618804.52340000', '0'], [1697068800000, '1566.86000000', '1568.56000000', '1521.00000000', '1539.61000000', '237221.49770000', 1697155199999, '366335747.01366700', 510960, '110863.92500000', '171195520.91783800', '0'], [1697155200000, '1539.61000000', '1575.36000000', '1537.76000000', '1552.16000000', '192205.87360000', 1697241599999, '297929349.18692500', 520123, '92439.20410000', '143291580.64583900', '0'], [1697241600000, '1552.16000000', '1561.72000000', '1544.55000000', '1554.94000000', '100314.67540000', 1697327999999, '155648012.90784400', 281561, '41626.75670000', '64617045.02605300', '0'], [1697328000000, '1554.94000000', '1567.62000000', '1547.44000000', '1557.77000000', '120311.27380000', 1697414399999, '187266232.06238600', 316951, '57789.47240000', '89957330.73435300', '0'], [1697414400000, '1557.78000000', '1639.43000000', '1555.06000000', '1599.42000000', '418510.86440000', 1697500799999, '665124956.25364000', 729569, '215767.08560000', '342929071.44598200', '0'], [1697500800000, '1599.41000000', '1600.53000000', '1551.08000000', '1565.01000000', '234817.06990000', 1697587199999, '370032208.15675400', 475213, '106364.46260000', '167596650.46421400', '0'], [1697587200000, '1565.01000000', '1585.42000000', '1555.88000000', '1563.44000000', '177750.22530000', 1697673599999, '279357949.45458000', 440577, '87939.03430000', '138219607.96215800', '0'], [1697673600000, '1563.45000000', '1574.45000000', '1541.61000000', '1566.57000000', '216217.66750000', 1697759999999, '336684246.04449600', 469598, '101807.26510000', '158534910.77649600', '0'], [1697760000000, '1566.57000000', '1630.40000000', '1561.19000000', '1603.89000000', '315995.79200000', 1697846399999, '506065182.98231400', 651738, '158954.72470000', '254549257.17093600', '0'], [1697846400000, '1603.88000000', '1644.53000000', '1592.36000000', '1628.94000000', '176419.40920000', 1697932799999, '285546594.56213000', 463033, '89419.90930000', '144754684.68165700', '0'], [1697932800000, '1628.94000000', '1667.80000000', '1621.10000000', '1663.70000000', '228650.92250000', 1698019199999, '374841495.30439100', 580843, '108635.98610000', '178084510.66694800', '0'], [1698019200000, '1663.69000000', '1800.00000000', '1657.07000000', '1765.46000000', '610931.96630000', 1698105599999, '1044121568.09905400', 1167834, '302609.53350000', '517197485.18685300', '0'], [1698105600000, '1765.47000000', '1854.38000000', '1756.21000000', '1784.98000000', '674055.13750000', 1698191999999, '1216867823.89922500', 1308532, '335960.76130000', '606671583.33911700', '0'], [1698192000000, '1784.98000000', '1817.69000000', '1760.00000000', '1787.15000000', '354410.82940000', 1698278399999, '634289515.56577900', 774777, '177656.30270000', '318020760.74040300', '0'], [1698278400000, '1787.15000000', '1865.54000000', '1762.21000000', '1803.38000000', '431169.04530000', 1698364799999, '781481904.95969700', 901019, '216166.78560000', '391693373.21916700', '0'], [1698364800000, '1803.39000000', '1803.91000000', '1744.66000000', '1779.40000000', '274532.69210000', 1698451199999, '488398895.21753700', 594592, '137263.46820000', '244249949.51807600', '0'], [1698451200000, '1779.41000000', '1803.23000000', '1770.00000000', '1776.20000000', '122919.73820000', 1698537599999, '219588597.64105000', 333711, '59590.45430000', '106460555.45935900', '0'], [1698537600000, '1776.21000000', '1811.30000000', '1762.66000000', '1795.14000000', '144110.65080000', 1698623999999, '258015412.93155400', 371024, '68282.97790000', '122240383.72822500', '0'], [1698624000000, '1795.14000000', '1829.84000000', '1777.77000000', '1809.04000000', '277686.19200000', 1698710399999, '501228029.31760500', 560359, '134895.64800000', '243576319.80932100', '0'], [1698710400000, '1809.03000000', '1819.41000000', '1780.99000000', '1814.67000000', '258074.57960000', 1698796799999, '464695558.99525400', 577888, '120112.91540000', '216284275.88791600', '0'], [1698796800000, '1814.67000000', '1857.66000000', '1783.19000000', '1846.99000000', '471921.61840000', 1698883199999, '858744655.31150800', 862416, '234932.89940000', '427830377.61923100', '0'], [1698883200000, '1846.99000000', '1875.00000000', '1785.01000000', '1800.80000000', '368738.21930000', 1698969599999, '674522153.76558900', 790110, '185623.84900000', '339696387.31557100', '0'], [1698969600000, '1800.79000000', '1834.58000000', '1777.11000000', '1832.71000000', '315000.26780000', 1699055999999, '568244477.51770300', 713592, '148670.14460000', '268213982.30877700', '0'], [1699056000000, '1832.70000000', '1869.90000000', '1824.03000000', '1855.54000000', '171538.03640000', 1699142399999, '315560482.70251600', 463794, '90964.88280000', '167382926.70823700', '0'], [1699142400000, '1855.54000000', '1912.67000000', '1846.11000000', '1891.71000000', '383106.76280000', 1699228799999, '721508408.94399200', 780672, '194760.18480000', '366825053.12650500', '0'], [1699228800000, '1891.71000000', '1914.23000000', '1868.48000000', '1900.95000000', '328746.23940000', 1699315199999, '622198937.15669200', 717293, '163547.45760000', '309583391.10696100', '0'], [1699315200000, '1900.95000000', '1906.99000000', '1850.32000000', '1885.27000000', '332419.44060000', 1699401599999, '625566317.42704500', 760921, '157050.09940000', '295599094.27211800', '0'], [1699401600000, '1885.26000000', '1904.69000000', '1872.51000000', '1888.12000000', '247881.09970000', 1699487999999, '468144576.74145400', 514836, '125671.61970000', '237346429.60485600', '0'], [1699488000000, '1888.11000000', '2132.00000000', '1882.07000000', '2121.32000000', '1100330.32370000', 1699574399999, '2200484378.92985000', 1657379, '576184.41160000', '1151326154.69537700', '0'], [1699574400000, '2121.33000000', '2136.99000000', '2064.61000000', '2077.72000000', '555573.64950000', 1699660799999, '1167220520.82826100', 880646, '270796.81850000', '569032269.47012900', '0'], [1699660800000, '2077.72000000', '2089.60000000', '2030.30000000', '2053.17000000', '370966.03720000', 1699747199999, '763796737.40937500', 675522, '177075.17870000', '364652650.68236400', '0'], [1699747200000, '2053.16000000', '2066.50000000', '2012.10000000', '2044.68000000', '281907.55900000', 1699833599999, '577153459.51571000', 556231, '142320.70720000', '291430126.46568400', '0'], [1699833600000, '2044.69000000', '2118.00000000', '2028.49000000', '2053.65000000', '529143.58150000', 1699919999999, '1093862454.32137400', 1025249, '261963.73590000', '541622293.08972100', '0'], [1699920000000, '2053.65000000', '2064.96000000', '1936.60000000', '1979.39000000', '481909.73300000', 1700006399999, '972032428.32657300', 884487, '227697.39860000', '459505858.16015600', '0'], [1700006400000, '1979.40000000', '2062.40000000', '1967.01000000', '2058.48000000', '421870.80320000', 1700092799999, '847945999.66400000', 731745, '214270.80550000', '430649792.14313200', '0'], [1700092800000, '2058.49000000', '2090.40000000', '1939.10000000', '1961.77000000', '545286.12970000', 1700179199999, '1101174547.30860900', 991673, '258249.24060000', '521815881.91400900', '0'], [1700179200000, '1961.77000000', '1991.50000000', '1904.00000000', '1960.82000000', '401100.50690000', 1700265599999, '783561858.01188900', 788071, '190084.30410000', '371312547.95541200', '0'], [1700265600000, '1960.82000000', '1971.22000000', '1916.00000000', '1962.60000000', '279368.22080000', 1700351999999, '543924395.73302800', 535494, '125794.98940000', '245020429.99701000', '0'], [1700352000000, '1962.59000000', '2015.75000000', '1942.89000000', '2011.47000000', '251132.61920000', 1700438399999, '494600634.89114600', 506631, '126144.44170000', '248644868.45796300', '0'], [1700438400000, '2011.47000000', '2066.40000000', '1990.00000000', '2021.40000000', '421717.67900000', 1700524799999, '854002757.45117200', 751621, '202758.58950000', '410688842.47982300', '0'], [1700524800000, '2021.41000000', '2034.60000000', '1931.43000000', '1933.01000000', '490163.98630000', 1700611199999, '974304142.39717400', 888864, '228457.66450000', '454169629.26029600', '0'], [1700611200000, '1933.01000000', '2092.46000000', '1928.41000000', '2063.21000000', '466120.51090000', 1700697599999, '943776525.65738000', 796700, '230629.99370000', '466898382.31101400', '0'], [1700697600000, '2063.22000000', '2088.94000000', '2040.35000000', '2062.20000000', '250960.69580000', 1700783999999, '517482313.45225600', 527877, '125214.91690000', '258240481.04709900', '0'], [1700784000000, '2062.21000000', '2133.02000000', '2059.37000000', '2080.84000000', '426932.54020000', 1700870399999, '894370772.51811400', 672044, '209685.71700000', '439269617.03678300', '0'], [1700870400000, '2080.84000000', '2090.54000000', '2065.30000000', '2083.09000000', '138847.39300000', 1700956799999, '288887833.97800400', 350920, '69009.33430000', '143596956.95353100', '0'], [1700956800000, '2083.10000000', '2094.99000000', '2036.42000000', '2062.33000000', '241262.91360000', 1701043199999, '499314260.83391500', 510922, '118774.15090000', '245826217.30275600', '0'], [1701043200000, '2062.34000000', '2071.24000000', '1985.78000000', '2027.50000000', '326073.22980000', 1701129599999, '660673302.74006000', 622522, '159492.23910000', '323207766.23646300', '0'], [1701129600000, '2027.50000000', '2075.00000000', '1995.15000000', '2048.14000000', '283775.92790000', 1701215999999, '578404413.95846800', 606358, '146633.56520000', '298858840.66262700', '0'], [1701216000000, '2048.14000000', '2075.70000000', '2019.31000000', '2028.81000000', '254843.73190000', 1701302399999, '521225853.33225000', 503614, '125984.04410000', '257660016.09729500', '0'], [1701302400000, '2028.80000000', '2054.75000000', '2020.85000000', '2051.96000000', '243680.09210000', 1701388799999, '496360388.66638500', 458227, '123357.98750000', '251301504.63400300', '0'], [1701388800000, '2051.95000000', '2110.87000000', '2045.04000000', '2087.24000000', '372645.58600000', 1701475199999, '778670941.03376000', 598646, '193580.10240000', '404463202.52867400', '0'], [1701475200000, '2087.24000000', '2186.60000000', '2086.25000000', '2164.74000000', '320979.97680000', 1701561599999, '684434398.68424500', 618401, '177507.90650000', '378562669.28843400', '0'], [1701561600000, '2164.75000000', '2217.27000000', '2149.00000000', '2192.95000000', '257879.11360000', 1701647999999, '560343820.02850900', 556948, '135206.30790000', '293879684.38655900', '0'], [1701648000000, '2192.96000000', '2274.28000000', '2191.00000000', '2243.37000000', '565307.71340000', 1701734399999, '1263069834.20861200', 980117, '283090.74670000', '632410939.65829000', '0'], [1701734400000, '2243.36000000', '2309.72000000', '2188.33000000', '2293.33000000', '529829.72140000', 1701820799999, '1190597719.19322700', 1018557, '272102.51620000', '611589710.74711000', '0'], [1701820800000, '2293.33000000', '2312.23000000', '2220.00000000', '2232.70000000', '408338.90560000', 1701907199999, '925926168.10934200', 842212, '201586.64380000', '457181711.84181900', '0'], [1701907200000, '2232.70000000', '2382.80000000', '2222.00000000', '2355.73000000', '485190.06090000', 1701993599999, '1115389522.52305300', 921917, '253392.50300000', '582277684.03791300', '0'], [1701993600000, '2355.74000000', '2392.00000000', '2336.34000000', '2358.72000000', '378569.81260000', 1702079999999, '893841920.83732000', 713431, '188434.41100000', '444945340.37882700', '0'], [1702080000000, '2358.71000000', '2403.00000000', '2328.01000000', '2340.49000000', '287771.06640000', 1702166399999, '679437458.93125400', 648813, '143129.42620000', '338059268.85995200', '0'], [1702166400000, '2340.48000000', '2377.47000000', '2320.00000000', '2352.39000000', '200037.21020000', 1702252799999, '469860963.94715300', 464455, '98846.24030000', '232231421.44970500', '0'], [1702252800000, '2352.39000000', '2355.00000000', '2156.62000000', '2225.12000000', '640414.91660000', 1702339199999, '1426910964.96622000', 1153316, '310376.71830000', '691367771.31758400', '0'], [1702339200000, '2225.11000000', '2244.12000000', '2166.00000000', '2203.46000000', '361588.90870000', 1702425599999, '799015127.41497400', 804062, '174479.15720000', '385626460.74170900', '0'], [1702425600000, '2203.47000000', '2284.02000000', '2144.32000000', '2260.16000000', '418916.61540000', 1702511999999, '922420273.94725300', 897019, '208136.21200000', '458517097.43953700', '0'], [1702512000000, '2260.16000000', '2332.11000000', '2228.20000000', '2315.32000000', '409508.09310000', 1702598399999, '934716057.65086400', 918965, '199995.25980000', '456684016.25940700', '0'], [1702598400000, '2315.32000000', '2317.81000000', '2200.00000000', '2220.50000000', '333552.63280000', 1702684799999, '754022987.24772200', 714102, '158002.09790000', '357145001.64517100', '0'], [1702684800000, '2220.51000000', '2263.40000000', '2210.00000000', '2228.96000000', '199285.92300000', 1702771199999, '446980227.08283500', 528692, '102517.14940000', '229991096.38707800', '0'], [1702771200000, '2228.96000000', '2248.68000000', '2191.50000000', '2196.52000000', '225925.76750000', 1702857599999, '501306718.24280800', 531241, '110196.73310000', '244591673.21800200', '0'], [1702857600000, '2196.53000000', '2224.00000000', '2116.60000000', '2219.43000000', '364103.11810000', 1702943999999, '789100505.03171100', 769310, '185328.36640000', '401777681.85963600', '0'], [1702944000000, '2219.44000000', '2255.00000000', '2135.55000000', '2177.91000000', '383551.40490000', 1703030399999, '847060839.70839800', 786067, '199184.67690000', '440190473.49901500', '0'], [1703030400000, '2177.90000000', '2266.00000000', '2156.00000000', '2202.17000000', '416841.62720000', 1703116799999, '922794580.70340200', 867198, '217937.72750000', '482487428.03181000', '0'], [1703116800000, '2202.17000000', '2279.31000000', '2182.98000000', '2239.61000000', '453069.72520000', 1703203199999, '1010354340.13579900', 848508, '231043.88830000', '515263188.51310800', '0'], [1703203200000, '2239.60000000', '2343.15000000', '2230.59000000', '2324.54000000', '591357.48800000', 1703289599999, '1358322906.95807800', 1124820, '304284.72800000', '698670214.94879500', '0'], [1703289600000, '2324.54000000', '2330.65000000', '2265.00000000', '2308.20000000', '255626.93520000', 1703375999999, '586078143.24207900', 588229, '125338.90030000', '287364940.98055700', '0'], [1703376000000, '2308.20000000', '2326.19000000', '2245.00000000', '2264.05000000', '307951.07600000', 1703462399999, '705420988.78504000', 711200, '149344.80480000', '342167364.79642400', '0'], [1703462400000, '2264.04000000', '2304.80000000', '2253.10000000', '2271.35000000', '286277.16160000', 1703548799999, '652158658.25835100', 613108, '142610.65470000', '324881292.11961500', '0'], [1703548800000, '2271.36000000', '2274.99000000', '2178.45000000', '2230.88000000', '410413.15910000', 1703635199999, '916097827.49845000', 701701, '204347.73880000', '456146429.33845700', '0'], [1703635200000, '2230.88000000', '2392.44000000', '2211.88000000', '2378.35000000', '541537.35740000', 1703721599999, '1250873719.55066100', 978666, '275739.28200000', '637066006.82783400', '0'], [1703721600000, '2378.35000000', '2445.80000000', '2335.00000000', '2344.15000000', '580459.98200000', 1703807999999, '1385456486.28619100', 1241094, '286686.85360000', '684383781.91887600', '0'], [1703808000000, '2344.15000000', '2385.41000000', '2255.34000000', '2299.20000000', '450201.20690000', 1703894399999, '1049566350.12220900', 990308, '220819.11790000', '515080529.83158400', '0'], [1703894400000, '2299.20000000', '2322.84000000', '2268.00000000', '2291.68000000', '210539.13270000', 1703980799999, '483369913.47884600', 555932, '104439.50030000', '239815289.25653100', '0'], [1703980800000, '2291.68000000', '2321.34000000', '2258.88000000', '2281.87000000', '222175.87790000', 1704067199999, '510046689.18739600', 548848, '109570.80690000', '251574412.24206300', '0'], [1704067200000, '2281.87000000', '2352.37000000', '2265.24000000', '2352.04000000', '216702.69140000', 1704153599999, '500451219.61280600', 536670, '112374.43700000', '259588575.40024500', '0'], [1704153600000, '2352.05000000', '2431.30000000', '2341.00000000', '2355.34000000', '458041.66420000', 1704239999999, '1090922198.04909100', 1028335, '223746.24220000', '532982278.47975200', '0'], [1704240000000, '2355.35000000', '2385.45000000', '2100.00000000', '2209.72000000', '798729.48690000', 1704326399999, '1797597895.17990400', 1351067, '401227.76080000', '903126257.91575700', '0'], [1704326400000, '2209.72000000', '2294.69000000', '2201.91000000', '2267.11000000', '448844.05500000', 1704412799999, '1009072619.20677300', 780771, '234794.62830000', '527905592.14952300', '0'], [1704412800000, '2267.11000000', '2277.21000000', '2206.17000000', '2268.78000000', '405568.00060000', 1704499199999, '910367621.18166200', 758963, '213615.44270000', '479634490.30828000', '0'], [1704499200000, '2268.78000000', '2270.00000000', '2216.40000000', '2240.78000000', '194067.86560000', 1704585599999, '434867515.95915700', 450441, '96482.41730000', '216188633.00675600', '0'], [1704585600000, '2240.77000000', '2258.01000000', '2203.46000000', '2221.42000000', '207138.69270000', 1704671999999, '463525159.25742900', 516569, '102848.67020000', '230218378.95440000', '0'], [1704672000000, '2221.42000000', '2358.20000000', '2166.38000000', '2330.44000000', '539407.55470000', 1704758399999, '1221527410.44082200', 1069027, '279216.73100000', '632217788.55808000', '0'], [1704758400000, '2330.43000000', '2371.72000000', '2226.78000000', '2344.29000000', '551454.99310000', 1704844799999, '1267764132.83607700', 1196445, '273075.88920000', '627991032.60132400', '0'], [1704844800000, '2344.30000000', '2643.10000000', '2339.59000000', '2584.38000000', '1038388.66600000', 1704931199999, '2536320982.38854300', 2010707, '535126.43720000', '1307342421.54056900', '0'], [1704931200000, '2584.37000000', '2689.39000000', '2566.01000000', '2618.01000000', '838712.25770000', 1705017599999, '2194916359.19164600', 1693755, '422894.05640000', '1106947875.84467300', '0'], [1705017600000, '2618.01000000', '2717.32000000', '2458.00000000', '2522.54000000', '887457.76270000', 1705103999999, '2318179618.08691200', 1860636, '438363.57200000', '1145981221.30549400', '0'], [1705104000000, '2522.55000000', '2590.00000000', '2497.50000000', '2578.19000000', '422061.23200000', 1705190399999, '1075466481.72042000', 898845, '218172.40570000', '556065721.44368000', '0'], [1705190400000, '2578.18000000', '2578.69000000', '2470.00000000', '2472.87000000', '306207.74630000', 1705276799999, '774962904.80711700', 732294, '144164.47900000', '364865278.47385700', '0'], [1705276800000, '2472.87000000', '2553.82000000', '2470.92000000', '2511.78000000', '315247.88190000', 1705363199999, '793871974.87160100', 789378, '159083.43660000', '400685806.64176400', '0'], [1705363200000, '2511.79000000', '2614.43000000', '2500.05000000', '2587.40000000', '381077.62470000', 1705449599999, '972060398.77460000', 1140088, '201471.81520000', '514039096.29154800', '0'], [1705449600000, '2587.41000000', '2592.97000000', '2506.75000000', '2530.19000000', '366281.34770000', 1705535999999, '933809190.34820800', 1140624, '180607.81460000', '460417669.70201800', '0'], [1705536000000, '2530.20000000', '2550.00000000', '2428.56000000', '2470.81000000', '452090.10740000', 1705622399999, '1129803152.91478800', 894355, '213299.17890000', '533210494.56816800', '0'], [1705622400000, '2470.81000000', '2504.20000000', '2415.20000000', '2492.00000000', '424209.00290000', 1705708799999, '1047352971.89337000', 855044, '206802.95850000', '510669928.42324200', '0'], [1705708800000, '2491.99000000', '2492.00000000', '2454.20000000', '2472.01000000', '136620.95770000', 1705795199999, '337794603.14760000', 418938, '64429.72620000', '159284530.83930200', '0'], [1705795200000, '2472.02000000', '2482.18000000', '2452.13000000', '2457.05000000', '122572.16870000', 1705881599999, '303022758.72808200', 360446, '61174.35550000', '151252878.97845200', '0'], [1705881600000, '2457.06000000', '2466.10000000', '2303.59000000', '2314.20000000', '526337.64920000', 1705967999999, '1252505758.32290400', 933793, '245492.64200000', '584077487.05425800', '0'], [1705968000000, '2314.19000000', '2352.23000000', '2168.07000000', '2242.60000000', '700105.33140000', 1706054399999, '1568448812.43809000', 1204183, '342792.23580000', '768007673.88793500', '0'], [1706054400000, '2242.60000000', '2264.60000000', '2196.12000000', '2235.02000000', '359851.14960000', 1706140799999, '802477123.10851500', 801012, '175571.10550000', '391550218.45457200', '0'], [1706140800000, '2235.02000000', '2242.89000000', '2171.30000000', '2218.64000000', '330426.60610000', 1706227199999, '731016014.38228900', 756164, '167421.81490000', '370422421.76426600', '0'], [1706227200000, '2218.64000000', '2282.36000000', '2195.84000000', '2267.68000000', '363566.42550000', 1706313599999, '815753832.16317100', 823603, '182453.18340000', '409362536.72305900', '0'], [1706313600000, '2267.67000000', '2282.94000000', '2251.40000000', '2267.94000000', '145109.38360000', 1706399999999, '329102144.45981500', 416970, '71016.41810000', '161066722.42544700', '0'], [1706400000000, '2267.94000000', '2308.24000000', '2239.89000000', '2256.90000000', '209326.90870000', 1706486399999, '476534769.15889200', 566626, '104154.04960000', '237191132.09913600', '0'], [1706486400000, '2256.90000000', '2322.34000000', '2233.80000000', '2317.60000000', '305528.07760000', 1706572799999, '696374288.61947300', 681798, '162757.94930000', '370938691.79153600', '0'], [1706572800000, '2317.61000000', '2391.98000000', '2297.00000000', '2343.01000000', '372879.57910000', 1706659199999, '871148737.16665800', 770660, '183075.94900000', '427968852.78869700', '0'], [1706659200000, '2343.00000000', '2351.60000000', '2263.57000000', '2283.14000000', '397116.18590000', 1706745599999, '920131584.29010400', 922884, '190645.60670000', '441780164.05471900', '0'], [1706745600000, '2283.15000000', '2311.72000000', '2240.00000000', '2304.28000000', '310997.45380000', 1706831999999, '708868445.04675500', 779472, '158219.25580000', '360682829.63350700', '0'], [1706832000000, '2304.28000000', '2324.74000000', '2281.94000000', '2309.06000000', '238230.51100000', 1706918399999, '549302201.69764200', 574621, '124140.55470000', '286293198.37916000', '0'], [1706918400000, '2309.07000000', '2329.98000000', '2292.75000000', '2296.49000000', '133232.84500000', 1707004799999, '307866239.18644200', 397464, '67739.16040000', '156542429.20219000', '0'], [1707004800000, '2296.50000000', '2311.00000000', '2266.00000000', '2289.79000000', '171232.04440000', 1707091199999, '393039532.45206800', 506684, '86355.84790000', '198240508.08091100', '0'], [1707091200000, '2289.79000000', '2338.41000000', '2269.11000000', '2301.83000000', '236610.41200000', 1707177599999, '545576620.00256500', 730863, '119477.20730000', '275457076.81283000', '0'], [1707177600000, '2301.84000000', '2392.40000000', '2299.00000000', '2372.64000000', '368942.74980000', 1707263999999, '864113645.78768100', 861796, '194747.05030000', '455966832.43351500', '0'], [1707264000000, '2372.63000000', '2444.44000000', '2354.00000000', '2425.10000000', '342791.70130000', 1707350399999, '820475884.30352100', 860357, '170845.03340000', '409066707.64434600', '0'], [1707350400000, '2425.09000000', '2463.15000000', '2411.01000000', '2419.55000000', '338040.05390000', 1707436799999, '821961943.65209600', 894102, '171666.22000000', '417466887.60629000', '0'], [1707436800000, '2419.56000000', '2525.00000000', '2419.16000000', '2486.56000000', '492384.38500000', 1707523199999, '1222635531.62879300', 1134276, '267424.63820000', '663906268.87270700', '0'], [1707523200000, '2486.56000000', '2516.45000000', '2471.57000000', '2500.24000000', '185099.59000000', 1707609599999, '461966177.39475600', 622723, '92100.74680000', '229916992.53344300', '0'], [1707609600000, '2500.24000000', '2539.63000000', '2493.45000000', '2507.21000000', '219975.14710000', 1707695999999, '553430378.32506900', 711081, '108625.54970000', '273332221.82282900', '0'], [1707696000000, '2507.22000000', '2665.58000000', '2472.00000000', '2659.99000000', '449501.77600000', 1707782399999, '1152087242.12635800', 1019390, '234514.58820000', '600948748.23949700', '0'], [1707782400000, '2659.99000000', '2686.12000000', '2590.00000000', '2639.99000000', '502447.74500000', 1707868799999, '1328138932.92916900', 1044885, '251035.41080000', '663739320.80016200', '0'], [1707868800000, '2639.99000000', '2786.00000000', '2618.40000000', '2774.81000000', '461670.69440000', 1707955199999, '1258639954.54766500', 1090412, '239546.56980000', '653095961.20462500', '0'], [1707955200000, '2774.80000000', '2867.65000000', '2759.25000000', '2822.59000000', '481689.18740000', 1708041599999, '1353587492.51477500', 1347619, '243023.63420000', '682988254.22000400', '0'], [1708041600000, '2822.58000000', '2857.40000000', '2740.00000000', '2801.80000000', '378070.80370000', 1708127999999, '1062271564.48786000', 1123447, '185179.05050000', '520346616.72079800', '0'], [1708128000000, '2801.81000000', '2804.21000000', '2719.01000000', '2785.93000000', '243302.87590000', 1708214399999, '673711593.25171300', 969157, '119901.82840000', '332078826.68692700', '0'], [1708214400000, '2785.92000000', '2895.00000000', '2764.25000000', '2881.20000000', '367987.88330000', 1708300799999, '1037802342.59328700', 1311570, '195921.89910000', '552680229.20223500', '0'], [1708300800000, '2881.20000000', '2984.52000000', '2856.93000000', '2944.80000000', '446451.04010000', 1708387199999, '1302430726.12966100', 1539410, '227406.12000000', '663377285.58220500', '0'], [1708387200000, '2944.80000000', '3033.09000000', '2874.56000000', '3014.81000000', '634681.74710000', 1708473599999, '1868745481.64754900', 1517960, '326652.00620000', '962250454.92416700', '0'], [1708473600000, '3014.81000000', '3017.15000000', '2868.00000000', '2967.90000000', '595955.00330000', 1708559999999, '1746960179.79394000', 1256455, '304412.85950000', '892448097.68690600', '0'], [1708560000000, '2967.91000000', '3036.02000000', '2906.51000000', '2971.40000000', '563525.99360000', 1708646399999, '1676206889.45140500', 1205856, '287462.40820000', '855123373.24319600', '0'], [1708646400000, '2971.40000000', '2993.80000000', '2906.05000000', '2922.24000000', '428826.57870000', 1708732799999, '1261137725.51195200', 1003464, '213798.49070000', '628768240.52667000', '0'], [1708732800000, '2922.25000000', '3007.48000000', '2906.40000000', '2992.62000000', '243854.07830000', 1708819199999, '721993808.56619300', 718718, '129344.76130000', '382999668.62912800', '0'], [1708819200000, '2992.62000000', '3122.00000000', '2983.61000000', '3112.59000000', '412306.22370000', 1708905599999, '1257766106.54629900', 1085332, '214481.50730000', '654277370.55054800', '0'], [1708905600000, '3112.60000000', '3196.00000000', '3036.59000000', '3175.94000000', '546722.77470000', 1708991999999, '1703165045.24149200', 1391934, '261235.60850000', '814240988.84789700', '0'], [1708992000000, '3175.95000000', '3288.14000000', '3160.02000000', '3242.36000000', '625939.12210000', 1709078399999, '2025805516.97493300', 1676466, '313778.34230000', '1015674724.02560100', '0'], [1709078400000, '3242.35000000', '3488.00000000', '3176.16000000', '3383.10000000', '947538.76600000', 1709164799999, '3153201034.91476300', 2442603, '475465.52590000', '1583075300.15767100', '0'], [1709164800000, '3383.11000000', '3522.81000000', '3300.00000000', '3340.09000000', '759698.11230000', 1709251199999, '2608623102.49017000', 2112875, '391723.24190000', '1346123911.22761600', '0'], [1709251200000, '3340.10000000', '3450.00000000', '3338.54000000', '3433.43000000', '412788.57730000', 1709337599999, '1405295834.57269400', 1263130, '199773.66220000', '680364451.59478500', '0'], [1709337600000, '3433.42000000', '3460.04000000', '3390.01000000', '3421.40000000', '283984.94480000', 1709423999999, '971756920.45120900', 926113, '138242.27780000', '473033589.27969500', '0'], [1709424000000, '3421.39000000', '3491.80000000', '3360.00000000', '3487.81000000', '341631.53100000', 1709510399999, '1172272660.98449000', 1116823, '168839.16330000', '579484704.66524300', '0'], [1709510400000, '3487.80000000', '3640.94000000', '3423.78000000', '3627.76000000', '715360.63610000', 1709596799999, '2526905041.93919000', 1953764, '355054.02440000', '1255112595.62117600', '0'], [1709596800000, '3627.75000000', '3822.04000000', '3200.00000000', '3553.65000000', '1392904.86400000', 1709683199999, '5043847679.68348000', 3265582, '683199.44230000', '2476743374.29051500', '0'], [1709683200000, '3553.66000000', '3900.00000000', '3499.40000000', '3818.59000000', '969494.71000000', 1709769599999, '3652250924.27773700', 2555462, '479721.07800000', '1807560970.84809900', '0'], [1709769600000, '3818.58000000', '3933.81000000', '3735.00000000', '3868.76000000', '540780.67500000', 1709855999999, '2067607917.44370900', 1636716, '272250.41110000', '1041269288.71933800', '0'], [1709856000000, '3868.76000000', '3993.75000000', '3820.00000000', '3883.36000000', '646399.25890000', 1709942399999, '2534209920.00556500', 1657141, '322673.29910000', '1265164190.07271500', '0'], [1709942400000, '3883.37000000', '3942.00000000', '3870.01000000', '3905.21000000', '254839.13860000', 1710028799999, '995823688.31355300', 819335, '128650.61440000', '502755116.16450300', '0'], [1710028800000, '3905.20000000', '3964.67000000', '3791.26000000', '3878.47000000', '356664.68000000', 1710115199999, '1393415653.98342000', 1195480, '170475.83890000', '666139346.30435300', '0'], [1710115200000, '3878.47000000', '4086.23000000', '3722.95000000', '4064.80000000', '721554.51390000', 1710201599999, '2874119154.30335900', 1894504, '332359.66550000', '1322703936.94677500', '0'], [1710201600000, '4064.80000000', '4093.92000000', '3828.98000000', '3979.96000000', '632787.39410000', 1710287999999, '2522475873.08181000', 1878541, '317065.07300000', '1263946890.58018300', '0'], [1710288000000, '3979.97000000', '4083.00000000', '3932.23000000', '4004.79000000', '482305.77660000', 1710374399999, '1933909390.30212400', 1536498, '246106.07390000', '986890622.14806200', '0'], [1710374400000, '4004.79000000', '4010.98000000', '3723.00000000', '3881.70000000', '648237.52450000', 1710460799999, '2520007951.69120000', 1919963, '314205.63220000', '1221942698.65234600', '0'], [1710460800000, '3881.69000000', '3934.02000000', '3570.00000000', '3742.19000000', '947537.40710000', 1710547199999, '3513477459.32044900', 2487337, '465197.94890000', '1725903963.68835700', '0'], [1710547200000, '3742.19000000', '3781.12000000', '3468.80000000', '3523.09000000', '548288.15690000', 1710633599999, '1999176881.31261500', 1798939, '262005.60190000', '956602039.48655800', '0'], [1710633600000, '3523.09000000', '3678.68000000', '3412.00000000', '3644.71000000', '517790.99360000', 1710719999999, '1843487764.62131400', 1721355, '255961.30400000', '911579392.35715800', '0'], [1710720000000, '3644.70000000', '3645.02000000', '3454.09000000', '3520.46000000', '570901.28510000', 1710806399999, '2029690613.72146200', 1906387, '273425.62550000', '972198172.92853300', '0'], [1710806400000, '3520.47000000', '3548.09000000', '3150.88000000', '3158.64000000', '1049629.69360000', 1710892799999, '3474307712.27645600', 2647385, '486413.34360000', '1610306786.63624400', '0'], [1710892800000, '3158.65000000', '3535.24000000', '3056.56000000', '3516.53000000', '1207322.82010000', 1710979199999, '3957251428.89904100', 2987953, '589456.89720000', '1933803131.47832000', '0'], [1710979200000, '3516.53000000', '3587.32000000', '3412.00000000', '3492.85000000', '602755.20720000', 1711065599999, '2114084858.15653500', 1791989, '295366.00080000', '1035991329.66088000', '0'], [1711065600000, '3492.84000000', '3542.52000000', '3250.00000000', '3336.35000000', '558848.88800000', 1711151999999, '1891771641.01900700', 1747756, '278223.99010000', '942265836.84989100', '0'], [1711152000000, '3336.35000000', '3435.48000000', '3270.08000000', '3329.53000000', '323675.94480000', 1711238399999, '1089778379.60122900', 1129683, '154840.95290000', '521336391.12800600', '0'], [1711238400000, '3329.53000000', '3471.22000000', '3298.76000000', '3454.98000000', '260824.14080000', 1711324799999, '879033073.03145400', 1090982, '131855.25550000', '444714434.07356100', '0'], [1711324800000, '3454.99000000', '3666.00000000', '3420.12000000', '3590.42000000', '548577.69420000', 1711411199999, '1945377748.66027000', 1610130, '294233.11020000', '1043376714.76068300', '0'], [1711411200000, '3590.43000000', '3678.86000000', '3542.62000000', '3587.33000000', '499013.83840000', 1711497599999, '1800812035.84622400', 1373691, '232584.36360000', '838803442.55084500', '0'], [1711497600000, '3587.32000000', '3665.84000000', '3460.02000000', '3501.19000000', '443195.32970000', 1711583999999, '1576098628.30797600', 1436593, '215695.79830000', '767206050.83583600', '0'], [1711584000000, '3501.20000000', '3611.78000000', '3465.00000000', '3560.49000000', '404654.03110000', 1711670399999, '1436630524.62304300', 1158353, '206071.37730000', '731610238.59360200', '0'], [1711670400000, '3560.49000000', '3584.37000000', '3445.91000000', '3509.74000000', '323086.17900000', 1711756799999, '1138548291.15838700', 951744, '153989.35510000', '543117114.81437500', '0'], [1711756800000, '3509.74000000', '3565.81000000', '3485.00000000', '3505.64000000', '216025.26340000', 1711843199999, '759625521.45189200', 750249, '113298.41580000', '398420911.34965000', '0'], [1711843200000, '3505.65000000', '3655.32000000', '3505.09000000', '3645.29000000', '243464.98770000', 1711929599999, '878141654.34598200', 722927, '128657.58320000', '463986951.49486600', '0'], [1711929600000, '3645.29000000', '3645.95000000', '3413.71000000', '3503.80000000', '408854.12250000', 1712015999999, '1437691729.03231400', 1115133, '195398.26160000', '687310223.77546700', '0'], [1712016000000, '3503.80000000', '3505.60000000', '3212.00000000', '3278.96000000', '623264.64760000', 1712102399999, '2068004456.06282300', 1581408, '301656.62520000', '1000777383.27724900', '0'], [1712102400000, '3278.96000000', '3367.40000000', '3202.79000000', '3310.83000000', '410484.19330000', 1712188799999, '1358993604.79861500', 1113644, '203085.14790000', '672512688.07080700', '0'], [1712188800000, '3310.83000000', '3443.93000000', '3250.92000000', '3327.40000000', '356338.57160000', 1712275199999, '1187792289.21437100', 965695, '172474.35660000', '575142238.42727000', '0'], [1712275200000, '3327.39000000', '3350.00000000', '3210.00000000', '3317.85000000', '344556.79830000', 1712361599999, '1132252495.88912400', 854139, '170435.77660000', '560317623.71712600', '0'], [1712361600000, '3317.85000000', '3398.42000000', '3306.68000000', '3351.59000000', '183312.21250000', 1712447999999, '612681489.14895400', 549985, '88419.09800000', '295511518.81945200', '0'], [1712448000000, '3351.59000000', '3459.94000000', '3344.08000000', '3454.20000000', '210459.07520000', 1712534399999, '715174110.57383500', 748530, '105736.65480000', '359423500.72974000', '0'], [1712534400000, '3454.20000000', '3730.71000000', '3406.36000000', '3694.61000000', '496841.35320000', 1712620799999, '1787240600.80865700', 1333378, '278914.02330000', '1002520506.69926300', '0'], [1712620800000, '3694.61000000', '3727.34000000', '3450.46000000', '3506.39000000', '457592.25200000', 1712707199999, '1643610851.75092000', 1046479, '220547.08930000', '791949096.35967700', '0'], [1712707200000, '3506.40000000', '3562.95000000', '3411.82000000', '3545.64000000', '389404.90550000', 1712793599999, '1361401195.43178500', 915957, '192647.04400000', '673705538.77826900', '0'], [1712793600000, '3545.64000000', '3618.30000000', '3474.52000000', '3502.52000000', '338139.55340000', 1712879999999, '1197654094.44620700', 890107, '165840.84360000', '587427817.31228900', '0'], [1712880000000, '3502.52000000', '3552.40000000', '3100.00000000', '3237.43000000', '697327.11740000', 1712966399999, '2328197177.42049500', 1423600, '330495.31490000', '1105188365.98685800', '0'], [1712966400000, '3237.42000000', '3301.90000000', '2852.00000000', '3007.01000000', '994971.23540000', 1713052799999, '3066250202.83582600', 2037632, '462824.48330000', '1424811475.09485000', '0'], [1713052800000, '3007.01000000', '3174.23000000', '2906.73000000', '3155.11000000', '737580.46660000', 1713139199999, '2244354713.13561600', 1680666, '371070.36530000', '1128957864.66517200', '0'], [1713139200000, '3155.11000000', '3277.85000000', '3023.19000000', '3101.99000000', '605430.88630000', 1713225599999, '1911310147.23066300', 1540774, '291924.74400000', '921674901.56819200', '0'], [1713225600000, '3102.00000000', '3128.01000000', '2986.00000000', '3084.22000000', '526113.85500000', 1713311999999, '1610290812.17309500', 1461779, '253281.27950000', '775556508.63804200', '0'], [1713312000000, '3084.21000000', '3123.75000000', '2914.47000000', '2985.41000000', '491897.56610000', 1713398399999, '1483253378.35815800', 1348404, '251660.72620000', '759106689.98242100', '0'], [1713398400000, '2985.41000000', '3094.40000000', '2950.98000000', '3064.40000000', '389060.71330000', 1713484799999, '1177977125.35813900', 1168254, '205229.85030000', '621538711.14050200', '0'], [1713484800000, '3064.40000000', '3128.89000000', '2865.18000000', '3056.46000000', '607850.40190000', 1713571199999, '1843119282.76954900', 1465901, '307900.17740000', '934301492.39758900', '0'], [1713571200000, '3056.45000000', '3171.88000000', '3018.75000000', '3155.79000000', '242577.63710000', 1713657599999, '749727918.39625800', 812118, '124363.79080000', '384439163.55444700', '0'], [1713657600000, '3155.79000000', '3197.18000000', '3116.49000000', '3147.67000000', '219970.50720000', 1713743999999, '694988777.19102400', 767260, '112675.88850000', '356074084.71209300', '0'], [1713744000000, '3147.66000000', '3235.00000000', '3129.15000000', '3200.20000000', '290879.95690000', 1713830399999, '928957385.38023000', 993579, '154288.59180000', '492830847.64483600', '0'], [1713830400000, '3200.19000000', '3263.61000000', '3152.00000000', '3219.46000000', '253914.22630000', 1713916799999, '813798516.32038600', 844893, '130572.45640000', '418614329.14076600', '0'], [1713916800000, '3219.46000000', '3293.56000000', '3104.90000000', '3140.80000000', '393314.34140000', 1714003199999, '1261617674.78529500', 1130370, '194455.12720000', '623756637.15722200', '0'], [1714003200000, '3140.79000000', '3191.64000000', '3072.20000000', '3155.80000000', '352288.55020000', 1714089599999, '1104939534.27499700', 861077, '181392.80070000', '568945918.81937700', '0'], [1714089600000, '3155.81000000', '3167.70000000', '3102.00000000', '3131.30000000', '252522.65500000', 1714175999999, '792255507.86255800', 628635, '127753.63760000', '400872715.70927400', '0'], [1714176000000, '3131.30000000', '3285.00000000', '3066.74000000', '3255.56000000', '323811.19190000', 1714262399999, '1027413859.24945700', 734026, '174549.39360000', '553988783.95665500', '0'], [1714262400000, '3255.55000000', '3357.40000000', '3250.45000000', '3263.45000000', '304766.00900000', 1714348799999, '1006628332.29004500', 753239, '157192.41940000', '519222579.01955400', '0'], [1714348800000, '3263.44000000', '3286.95000000', '3115.13000000', '3216.73000000', '421831.29120000', 1714435199999, '1345237182.55342900', 943719, '211216.56130000', '673542868.96057100', '0'], [1714435200000, '3216.74000000', '3250.95000000', '2921.00000000', '3014.05000000', '561717.48660000', 1714521599999, '1710124473.49570300', 1292873, '267662.56490000', '814867898.87844900', '0'], [1714521600000, '3014.04000000', '3023.24000000', '2817.00000000', '2972.46000000', '624963.77730000', 1714607999999, '1827523436.86029300', 1365039, '303494.86740000', '887304179.09162000', '0'], [1714608000000, '2972.46000000', '3016.72000000', '2893.26000000', '2986.19000000', '365939.71910000', 1714694399999, '1084862887.84794300', 880167, '200507.61300000', '594224560.68736500', '0'], [1714694400000, '2986.19000000', '3126.99000000', '2958.32000000', '3102.61000000', '355825.83910000', 1714780799999, '1081409861.15412300', 859542, '186728.46230000', '567590125.82831100', '0'], [1714780800000, '3102.61000000', '3168.00000000', '3092.85000000', '3117.23000000', '196263.94880000', 1714867199999, '613297368.10061800', 575026, '100770.98200000', '314978702.10546600', '0'], [1714867200000, '3117.24000000', '3171.93000000', '3072.99000000', '3136.41000000', '218760.26620000', 1714953599999, '684143592.81457900', 600693, '115269.44800000', '360512833.29317300', '0'], [1714953600000, '3136.40000000', '3221.40000000', '3046.35000000', '3062.60000000', '355135.30270000', 1715039999999, '1111315631.57641400', 873200, '172864.43340000', '541369437.88073600', '0'], [1715040000000, '3062.59000000', '3129.85000000', '2998.00000000', '3005.69000000', '298796.68290000', 1715126399999, '917252045.68820300', 815246, '139762.85080000', '429359938.30876500', '0'], [1715126400000, '3005.69000000', '3038.15000000', '2936.48000000', '2974.21000000', '266934.81250000', 1715212799999, '800460076.63566700', 830635, '133303.12380000', '399808582.39447700', '0'], [1715212800000, '2974.20000000', '3059.00000000', '2950.77000000', '3036.23000000', '238561.74620000', 1715299199999, '715090822.07620500', 686147, '122805.92150000', '368133010.88995100', '0'], [1715299200000, '3036.24000000', '3053.89000000', '2878.03000000', '2909.99000000', '327855.87580000', 1715385599999, '972264869.49205000', 891040, '154417.06720000', '458374734.95848200', '0'], [1715385600000, '2909.98000000', '2945.67000000', '2886.46000000', '2912.45000000', '138163.10870000', 1715471999999, '402989065.56622900', 466357, '68667.22240000', '200322136.66970100', '0'], [1715472000000, '2912.45000000', '2955.20000000', '2901.17000000', '2929.29000000', '107670.63230000', 1715558399999, '315212004.62252900', 367990, '49118.15230000', '143794831.49423000', '0'], [1715558400000, '2929.30000000', '2996.40000000', '2864.76000000', '2950.99000000', '368664.76480000', 1715644799999, '1083553488.62321200', 925017, '186525.36870000', '548782383.79362800', '0'], [1715644800000, '2950.99000000', '2960.60000000', '2862.00000000', '2881.93000000', '269675.30370000', 1715731199999, '783471918.25466600', 617845, '132978.23300000', '386314503.84703400', '0'], [1715731200000, '2881.93000000', '3041.36000000', '2863.75000000', '3032.55000000', '350254.31880000', 1715817599999, '1036063008.59966000', 760817, '175148.41910000', '518053714.89865800', '0'], [1715817600000, '3032.55000000', '3041.24000000', '2922.80000000', '2944.70000000', '293874.15130000', 1715903999999, '876706595.65802700', 575271, '140171.47960000', '418208240.56744600', '0'], [1715904000000, '2944.70000000', '3120.00000000', '2933.06000000', '3092.01000000', '357724.77310000', 1715990399999, '1088374622.99119300', 754274, '180386.21600000', '548948430.85819200', '0'], [1715990400000, '3092.00000000', '3146.98000000', '3083.61000000', '3122.94000000', '199976.54560000', 1716076799999, '622730956.33774800', 527531, '96341.44610000', '300062897.67242900', '0'], [1716076800000, '3122.94000000', '3136.64000000', '3053.38000000', '3071.19000000', '166145.01020000', 1716163199999, '513790068.69183000', 470419, '74505.58370000', '230359925.23298100', '0'], [1716163200000, '3071.20000000', '3694.00000000', '3047.67000000', '3661.78000000', '847107.88280000', 1716249599999, '2853349713.67270100', 2226153, '442408.94180000', '1490710929.53451800', '0'], [1716249600000, '3661.79000000', '3841.54000000', '3624.28000000', '3789.60000000', '952437.26940000', 1716335999999, '3557244460.36325800', 2204702, '471779.51800000', '1762078355.60011000', '0'], [1716336000000, '3789.59000000', '3813.69000000', '3653.15000000', '3737.73000000', '574938.30990000', 1716422399999, '2151256432.12026000', 1339940, '284002.59130000', '1062768583.89509000', '0'], [1716422400000, '3737.72000000', '3949.29000000', '3498.00000000', '3783.61000000', '1127866.07600000', 1716508799999, '4283549690.44118100', 2682768, '564546.16610000', '2145257882.16087900', '0'], [1716508800000, '3783.60000000', '3829.61000000', '3626.10000000', '3728.28000000', '479418.43180000', 1716595199999, '1782983862.21296700', 1159074, '244045.01040000', '907694433.15898100', '0'], [1716595200000, '3728.28000000', '3779.43000000', '3709.03000000', '3749.26000000', '158711.89920000', 1716681599999, '594438275.80513700', 503711, '81761.11570000', '306215084.30222700', '0'], [1716681600000, '3749.25000000', '3884.20000000', '3731.17000000', '3826.47000000', '292208.29370000', 1716767999999, '1115661431.00739700', 697286, '145205.44390000', '554271417.29049900', '0'], [1716768000000, '3826.47000000', '3977.00000000', '3823.37000000', '3894.22000000', '363717.64730000', 1716854399999, '1424169372.46594600', 971964, '183721.86760000', '719417955.98062900', '0'], [1716854400000, '3894.21000000', '3931.09000000', '3773.90000000', '3844.69000000', '416249.83440000', 1716940799999, '1605074794.24835400', 941338, '206643.35590000', '796958340.18732000', '0'], [1716940800000, '3844.69000000', '3888.55000000', '3742.59000000', '3767.43000000', '334759.63480000', 1717027199999, '1274087642.07224300', 883401, '170583.44410000', '649078378.82904600', '0'], [1717027200000, '3767.44000000', '3825.35000000', '3702.58000000', '3747.91000000', '277034.28940000', 1717113599999, '1042146006.39132000', 765716, '135950.14980000', '511516684.88129400', '0'], [1717113600000, '3747.90000000', '3849.94000000', '3723.75000000', '3762.29000000', '273406.76600000', 1717199999999, '1032174005.21667600', 680329, '136551.98330000', '515577099.53857900', '0'], [1717200000000, '3762.29000000', '3833.30000000', '3752.67000000', '3815.82000000', '132687.20060000', 1717286399999, '503500622.83785600', 399377, '70367.60980000', '267068560.05088300', '0'], [1717286400000, '3815.82000000', '3838.59000000', '3752.62000000', '3780.91000000', '210295.44070000', 1717372799999, '798100737.66375700', 579563, '105997.65180000', '402268605.70398100', '0'], [1717372800000, '3780.92000000', '3849.99000000', '3758.43000000', '3767.06000000', '248848.70200000', 1717459199999, '946239636.29637100', 648868, '125597.95440000', '477669466.68620100', '0'], [1717459200000, '3767.07000000', '3831.65000000', '3730.00000000', '3810.23000000', '232063.74680000', 1717545599999, '878533930.59989000', 568514, '120842.24990000', '457585643.87419900', '0'], [1717545600000, '3810.23000000', '3887.47000000', '3777.33000000', '3865.99000000', '273738.60350000', 1717631999999, '1046373693.42242900', 645836, '143786.33270000', '549824316.32802500', '0'], [1717632000000, '3866.00000000', '3878.60000000', '3760.00000000', '3813.46000000', '237504.19050000', 1717718399999, '910751773.18159200', 525050, '116926.45290000', '448449925.76810700', '0'], [1717718400000, '3813.47000000', '3841.39000000', '3600.00000000', '3678.32000000', '362223.35940000', 1717804799999, '1352307567.23834900', 894006, '163680.68050000', '611499294.84940500', '0'], [1717804800000, '3678.31000000', '3709.50000000', '3660.08000000', '3681.57000000', '140550.83940000', 1717891199999, '518118534.03992200', 364485, '65014.43920000', '239672339.12588400', '0'], [1717891200000, '3681.58000000', '3721.52000000', '3666.36000000', '3706.40000000', '103451.10200000', 1717977599999, '381854484.95566000', 287960, '48702.62220000', '179769963.17597400', '0'], [1717977600000, '3706.40000000', '3713.67000000', '3642.74000000', '3667.85000000', '156363.18460000', 1718063999999, '575211243.30527000', 391165, '74799.52590000', '275223031.29794300', '0'], [1718064000000, '3667.85000000', '3673.00000000', '3432.00000000', '3497.33000000', '439568.59780000', 1718150399999, '1552225947.17115500', 1036229, '207637.60210000', '733338576.38693000', '0'], [1718150400000, '3497.33000000', '3659.01000000', '3462.07000000', '3560.12000000', '387043.77400000', 1718236799999, '1384558593.85822000', 850527, '187121.79170000', '669515053.84192500', '0'], [1718236800000, '3560.13000000', '3561.65000000', '3428.00000000', '3469.40000000', '300230.82990000', 1718323199999, '1048214494.75108000', 696369, '147994.44390000', '516749769.17987500', '0'], [1718323200000, '3469.40000000', '3532.61000000', '3362.26000000', '3481.80000000', '322316.42140000', 1718409599999, '1116570671.84894500', 746613, '159447.81450000', '552550731.44663600', '0'], [1718409600000, '3481.80000000', '3594.39000000', '3473.10000000', '3568.74000000', '246649.58940000', 1718495999999, '873576137.27908000', 500773, '122544.60260000', '433959818.41832800', '0'], [1718496000000, '3568.75000000', '3653.79000000', '3541.05000000', '3624.41000000', '149839.98200000', 1718582399999, '537492821.64342800', 417858, '77834.89670000', '279215755.24814800', '0'], [1718582400000, '3624.41000000', '3638.37000000', '3463.39000000', '3511.46000000', '337805.64020000', 1718668799999, '1196162530.91905300', 774085, '166343.20520000', '588834718.23454600', '0'], [1718668800000, '3511.47000000', '3517.20000000', '3355.00000000', '3483.42000000', '449913.30140000', 1718755199999, '1541798882.41169500', 1062807, '217161.58870000', '744297791.43354200', '0'], [1718755200000, '3483.42000000', '3590.01000000', '3465.65000000', '3560.51000000', '321500.00270000', 1718841599999, '1138419054.65292700', 712501, '162762.02380000', '576256549.35841500', '0'], [1718841600000, '3560.51000000', '3625.96000000', '3486.00000000', '3513.08000000', '329117.84530000', 1718927999999, '1170597741.25786900', 743896, '161277.79050000', '573660167.60342100', '0'], [1718928000000, '3513.08000000', '3547.55000000', '3446.82000000', '3518.50000000', '342155.10200000', 1719014399999, '1197095546.23396300', 746361, '176183.03800000', '616476628.14976100', '0'], [1719014400000, '3518.50000000', '3521.19000000', '3475.09000000', '3495.75000000', '115774.61570000', 1719100799999, '405045499.42158200', 315684, '57671.84140000', '201786538.36821800', '0'], [1719100800000, '3495.76000000', '3521.45000000', '3406.38000000', '3420.91000000', '133411.43040000', 1719187199999, '463204539.05644000', 338679, '67467.46860000', '234264816.82869500', '0'], [1719187200000, '3420.91000000', '3435.76000000', '3240.00000000', '3352.73000000', '543370.42290000', 1719273599999, '1807046957.96521900', 1222789, '262600.40520000', '873824151.92476300', '0'], [1719273600000, '3352.74000000', '3430.88000000', '3336.76000000', '3394.91000000', '240036.22360000', 1719359999999, '812730026.84420000', 654302, '122936.19590000', '416346006.72290600', '0'], [1719360000000, '3394.91000000', '3426.75000000', '3325.01000000', '3371.44000000', '206949.34180000', 1719446399999, '699375819.27612800', 518727, '108326.93730000', '366024176.14348900', '0'], [1719446400000, '3371.77000000', '3477.00000000', '3361.74000000', '3450.44000000', '201041.66090000', 1719532799999, '687897292.14541400', 530697, '108386.89200000', '370765787.90538400', '0'], [1719532800000, '3450.44000000', '3487.70000000', '3365.22000000', '3380.15000000', '221634.34350000', 1719619199999, '760116781.02950800', 934561, '117864.76710000', '404433441.06101600', '0'], [1719619200000, '3380.15000000', '3408.32000000', '3371.86000000', '3378.80000000', '88329.76510000', 1719705599999, '299468173.24571800', 365755, '47423.39680000', '160794628.30853200', '0'], [1719705600000, '3378.80000000', '3460.00000000', '3352.66000000', '3438.16000000', '141221.61850000', 1719791999999, '480491273.12148200', 557070, '80177.99650000', '272838936.07012400', '0'], [1719792000000, '3438.16000000', '3524.94000000', '3423.78000000', '3442.20000000', '224273.21220000', 1719878399999, '780112100.20822300', 854102, '121044.94000000', '421096637.78815500', '0'], [1719878400000, '3442.20000000', '3464.12000000', '3402.00000000', '3421.35000000', '137932.70140000', 1719964799999, '473853655.52232200', 623720, '68282.75840000', '234617896.70346100', '0'], [1719964800000, '3421.35000000', '3432.10000000', '3251.00000000', '3295.48000000', '310408.45100000', 1720051199999, '1031040642.94824500', 1378502, '143212.67230000', '475477399.86673600', '0'], [1720051200000, '3295.49000000', '3313.45000000', '3050.34000000', '3059.70000000', '450402.56920000', 1720137599999, '1425360058.27939900', 1898898, '202136.36830000', '639814934.74680600', '0'], [1720137600000, '3059.70000000', '3110.00000000', '2810.00000000', '2981.78000000', '886994.37530000', 1720223999999, '2602693094.46338400', 2967124, '404744.53170000', '1188081864.61790000', '0'], [1720224000000, '2981.79000000', '3081.78000000', '2955.06000000', '3066.83000000', '214487.97130000', 1720310399999, '646245038.47514500', 1055462, '112962.82100000', '340494854.01142700', '0'], [1720310400000, '3066.83000000', '3073.08000000', '2922.24000000', '2931.00000000', '179892.76120000', 1720396799999, '538755029.45987900', 878707, '86519.91150000', '258997896.83998600', '0'], [1720396800000, '2930.99000000', '3097.06000000', '2822.80000000', '3019.01000000', '500445.01050000', 1720483199999, '1484924133.82865400', 2222940, '246399.41830000', '731702626.90189300', '0'], [1720483200000, '3019.01000000', '3115.20000000', '3004.00000000', '3066.65000000', '280358.14240000', 1720569599999, '859567747.66392700', 1377129, '148692.14930000', '455973139.54195900', '0'], [1720569600000, '3066.65000000', '3151.51000000', '3024.00000000', '3101.05000000', '270827.08440000', 1720655999999, '839730659.37295200', 1296218, '134603.87130000', '417474584.80457600', '0'], [1720656000000, '3101.06000000', '3217.24000000', '3054.76000000', '3099.57000000', '289229.32000000', 1720742399999, '907129989.22209600', 1413031, '148734.73680000', '466509910.14770000', '0'], [1720742400000, '3099.57000000', '3157.89000000', '3045.58000000', '3133.88000000', '185745.18250000', 1720828799999, '575599522.85066300', 1094915, '95406.12530000', '295730714.46365600', '0'], [1720828800000, '3133.89000000', '3201.80000000', '3113.37000000', '3175.93000000', '119302.47690000', 1720915199999, '376336968.78329300', 591291, '60506.12940000', '190893440.61093800', '0'], [1720915200000, '3175.93000000', '3268.72000000', '3163.67000000', '3245.08000000', '165430.77160000', 1721001599999, '530204017.16941100', 792858, '83179.81420000', '266820311.32188600', '0'], [1721001600000, '3245.20000000', '3493.63000000', '3233.22000000', '3483.39000000', '314296.84520000', 1721087999999, '1058747637.28826600', 1617276, '161760.18580000', '544978505.52276800', '0'], [1721088000000, '3483.20000000', '3498.59000000', '3346.55000000', '3444.13000000', '376128.78690000', 1721174399999, '1291412549.93776600', 1636557, '193947.88230000', '665961239.71115500', '0'], [1721174400000, '3444.14000000', '3517.00000000', '3376.00000000', '3387.05000000', '297812.51620000', 1721260799999, '1029558208.63679400', 1285615, '168234.51870000', '581998341.75033700', '0'], [1721260800000, '3387.05000000', '3489.98000000', '3367.20000000', '3426.50000000', '241950.34570000', 1721347199999, '829503482.76701200', 1165443, '128938.74410000', '442179155.87365700', '0'], [1721347200000, '3426.49000000', '3540.27000000', '3377.00000000', '3503.53000000', '299511.64220000', 1721433599999, '1034724329.31929600', 1262244, '158469.64460000', '547637460.46681500', '0'], [1721433600000, '3503.53000000', '3539.65000000', '3480.00000000', '3517.50000000', '147510.81650000', 1721519999999, '516504071.76519900', 667108, '69139.34330000', '242092830.77753000', '0'], [1721520000000, '3517.50000000', '3547.00000000', '3411.40000000', '3535.92000000', '218890.96560000', 1721606399999, '764360242.60117400', 961322, '103673.58990000', '362208133.51128900', '0'], [1721606400000, '3535.93000000', '3562.82000000', '3422.34000000', '3439.60000000', '207859.50430000', 1721692799999, '724117324.16912200', 1069762, '96899.91880000', '337741204.49652000', '0'], [1721692800000, '3439.61000000', '3541.00000000', '3389.00000000', '3482.51000000', '500568.78110000', 1721779199999, '1737977523.02278600', 1617621, '270658.33240000', '940075969.46685700', '0'], [1721779200000, '3482.51000000', '3487.82000000', '3300.00000000', '3335.81000000', '275479.05060000', 1721865599999, '940244066.49779700', 980283, '135067.10600000', '461180607.88713700', '0'], [1721865600000, '3335.82000000', '3342.50000000', '3087.53000000', '3175.48000000', '494282.63980000', 1721951999999, '1570457188.18384000', 2011527, '239121.06120000', '759567456.51364500', '0'], [1721952000000, '3175.47000000', '3286.36000000', '3171.00000000', '3274.61000000', '260237.46410000', 1722038399999, '844064770.72481800', 1169246, '128738.67200000', '417477416.18929900', '0'], [1722038400000, '3274.60000000', '3327.59000000', '3191.01000000', '3249.01000000', '231991.90370000', 1722124799999, '757931406.54581500', 1076809, '118058.31710000', '385871810.97083600', '0'], [1722124800000, '3249.00000000', '3284.30000000', '3198.11000000', '3270.16000000', '103529.83290000', 1722211199999, '336422802.72238300', 682428, '52499.47910000', '170673348.40827400', '0'], [1722211200000, '3270.16000000', '3396.77000000', '3258.00000000', '3317.66000000', '318471.50550000', 1722297599999, '1061016180.07809800', 1484898, '159686.57070000', '532117930.52570200', '0'], [1722297600000, '3317.66000000', '3366.40000000', '3233.18000000', '3279.21000000', '197277.16410000', 1722383999999, '652703227.79650700', 1183239, '91006.58420000', '301189857.21781700', '0'], [1722384000000, '3279.20000000', '3350.00000000', '3213.75000000', '3232.74000000', '233711.33520000', 1722470399999, '769347274.94598800', 1337992, '112910.42490000', '371910899.51371900', '0'], [1722470400000, '3232.74000000', '3242.57000000', '3080.02000000', '3203.40000000', '323285.61050000', 1722556799999, '1020921619.45247900', 1835455, '151515.29100000', '478652865.10178800', '0'], [1722556800000, '3203.40000000', '3218.60000000', '2967.00000000', '2989.61000000', '385704.03950000', 1722643199999, '1185594927.51484300', 2104725, '177842.92770000', '547327363.22897600', '0'], [1722643200000, '2989.61000000', '3018.02000000', '2859.00000000', '2903.64000000', '344595.31570000', 1722729599999, '1013020792.75208300', 1798017, '151541.68820000', '445649429.32525000', '0'], [1722729600000, '2903.65000000', '2935.46000000', '2630.00000000', '2688.92000000', '512064.26120000', 1722815999999, '1426784556.44274300', 2184760, '235563.98230000', '656402849.74097500', '0'], [1722816000000, '2688.91000000', '2697.44000000', '2111.00000000', '2419.59000000', '2670604.10030000', 1722902399999, '6243689817.19261800', 7064159, '1281460.79170000', '2994688528.68390600', '0'], [1722902400000, '2419.76000000', '2556.23000000', '2414.19000000', '2461.33000000', '642283.80380000', 1722988799999, '1601879002.76912300', 2870150, '323805.05300000', '808046548.67942800', '0'], [1722988800000, '2461.33000000', '2551.32000000', '2309.04000000', '2342.80000000', '630115.42280000', 1723075199999, '1537271441.49575900', 2370148, '307617.06650000', '750975466.25288000', '0'], [1723075200000, '2342.79000000', '2724.10000000', '2320.40000000', '2682.50000000', '586502.87540000', 1723161599999, '1474101815.46942400', 2112663, '299400.95030000', '752709539.42640600', '0'], [1723161600000, '2682.50000000', '2707.98000000', '2552.61000000', '2598.78000000', '406739.96110000', 1723247999999, '1069628608.09830500', 1710060, '195440.29410000', '514507073.99430500', '0'], [1723248000000, '2598.79000000', '2644.70000000', '2576.49000000', '2609.92000000', '171012.36190000', 1723334399999, '446695039.69273400', 758863, '87017.10450000', '227278356.48900000', '0'], [1723334400000, '2609.92000000', '2720.00000000', '2540.00000000', '2555.38000000', '297098.91450000', 1723420799999, '780682452.75452000', 1217650, '143129.64650000', '376123937.07866100', '0'], [1723420800000, '2555.38000000', '2750.00000000', '2510.05000000', '2722.30000000', '483414.25060000', 1723507199999, '1275788778.66051800', 1915621, '252099.21840000', '665331112.59673800', '0'], [1723507200000, '2722.30000000', '2738.40000000', '2611.37000000', '2702.44000000', '325668.69640000', 1723593599999, '872886595.98851800', 1547949, '165417.05460000', '443554807.91132300', '0'], [1723593600000, '2702.44000000', '2780.00000000', '2632.20000000', '2661.45000000', '338808.71410000', 1723679999999, '914805683.89824400', 1503315, '167827.71990000', '453631446.39239700', '0'], [1723680000000, '2661.45000000', '2675.60000000', '2515.71000000', '2569.89000000', '356546.80590000', 1723766399999, '927491377.06139800', 1761529, '172089.68210000', '447789574.12869100', '0'], [1723766400000, '2569.90000000', '2630.97000000', '2550.04000000', '2592.73000000', '270684.13730000', 1723852799999, '702631292.53493100', 1602311, '127687.39840000', '331506251.81562000', '0'], [1723852800000, '2592.72000000', '2629.69000000', '2587.50000000', '2614.51000000', '89348.67600000', 1723939199999, '232787181.52592400', 543278, '47334.20420000', '123329370.60796800', '0'], [1723939200000, '2614.51000000', '2689.16000000', '2594.53000000', '2612.15000000', '174074.05850000', 1724025599999, '459975824.15432300', 836384, '92214.98720000', '243669152.91462400', '0'], [1724025600000, '2612.15000000', '2648.08000000', '2563.58000000', '2636.36000000', '224867.13360000', 1724111999999, '585578272.44348200', 1156033, '112686.52750000', '293606287.96500200', '0'], [1724112000000, '2636.36000000', '2695.00000000', '2555.00000000', '2572.82000000', '281315.87510000', 1724198399999, '738361057.60213400', 1303349, '139599.91330000', '366762747.97612900', '0'], [1724198400000, '2572.81000000', '2663.74000000', '2536.22000000', '2630.71000000', '245286.62180000', 1724284799999, '638338169.86214400', 1420421, '121889.98370000', '317338706.90672800', '0'], [1724284800000, '2630.71000000', '2644.69000000', '2584.20000000', '2622.88000000', '199063.11960000', 1724371199999, '521285357.08642300', 1064195, '98645.80600000', '258303739.53123700', '0'], [1724371200000, '2622.89000000', '2799.13000000', '2621.40000000', '2762.48000000', '401786.44470000', 1724457599999, '1082989033.02354700', 1747686, '210295.50730000', '567121017.13849100', '0'], [1724457600000, '2762.49000000', '2820.00000000', '2731.26000000', '2768.00000000', '263542.94410000', 1724543999999, '730370481.13812200', 1133872, '130086.44910000', '360650474.07165400', '0'], [1724544000000, '2768.01000000', '2792.28000000', '2733.21000000', '2746.13000000', '154527.23520000', 1724630399999, '426733399.32663600', 1047985, '75993.74900000', '209910294.01518700', '0'], [1724630400000, '2746.12000000', '2762.00000000', '2666.66000000', '2680.49000000', '211708.12470000', 1724716799999, '575695656.47717900', 1453833, '102718.22470000', '279333306.99040100', '0'], [1724716800000, '2680.49000000', '2699.98000000', '2392.96000000', '2457.33000000', '412660.71970000', 1724803199999, '1058769621.89210300', 1898416, '187278.07780000', '480143744.79680500', '0'], [1724803200000, '2457.33000000', '2554.60000000', '2418.80000000', '2528.33000000', '451266.63400000', 1724889599999, '1124304892.42379500', 2272721, '222246.91840000', '553710617.94950600', '0'], [1724889600000, '2528.33000000', '2595.40000000', '2505.88000000', '2527.61000000', '237002.96320000', 1724975999999, '603867504.22594900', 1455668, '119563.35910000', '304607143.52593600', '0'], [1724976000000, '2527.60000000', '2552.17000000', '2431.14000000', '2526.00000000', '338379.19410000', 1725062399999, '845015735.14941100', 1735497, '172073.91140000', '429842974.52976200', '0'], [1725062400000, '2525.99000000', '2533.95000000', '2491.92000000', '2513.01000000', '97946.11470000', 1725148799999, '246514334.07653000', 702529, '47410.90720000', '119335754.45879400', '0'], [1725148800000, '2513.00000000', '2516.28000000', '2400.00000000', '2425.72000000', '223127.77600000', 1725235199999, '550299930.15344900', 1357443, '106672.82840000', '263071210.85051600', '0'], [1725235200000, '2425.71000000', '2564.83000000', '2423.52000000', '2538.01000000', '262632.83850000', 1725321599999, '654854126.19511100', 1452334, '134090.70480000', '334264683.01748600', '0'], [1725321600000, '2538.00000000', '2553.60000000', '2411.12000000', '2425.29000000', '224793.12990000', 1725407999999, '556674703.35234100', 1272909, '101487.65070000', '251452238.68507400', '0'], [1725408000000, '2425.28000000', '2490.00000000', '2306.65000000', '2450.71000000', '384179.38540000', 1725494399999, '921640300.67465400', 2002621, '188707.74580000', '452757932.49333500', '0'], [1725494400000, '2450.71000000', '2466.00000000', '2348.04000000', '2368.81000000', '278549.09690000', 1725580799999, '667044058.82643400', 1862353, '131571.92470000', '315231080.60793400', '0'], [1725580800000, '2368.81000000', '2408.83000000', '2150.55000000', '2225.23000000', '643027.11100000', 1725667199999, '1467265008.06349300', 2980066, '303990.16890000', '694418877.02475400', '0'], [1725667200000, '2225.24000000', '2311.27000000', '2220.98000000', '2273.58000000', '219453.20760000', 1725753599999, '498662894.23097500', 982698, '109807.92460000', '249593766.45553000', '0'], [1725753600000, '2273.58000000', '2333.58000000', '2240.94000000', '2297.30000000', '192775.64930000', 1725839999999, '440447734.82637300', 976672, '93305.19370000', '213222870.55342400', '0'], [1725840000000, '2297.30000000', '2381.41000000', '2272.80000000', '2359.50000000', '321698.99000000', 1725926399999, '747001776.04653600', 1761692, '156788.50980000', '364223174.14290400', '0'], [1725926400000, '2359.51000000', '2400.00000000', '2320.41000000', '2388.52000000', '224382.17290000', 1726012799999, '528411566.91970200', 1210860, '105895.41880000', '249480052.38138200', '0'], [1726012800000, '2388.52000000', '2389.32000000', '2277.68000000', '2340.55000000', '282898.31250000', 1726099199999, '659291892.32673100', 1530070, '135125.59650000', '314926799.45453100', '0'], [1726099200000, '2340.54000000', '2391.93000000', '2315.39000000', '2361.76000000', '202611.13080000', 1726185599999, '476749201.76441900', 1093596, '102118.09520000', '240341157.99811900', '0'], [1726185600000, '2361.75000000', '2464.82000000', '2337.35000000', '2439.19000000', '253888.61600000', 1726271999999, '607650210.70286200', 1458878, '124124.36760000', '297410717.96547000', '0'], [1726272000000, '2439.19000000', '2440.60000000', '2376.72000000', '2417.79000000', '122931.23020000', 1726358399999, '296990460.13007800', 754834, '57970.96450000', '140034806.30787600', '0'], [1726358400000, '2417.80000000', '2430.32000000', '2283.75000000', '2316.10000000', '174364.19460000', 1726444799999, '413278017.27632400', 1058493, '80610.91460000', '191044099.00633000', '0'], [1726444800000, '2316.09000000', '2335.70000000', '2252.39000000', '2295.68000000', '330555.23200000', 1726531199999, '756718235.68223400', 2102319, '153834.01110000', '352253267.83244000', '0'], [1726531200000, '2295.67000000', '2393.63000000', '2263.29000000', '2341.80000000', '274206.25880000', 1726617599999, '640307796.59404200', 1813524, '134491.63700000', '314135444.25581700', '0'], [1726617600000, '2341.79000000', '2343.28000000', '2277.34000000', '2296.79000000', '141203.48370000', 1726703999999, '326558743.63807700', 1535834, '67319.43330000', '155718165.49413300', '0']]\n"
     ]
    },
    {
     "data": {
      "text/html": [
       "<div>\n",
       "<style scoped>\n",
       "    .dataframe tbody tr th:only-of-type {\n",
       "        vertical-align: middle;\n",
       "    }\n",
       "\n",
       "    .dataframe tbody tr th {\n",
       "        vertical-align: top;\n",
       "    }\n",
       "\n",
       "    .dataframe thead th {\n",
       "        text-align: right;\n",
       "    }\n",
       "</style>\n",
       "<table border=\"1\" class=\"dataframe\">\n",
       "  <thead>\n",
       "    <tr style=\"text-align: right;\">\n",
       "      <th></th>\n",
       "      <th>open</th>\n",
       "      <th>high</th>\n",
       "      <th>low</th>\n",
       "      <th>close</th>\n",
       "      <th>volume</th>\n",
       "    </tr>\n",
       "    <tr>\n",
       "      <th>date</th>\n",
       "      <th></th>\n",
       "      <th></th>\n",
       "      <th></th>\n",
       "      <th></th>\n",
       "      <th></th>\n",
       "    </tr>\n",
       "  </thead>\n",
       "  <tbody>\n",
       "    <tr>\n",
       "      <th>2023-05-08</th>\n",
       "      <td>1870.41000000</td>\n",
       "      <td>1883.97000000</td>\n",
       "      <td>1810.73000000</td>\n",
       "      <td>1847.56000000</td>\n",
       "      <td>625316.61680000</td>\n",
       "    </tr>\n",
       "    <tr>\n",
       "      <th>2023-05-09</th>\n",
       "      <td>1847.55000000</td>\n",
       "      <td>1861.88000000</td>\n",
       "      <td>1830.99000000</td>\n",
       "      <td>1846.52000000</td>\n",
       "      <td>304396.18600000</td>\n",
       "    </tr>\n",
       "    <tr>\n",
       "      <th>2023-05-10</th>\n",
       "      <td>1846.53000000</td>\n",
       "      <td>1887.47000000</td>\n",
       "      <td>1790.51000000</td>\n",
       "      <td>1840.84000000</td>\n",
       "      <td>639933.38550000</td>\n",
       "    </tr>\n",
       "    <tr>\n",
       "      <th>2023-05-11</th>\n",
       "      <td>1840.83000000</td>\n",
       "      <td>1842.02000000</td>\n",
       "      <td>1772.68000000</td>\n",
       "      <td>1794.30000000</td>\n",
       "      <td>522096.07250000</td>\n",
       "    </tr>\n",
       "    <tr>\n",
       "      <th>2023-05-12</th>\n",
       "      <td>1794.31000000</td>\n",
       "      <td>1818.63000000</td>\n",
       "      <td>1740.00000000</td>\n",
       "      <td>1807.45000000</td>\n",
       "      <td>565539.83090000</td>\n",
       "    </tr>\n",
       "    <tr>\n",
       "      <th>...</th>\n",
       "      <td>...</td>\n",
       "      <td>...</td>\n",
       "      <td>...</td>\n",
       "      <td>...</td>\n",
       "      <td>...</td>\n",
       "    </tr>\n",
       "    <tr>\n",
       "      <th>2024-09-14</th>\n",
       "      <td>2439.19000000</td>\n",
       "      <td>2440.60000000</td>\n",
       "      <td>2376.72000000</td>\n",
       "      <td>2417.79000000</td>\n",
       "      <td>122931.23020000</td>\n",
       "    </tr>\n",
       "    <tr>\n",
       "      <th>2024-09-15</th>\n",
       "      <td>2417.80000000</td>\n",
       "      <td>2430.32000000</td>\n",
       "      <td>2283.75000000</td>\n",
       "      <td>2316.10000000</td>\n",
       "      <td>174364.19460000</td>\n",
       "    </tr>\n",
       "    <tr>\n",
       "      <th>2024-09-16</th>\n",
       "      <td>2316.09000000</td>\n",
       "      <td>2335.70000000</td>\n",
       "      <td>2252.39000000</td>\n",
       "      <td>2295.68000000</td>\n",
       "      <td>330555.23200000</td>\n",
       "    </tr>\n",
       "    <tr>\n",
       "      <th>2024-09-17</th>\n",
       "      <td>2295.67000000</td>\n",
       "      <td>2393.63000000</td>\n",
       "      <td>2263.29000000</td>\n",
       "      <td>2341.80000000</td>\n",
       "      <td>274206.25880000</td>\n",
       "    </tr>\n",
       "    <tr>\n",
       "      <th>2024-09-18</th>\n",
       "      <td>2341.79000000</td>\n",
       "      <td>2343.28000000</td>\n",
       "      <td>2277.34000000</td>\n",
       "      <td>2296.79000000</td>\n",
       "      <td>141203.48370000</td>\n",
       "    </tr>\n",
       "  </tbody>\n",
       "</table>\n",
       "<p>500 rows × 5 columns</p>\n",
       "</div>"
      ],
      "text/plain": [
       "                     open           high            low          close  \\\n",
       "date                                                                     \n",
       "2023-05-08  1870.41000000  1883.97000000  1810.73000000  1847.56000000   \n",
       "2023-05-09  1847.55000000  1861.88000000  1830.99000000  1846.52000000   \n",
       "2023-05-10  1846.53000000  1887.47000000  1790.51000000  1840.84000000   \n",
       "2023-05-11  1840.83000000  1842.02000000  1772.68000000  1794.30000000   \n",
       "2023-05-12  1794.31000000  1818.63000000  1740.00000000  1807.45000000   \n",
       "...                   ...            ...            ...            ...   \n",
       "2024-09-14  2439.19000000  2440.60000000  2376.72000000  2417.79000000   \n",
       "2024-09-15  2417.80000000  2430.32000000  2283.75000000  2316.10000000   \n",
       "2024-09-16  2316.09000000  2335.70000000  2252.39000000  2295.68000000   \n",
       "2024-09-17  2295.67000000  2393.63000000  2263.29000000  2341.80000000   \n",
       "2024-09-18  2341.79000000  2343.28000000  2277.34000000  2296.79000000   \n",
       "\n",
       "                     volume  \n",
       "date                         \n",
       "2023-05-08  625316.61680000  \n",
       "2023-05-09  304396.18600000  \n",
       "2023-05-10  639933.38550000  \n",
       "2023-05-11  522096.07250000  \n",
       "2023-05-12  565539.83090000  \n",
       "...                     ...  \n",
       "2024-09-14  122931.23020000  \n",
       "2024-09-15  174364.19460000  \n",
       "2024-09-16  330555.23200000  \n",
       "2024-09-17  274206.25880000  \n",
       "2024-09-18  141203.48370000  \n",
       "\n",
       "[500 rows x 5 columns]"
      ]
     },
     "execution_count": 10,
     "metadata": {},
     "output_type": "execute_result"
    }
   ],
   "source": [
    "get_candles('ETHUSDT')"
   ]
  },
  {
   "cell_type": "code",
   "execution_count": 16,
   "metadata": {},
   "outputs": [],
   "source": [
    "import plotly.graph_objects as go\n",
    "import yfinance as yf\n",
    "from plotly.subplots import make_subplots"
   ]
  },
  {
   "cell_type": "code",
   "execution_count": 20,
   "metadata": {},
   "outputs": [
    {
     "name": "stderr",
     "output_type": "stream",
     "text": [
      "[*********************100%***********************]  1 of 1 completed\n"
     ]
    },
    {
     "data": {
      "application/vnd.plotly.v1+json": {
       "config": {
        "plotlyServerURL": "https://plot.ly"
       },
       "data": [
        {
         "close": [
          47686.8125,
          47345.21875,
          46458.1171875,
          45897.57421875,
          43569.00390625,
          43160.9296875,
          41557.90234375,
          41733.94140625,
          41911.6015625,
          41821.26171875,
          42735.85546875,
          43949.1015625,
          42591.5703125,
          43099.69921875,
          43177.3984375,
          43113.87890625,
          42250.55078125,
          42375.6328125,
          41744.328125,
          40680.41796875,
          36457.31640625,
          35030.25,
          36276.8046875,
          36654.328125,
          36954.00390625,
          36852.12109375,
          37138.234375,
          37784.33203125,
          38138.1796875,
          37917.6015625,
          38483.125,
          38743.2734375,
          36952.984375,
          37154.6015625,
          41500.875,
          41441.1640625,
          42412.43359375,
          43840.28515625,
          44118.4453125,
          44338.796875,
          43565.11328125,
          42407.9375,
          42244.46875,
          42197.515625,
          42586.91796875,
          44575.203125,
          43961.859375,
          40538.01171875,
          40030.9765625,
          40122.15625,
          38431.37890625,
          37075.28125,
          38286.02734375,
          37296.5703125,
          38332.609375,
          39214.21875,
          39105.1484375,
          37709.78515625,
          43193.234375
         ],
         "high": [
          47827.3125,
          47881.40625,
          47510.7265625,
          47406.546875,
          46929.046875,
          43748.71875,
          43153.5703125,
          42228.94140625,
          42663.94921875,
          42199.484375,
          43001.15625,
          44135.3671875,
          44278.421875,
          43346.6875,
          43724.671875,
          43436.80859375,
          43179.390625,
          42534.40234375,
          42478.3046875,
          43413.0234375,
          41060.52734375,
          36688.8125,
          36433.3125,
          37247.51953125,
          37444.5703125,
          38825.41015625,
          37148.32421875,
          37952.87890625,
          38576.26171875,
          38266.33984375,
          38647.26171875,
          39115.1328125,
          38834.6171875,
          37154.6015625,
          41527.78515625,
          41847.1640625,
          42500.78515625,
          44401.86328125,
          45293.8671875,
          44727.80078125,
          45661.171875,
          43810.83203125,
          42992.55078125,
          42693.0546875,
          42775.77734375,
          44667.21875,
          44578.27734375,
          44132.97265625,
          40929.15234375,
          40418.87890625,
          40119.890625,
          39394.4375,
          38359.85546875,
          39122.39453125,
          38968.83984375,
          39630.32421875,
          40005.34765625,
          39778.94140625,
          43760.45703125
         ],
         "low": [
          46288.484375,
          46856.9375,
          45835.96484375,
          45752.46484375,
          42798.22265625,
          42645.5390625,
          41077.4453125,
          40672.27734375,
          41338.16015625,
          39796.5703125,
          41407.75390625,
          42528.98828125,
          42447.04296875,
          41982.6171875,
          42669.03515625,
          42691.0234375,
          41680.3203125,
          41392.21484375,
          41242.9140625,
          40672.82421875,
          35791.42578125,
          34349.25,
          34784.96875,
          33184.05859375,
          35779.4296875,
          36374.90625,
          35629.28125,
          36211.109375,
          37406.47265625,
          37437.7109375,
          36733.57421875,
          38113.6640625,
          36832.73046875,
          36375.5390625,
          37093.62890625,
          41038.09765625,
          41244.90625,
          41748.15625,
          42807.8359375,
          43232.96875,
          43402.80859375,
          42114.5390625,
          41852.57421875,
          41950.94140625,
          41681.95703125,
          42491.03515625,
          43456.69140625,
          40249.37109375,
          39637.6171875,
          39713.05859375,
          38112.8125,
          36950.4765625,
          36488.93359375,
          37201.81640625,
          34459.21875,
          38111.34375,
          38702.53515625,
          37268.9765625,
          37518.21484375
         ],
         "open": [
          46311.74609375,
          47680.92578125,
          47343.54296875,
          46458.8515625,
          45899.359375,
          43565.51171875,
          43153.5703125,
          41561.46484375,
          41734.7265625,
          41910.23046875,
          41819.5078125,
          42742.1796875,
          43946.7421875,
          42598.87109375,
          43101.8984375,
          43172.0390625,
          43118.12109375,
          42250.07421875,
          42374.0390625,
          41744.02734375,
          40699.60546875,
          36471.58984375,
          35047.359375,
          36275.734375,
          36654.8046875,
          36950.515625,
          36841.87890625,
          37128.4453125,
          37780.71484375,
          38151.91796875,
          37920.28125,
          38481.765625,
          38743.71484375,
          36944.8046875,
          37149.265625,
          41501.48046875,
          41441.12109375,
          42406.78125,
          43854.65234375,
          44096.703125,
          44347.80078125,
          43571.12890625,
          42412.30078125,
          42236.56640625,
          42157.3984375,
          42586.46484375,
          44578.27734375,
          43937.0703125,
          40552.1328125,
          40026.0234375,
          40118.1015625,
          38423.2109375,
          37068.76953125,
          38285.28125,
          37278.56640625,
          38333.74609375,
          39213.08203125,
          39098.69921875,
          37706
         ],
         "type": "candlestick",
         "x": [
          "2022-01-01T00:00:00",
          "2022-01-02T00:00:00",
          "2022-01-03T00:00:00",
          "2022-01-04T00:00:00",
          "2022-01-05T00:00:00",
          "2022-01-06T00:00:00",
          "2022-01-07T00:00:00",
          "2022-01-08T00:00:00",
          "2022-01-09T00:00:00",
          "2022-01-10T00:00:00",
          "2022-01-11T00:00:00",
          "2022-01-12T00:00:00",
          "2022-01-13T00:00:00",
          "2022-01-14T00:00:00",
          "2022-01-15T00:00:00",
          "2022-01-16T00:00:00",
          "2022-01-17T00:00:00",
          "2022-01-18T00:00:00",
          "2022-01-19T00:00:00",
          "2022-01-20T00:00:00",
          "2022-01-21T00:00:00",
          "2022-01-22T00:00:00",
          "2022-01-23T00:00:00",
          "2022-01-24T00:00:00",
          "2022-01-25T00:00:00",
          "2022-01-26T00:00:00",
          "2022-01-27T00:00:00",
          "2022-01-28T00:00:00",
          "2022-01-29T00:00:00",
          "2022-01-30T00:00:00",
          "2022-01-31T00:00:00",
          "2022-02-01T00:00:00",
          "2022-02-02T00:00:00",
          "2022-02-03T00:00:00",
          "2022-02-04T00:00:00",
          "2022-02-05T00:00:00",
          "2022-02-06T00:00:00",
          "2022-02-07T00:00:00",
          "2022-02-08T00:00:00",
          "2022-02-09T00:00:00",
          "2022-02-10T00:00:00",
          "2022-02-11T00:00:00",
          "2022-02-12T00:00:00",
          "2022-02-13T00:00:00",
          "2022-02-14T00:00:00",
          "2022-02-15T00:00:00",
          "2022-02-16T00:00:00",
          "2022-02-17T00:00:00",
          "2022-02-18T00:00:00",
          "2022-02-19T00:00:00",
          "2022-02-20T00:00:00",
          "2022-02-21T00:00:00",
          "2022-02-22T00:00:00",
          "2022-02-23T00:00:00",
          "2022-02-24T00:00:00",
          "2022-02-25T00:00:00",
          "2022-02-26T00:00:00",
          "2022-02-27T00:00:00",
          "2022-02-28T00:00:00"
         ],
         "xaxis": "x",
         "yaxis": "y"
        },
        {
         "marker": {
          "color": [
           "green",
           "red",
           "red",
           "red",
           "red",
           "red",
           "red",
           "green",
           "green",
           "red",
           "green",
           "green",
           "red",
           "green",
           "green",
           "red",
           "red",
           "green",
           "red",
           "red",
           "red",
           "red",
           "green",
           "green",
           "green",
           "red",
           "green",
           "green",
           "green",
           "red",
           "green",
           "green",
           "red",
           "green",
           "green",
           "red",
           "green",
           "green",
           "green",
           "green",
           "red",
           "red",
           "red",
           "red",
           "green",
           "green",
           "red",
           "red",
           "red",
           "green",
           "red",
           "red",
           "green",
           "red",
           "green",
           "green",
           "red",
           "red",
           "green"
          ],
          "opacity": 0.6
         },
         "name": "Volume",
         "type": "bar",
         "x": [
          "2022-01-01T00:00:00",
          "2022-01-02T00:00:00",
          "2022-01-03T00:00:00",
          "2022-01-04T00:00:00",
          "2022-01-05T00:00:00",
          "2022-01-06T00:00:00",
          "2022-01-07T00:00:00",
          "2022-01-08T00:00:00",
          "2022-01-09T00:00:00",
          "2022-01-10T00:00:00",
          "2022-01-11T00:00:00",
          "2022-01-12T00:00:00",
          "2022-01-13T00:00:00",
          "2022-01-14T00:00:00",
          "2022-01-15T00:00:00",
          "2022-01-16T00:00:00",
          "2022-01-17T00:00:00",
          "2022-01-18T00:00:00",
          "2022-01-19T00:00:00",
          "2022-01-20T00:00:00",
          "2022-01-21T00:00:00",
          "2022-01-22T00:00:00",
          "2022-01-23T00:00:00",
          "2022-01-24T00:00:00",
          "2022-01-25T00:00:00",
          "2022-01-26T00:00:00",
          "2022-01-27T00:00:00",
          "2022-01-28T00:00:00",
          "2022-01-29T00:00:00",
          "2022-01-30T00:00:00",
          "2022-01-31T00:00:00",
          "2022-02-01T00:00:00",
          "2022-02-02T00:00:00",
          "2022-02-03T00:00:00",
          "2022-02-04T00:00:00",
          "2022-02-05T00:00:00",
          "2022-02-06T00:00:00",
          "2022-02-07T00:00:00",
          "2022-02-08T00:00:00",
          "2022-02-09T00:00:00",
          "2022-02-10T00:00:00",
          "2022-02-11T00:00:00",
          "2022-02-12T00:00:00",
          "2022-02-13T00:00:00",
          "2022-02-14T00:00:00",
          "2022-02-15T00:00:00",
          "2022-02-16T00:00:00",
          "2022-02-17T00:00:00",
          "2022-02-18T00:00:00",
          "2022-02-19T00:00:00",
          "2022-02-20T00:00:00",
          "2022-02-21T00:00:00",
          "2022-02-22T00:00:00",
          "2022-02-23T00:00:00",
          "2022-02-24T00:00:00",
          "2022-02-25T00:00:00",
          "2022-02-26T00:00:00",
          "2022-02-27T00:00:00",
          "2022-02-28T00:00:00"
         ],
         "xaxis": "x2",
         "y": [
          24582667004,
          27951569547,
          33071628362,
          42494677905,
          36851084859,
          30208048289,
          84196607520,
          28066355845,
          21294384372,
          32104232331,
          26327648900,
          33499938689,
          47691135082,
          23577403399,
          18371348298,
          17902097845,
          21690904261,
          22417209227,
          23091543258,
          20382033940,
          43011992031,
          39714385405,
          26017975951,
          41856658597,
          26428189594,
          31324598034,
          25041426629,
          22238830523,
          17194183075,
          14643548444,
          20734730465,
          20288500328,
          19155189416,
          18591534769,
          29412210792,
          19652846215,
          16142097334,
          28641855926,
          33079398868,
          23245887300,
          32142048537,
          26954925781,
          18152390304,
          14741589015,
          20827783012,
          22721659051,
          19792547657,
          26246662813,
          23310007704,
          13736557863,
          18340576452,
          29280402798,
          25493150450,
          21849073843,
          46383802093,
          26545599159,
          17467554129,
          23450127612,
          35690014104
         ],
         "yaxis": "y2"
        }
       ],
       "layout": {
        "font": {
         "color": "white"
        },
        "height": 800,
        "paper_bgcolor": "rgb(13, 20, 39)",
        "plot_bgcolor": "rgb(13, 20, 39)",
        "showlegend": false,
        "template": {
         "data": {
          "bar": [
           {
            "error_x": {
             "color": "#2a3f5f"
            },
            "error_y": {
             "color": "#2a3f5f"
            },
            "marker": {
             "line": {
              "color": "#E5ECF6",
              "width": 0.5
             },
             "pattern": {
              "fillmode": "overlay",
              "size": 10,
              "solidity": 0.2
             }
            },
            "type": "bar"
           }
          ],
          "barpolar": [
           {
            "marker": {
             "line": {
              "color": "#E5ECF6",
              "width": 0.5
             },
             "pattern": {
              "fillmode": "overlay",
              "size": 10,
              "solidity": 0.2
             }
            },
            "type": "barpolar"
           }
          ],
          "carpet": [
           {
            "aaxis": {
             "endlinecolor": "#2a3f5f",
             "gridcolor": "white",
             "linecolor": "white",
             "minorgridcolor": "white",
             "startlinecolor": "#2a3f5f"
            },
            "baxis": {
             "endlinecolor": "#2a3f5f",
             "gridcolor": "white",
             "linecolor": "white",
             "minorgridcolor": "white",
             "startlinecolor": "#2a3f5f"
            },
            "type": "carpet"
           }
          ],
          "choropleth": [
           {
            "colorbar": {
             "outlinewidth": 0,
             "ticks": ""
            },
            "type": "choropleth"
           }
          ],
          "contour": [
           {
            "colorbar": {
             "outlinewidth": 0,
             "ticks": ""
            },
            "colorscale": [
             [
              0,
              "#0d0887"
             ],
             [
              0.1111111111111111,
              "#46039f"
             ],
             [
              0.2222222222222222,
              "#7201a8"
             ],
             [
              0.3333333333333333,
              "#9c179e"
             ],
             [
              0.4444444444444444,
              "#bd3786"
             ],
             [
              0.5555555555555556,
              "#d8576b"
             ],
             [
              0.6666666666666666,
              "#ed7953"
             ],
             [
              0.7777777777777778,
              "#fb9f3a"
             ],
             [
              0.8888888888888888,
              "#fdca26"
             ],
             [
              1,
              "#f0f921"
             ]
            ],
            "type": "contour"
           }
          ],
          "contourcarpet": [
           {
            "colorbar": {
             "outlinewidth": 0,
             "ticks": ""
            },
            "type": "contourcarpet"
           }
          ],
          "heatmap": [
           {
            "colorbar": {
             "outlinewidth": 0,
             "ticks": ""
            },
            "colorscale": [
             [
              0,
              "#0d0887"
             ],
             [
              0.1111111111111111,
              "#46039f"
             ],
             [
              0.2222222222222222,
              "#7201a8"
             ],
             [
              0.3333333333333333,
              "#9c179e"
             ],
             [
              0.4444444444444444,
              "#bd3786"
             ],
             [
              0.5555555555555556,
              "#d8576b"
             ],
             [
              0.6666666666666666,
              "#ed7953"
             ],
             [
              0.7777777777777778,
              "#fb9f3a"
             ],
             [
              0.8888888888888888,
              "#fdca26"
             ],
             [
              1,
              "#f0f921"
             ]
            ],
            "type": "heatmap"
           }
          ],
          "heatmapgl": [
           {
            "colorbar": {
             "outlinewidth": 0,
             "ticks": ""
            },
            "colorscale": [
             [
              0,
              "#0d0887"
             ],
             [
              0.1111111111111111,
              "#46039f"
             ],
             [
              0.2222222222222222,
              "#7201a8"
             ],
             [
              0.3333333333333333,
              "#9c179e"
             ],
             [
              0.4444444444444444,
              "#bd3786"
             ],
             [
              0.5555555555555556,
              "#d8576b"
             ],
             [
              0.6666666666666666,
              "#ed7953"
             ],
             [
              0.7777777777777778,
              "#fb9f3a"
             ],
             [
              0.8888888888888888,
              "#fdca26"
             ],
             [
              1,
              "#f0f921"
             ]
            ],
            "type": "heatmapgl"
           }
          ],
          "histogram": [
           {
            "marker": {
             "pattern": {
              "fillmode": "overlay",
              "size": 10,
              "solidity": 0.2
             }
            },
            "type": "histogram"
           }
          ],
          "histogram2d": [
           {
            "colorbar": {
             "outlinewidth": 0,
             "ticks": ""
            },
            "colorscale": [
             [
              0,
              "#0d0887"
             ],
             [
              0.1111111111111111,
              "#46039f"
             ],
             [
              0.2222222222222222,
              "#7201a8"
             ],
             [
              0.3333333333333333,
              "#9c179e"
             ],
             [
              0.4444444444444444,
              "#bd3786"
             ],
             [
              0.5555555555555556,
              "#d8576b"
             ],
             [
              0.6666666666666666,
              "#ed7953"
             ],
             [
              0.7777777777777778,
              "#fb9f3a"
             ],
             [
              0.8888888888888888,
              "#fdca26"
             ],
             [
              1,
              "#f0f921"
             ]
            ],
            "type": "histogram2d"
           }
          ],
          "histogram2dcontour": [
           {
            "colorbar": {
             "outlinewidth": 0,
             "ticks": ""
            },
            "colorscale": [
             [
              0,
              "#0d0887"
             ],
             [
              0.1111111111111111,
              "#46039f"
             ],
             [
              0.2222222222222222,
              "#7201a8"
             ],
             [
              0.3333333333333333,
              "#9c179e"
             ],
             [
              0.4444444444444444,
              "#bd3786"
             ],
             [
              0.5555555555555556,
              "#d8576b"
             ],
             [
              0.6666666666666666,
              "#ed7953"
             ],
             [
              0.7777777777777778,
              "#fb9f3a"
             ],
             [
              0.8888888888888888,
              "#fdca26"
             ],
             [
              1,
              "#f0f921"
             ]
            ],
            "type": "histogram2dcontour"
           }
          ],
          "mesh3d": [
           {
            "colorbar": {
             "outlinewidth": 0,
             "ticks": ""
            },
            "type": "mesh3d"
           }
          ],
          "parcoords": [
           {
            "line": {
             "colorbar": {
              "outlinewidth": 0,
              "ticks": ""
             }
            },
            "type": "parcoords"
           }
          ],
          "pie": [
           {
            "automargin": true,
            "type": "pie"
           }
          ],
          "scatter": [
           {
            "fillpattern": {
             "fillmode": "overlay",
             "size": 10,
             "solidity": 0.2
            },
            "type": "scatter"
           }
          ],
          "scatter3d": [
           {
            "line": {
             "colorbar": {
              "outlinewidth": 0,
              "ticks": ""
             }
            },
            "marker": {
             "colorbar": {
              "outlinewidth": 0,
              "ticks": ""
             }
            },
            "type": "scatter3d"
           }
          ],
          "scattercarpet": [
           {
            "marker": {
             "colorbar": {
              "outlinewidth": 0,
              "ticks": ""
             }
            },
            "type": "scattercarpet"
           }
          ],
          "scattergeo": [
           {
            "marker": {
             "colorbar": {
              "outlinewidth": 0,
              "ticks": ""
             }
            },
            "type": "scattergeo"
           }
          ],
          "scattergl": [
           {
            "marker": {
             "colorbar": {
              "outlinewidth": 0,
              "ticks": ""
             }
            },
            "type": "scattergl"
           }
          ],
          "scattermapbox": [
           {
            "marker": {
             "colorbar": {
              "outlinewidth": 0,
              "ticks": ""
             }
            },
            "type": "scattermapbox"
           }
          ],
          "scatterpolar": [
           {
            "marker": {
             "colorbar": {
              "outlinewidth": 0,
              "ticks": ""
             }
            },
            "type": "scatterpolar"
           }
          ],
          "scatterpolargl": [
           {
            "marker": {
             "colorbar": {
              "outlinewidth": 0,
              "ticks": ""
             }
            },
            "type": "scatterpolargl"
           }
          ],
          "scatterternary": [
           {
            "marker": {
             "colorbar": {
              "outlinewidth": 0,
              "ticks": ""
             }
            },
            "type": "scatterternary"
           }
          ],
          "surface": [
           {
            "colorbar": {
             "outlinewidth": 0,
             "ticks": ""
            },
            "colorscale": [
             [
              0,
              "#0d0887"
             ],
             [
              0.1111111111111111,
              "#46039f"
             ],
             [
              0.2222222222222222,
              "#7201a8"
             ],
             [
              0.3333333333333333,
              "#9c179e"
             ],
             [
              0.4444444444444444,
              "#bd3786"
             ],
             [
              0.5555555555555556,
              "#d8576b"
             ],
             [
              0.6666666666666666,
              "#ed7953"
             ],
             [
              0.7777777777777778,
              "#fb9f3a"
             ],
             [
              0.8888888888888888,
              "#fdca26"
             ],
             [
              1,
              "#f0f921"
             ]
            ],
            "type": "surface"
           }
          ],
          "table": [
           {
            "cells": {
             "fill": {
              "color": "#EBF0F8"
             },
             "line": {
              "color": "white"
             }
            },
            "header": {
             "fill": {
              "color": "#C8D4E3"
             },
             "line": {
              "color": "white"
             }
            },
            "type": "table"
           }
          ]
         },
         "layout": {
          "annotationdefaults": {
           "arrowcolor": "#2a3f5f",
           "arrowhead": 0,
           "arrowwidth": 1
          },
          "autotypenumbers": "strict",
          "coloraxis": {
           "colorbar": {
            "outlinewidth": 0,
            "ticks": ""
           }
          },
          "colorscale": {
           "diverging": [
            [
             0,
             "#8e0152"
            ],
            [
             0.1,
             "#c51b7d"
            ],
            [
             0.2,
             "#de77ae"
            ],
            [
             0.3,
             "#f1b6da"
            ],
            [
             0.4,
             "#fde0ef"
            ],
            [
             0.5,
             "#f7f7f7"
            ],
            [
             0.6,
             "#e6f5d0"
            ],
            [
             0.7,
             "#b8e186"
            ],
            [
             0.8,
             "#7fbc41"
            ],
            [
             0.9,
             "#4d9221"
            ],
            [
             1,
             "#276419"
            ]
           ],
           "sequential": [
            [
             0,
             "#0d0887"
            ],
            [
             0.1111111111111111,
             "#46039f"
            ],
            [
             0.2222222222222222,
             "#7201a8"
            ],
            [
             0.3333333333333333,
             "#9c179e"
            ],
            [
             0.4444444444444444,
             "#bd3786"
            ],
            [
             0.5555555555555556,
             "#d8576b"
            ],
            [
             0.6666666666666666,
             "#ed7953"
            ],
            [
             0.7777777777777778,
             "#fb9f3a"
            ],
            [
             0.8888888888888888,
             "#fdca26"
            ],
            [
             1,
             "#f0f921"
            ]
           ],
           "sequentialminus": [
            [
             0,
             "#0d0887"
            ],
            [
             0.1111111111111111,
             "#46039f"
            ],
            [
             0.2222222222222222,
             "#7201a8"
            ],
            [
             0.3333333333333333,
             "#9c179e"
            ],
            [
             0.4444444444444444,
             "#bd3786"
            ],
            [
             0.5555555555555556,
             "#d8576b"
            ],
            [
             0.6666666666666666,
             "#ed7953"
            ],
            [
             0.7777777777777778,
             "#fb9f3a"
            ],
            [
             0.8888888888888888,
             "#fdca26"
            ],
            [
             1,
             "#f0f921"
            ]
           ]
          },
          "colorway": [
           "#636efa",
           "#EF553B",
           "#00cc96",
           "#ab63fa",
           "#FFA15A",
           "#19d3f3",
           "#FF6692",
           "#B6E880",
           "#FF97FF",
           "#FECB52"
          ],
          "font": {
           "color": "#2a3f5f"
          },
          "geo": {
           "bgcolor": "white",
           "lakecolor": "white",
           "landcolor": "#E5ECF6",
           "showlakes": true,
           "showland": true,
           "subunitcolor": "white"
          },
          "hoverlabel": {
           "align": "left"
          },
          "hovermode": "closest",
          "mapbox": {
           "style": "light"
          },
          "paper_bgcolor": "white",
          "plot_bgcolor": "#E5ECF6",
          "polar": {
           "angularaxis": {
            "gridcolor": "white",
            "linecolor": "white",
            "ticks": ""
           },
           "bgcolor": "#E5ECF6",
           "radialaxis": {
            "gridcolor": "white",
            "linecolor": "white",
            "ticks": ""
           }
          },
          "scene": {
           "xaxis": {
            "backgroundcolor": "#E5ECF6",
            "gridcolor": "white",
            "gridwidth": 2,
            "linecolor": "white",
            "showbackground": true,
            "ticks": "",
            "zerolinecolor": "white"
           },
           "yaxis": {
            "backgroundcolor": "#E5ECF6",
            "gridcolor": "white",
            "gridwidth": 2,
            "linecolor": "white",
            "showbackground": true,
            "ticks": "",
            "zerolinecolor": "white"
           },
           "zaxis": {
            "backgroundcolor": "#E5ECF6",
            "gridcolor": "white",
            "gridwidth": 2,
            "linecolor": "white",
            "showbackground": true,
            "ticks": "",
            "zerolinecolor": "white"
           }
          },
          "shapedefaults": {
           "line": {
            "color": "#2a3f5f"
           }
          },
          "ternary": {
           "aaxis": {
            "gridcolor": "white",
            "linecolor": "white",
            "ticks": ""
           },
           "baxis": {
            "gridcolor": "white",
            "linecolor": "white",
            "ticks": ""
           },
           "bgcolor": "#E5ECF6",
           "caxis": {
            "gridcolor": "white",
            "linecolor": "white",
            "ticks": ""
           }
          },
          "title": {
           "x": 0.05
          },
          "xaxis": {
           "automargin": true,
           "gridcolor": "white",
           "linecolor": "white",
           "ticks": "",
           "title": {
            "standoff": 15
           },
           "zerolinecolor": "white",
           "zerolinewidth": 2
          },
          "yaxis": {
           "automargin": true,
           "gridcolor": "white",
           "linecolor": "white",
           "ticks": "",
           "title": {
            "standoff": 15
           },
           "zerolinecolor": "white",
           "zerolinewidth": 2
          }
         }
        },
        "title": {
         "text": "Candlestick Chart with Volume"
        },
        "width": 1200,
        "xaxis": {
         "anchor": "y",
         "domain": [
          0,
          1
         ],
         "gridcolor": "lightgrey",
         "gridwidth": 1,
         "matches": "x2",
         "rangeslider": {
          "visible": false
         },
         "showticklabels": false
        },
        "xaxis2": {
         "anchor": "y2",
         "domain": [
          0,
          1
         ]
        },
        "yaxis": {
         "anchor": "x",
         "domain": [
          0.307,
          1
         ],
         "gridcolor": "lightgrey",
         "gridwidth": 1
        },
        "yaxis2": {
         "anchor": "x2",
         "domain": [
          0,
          0.297
         ]
        }
       }
      }
     },
     "metadata": {},
     "output_type": "display_data"
    }
   ],
   "source": [
    "data = yf.download(\"BTC-USD\", start=\"2022-01-01\", end=\"2022-03-01\")\n",
    "\n",
    "colors = ['green' if row['Close'] > row['Open'] else 'red' for index, row in data.iterrows()]\n",
    "fig = make_subplots(rows=2, cols=1, shared_xaxes=True, row_heights=[0.7, 0.3], vertical_spacing=0.01)\n",
    "\n",
    "# remove summary bar from ployly chart\n",
    "fig.update_layout(showlegend=False)\n",
    "\n",
    "fig.add_trace(go.Candlestick(x=data.index,\n",
    "                open=data['Open'],\n",
    "                high=data['High'],\n",
    "                low=data['Low'],\n",
    "                close=data['Close'],\n",
    "                ),\n",
    "              row=1, col=1)\n",
    "\n",
    "\n",
    "# Add the volume bars\n",
    "fig.add_trace(\n",
    "    go.Bar(\n",
    "        x=data.index,\n",
    "        y=data['Volume'],\n",
    "        name='Volume',\n",
    "        marker=dict(color=colors, opacity=0.6)\n",
    "    ),\n",
    "    row=2, col=1\n",
    ")\n",
    "\n",
    "\n",
    "fig.update_layout(\n",
    "    height=800,  # increase height to 600 pixels\n",
    "    width=1200,  # increase width to 800 pixels\n",
    "    xaxis_rangeslider_visible=False,\n",
    "    title_text=\"Candlestick Chart with Volume\",\n",
    "    paper_bgcolor='rgb(13, 20, 39)',\n",
    "    plot_bgcolor='rgb(13, 20, 39)',\n",
    "    font_color='white',\n",
    "    xaxis=dict(gridcolor='lightgrey', gridwidth=1),\n",
    "    yaxis=dict(gridcolor='lightgrey',gridwidth=1)\n",
    ")\n",
    "\n",
    "\n",
    "# fig.show(renderer=\"browser\")\n",
    "fig.show()"
   ]
  }
 ],
 "metadata": {
  "kernelspec": {
   "display_name": "backtesting",
   "language": "python",
   "name": "python3"
  },
  "language_info": {
   "codemirror_mode": {
    "name": "ipython",
    "version": 3
   },
   "file_extension": ".py",
   "mimetype": "text/x-python",
   "name": "python",
   "nbconvert_exporter": "python",
   "pygments_lexer": "ipython3",
   "version": "3.10.14"
  }
 },
 "nbformat": 4,
 "nbformat_minor": 2
}
